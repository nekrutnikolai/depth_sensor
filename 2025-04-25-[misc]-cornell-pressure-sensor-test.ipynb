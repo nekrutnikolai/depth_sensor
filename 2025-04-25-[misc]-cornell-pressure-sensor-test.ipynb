{
  "cells": [
    {
      "cell_type": "markdown",
      "metadata": {},
      "source": [
        "# 2025-04-25: Cornell Pressure Sensor Test  \n",
        "2025-04-25  \n",
        "Project: misc  \n",
        "Jonathan Pfeifer  "
      ]
    },
    {
      "cell_type": "markdown",
      "metadata": {},
      "source": [
        "## Purpose\n",
        "This is a retest of Nikolai's pressure sensor. I rebuilt the main module and will retest with some additional testing as well to get some characterization data out of it."
      ]
    },
    {
      "cell_type": "markdown",
      "metadata": {},
      "source": [
        "## Building the sensor\n",
        "```{figure} ../images/jb/2025-04-25-decapped-picow.jpg\n",
        ":name: 2025-04-25-figure-decapped-picow\n",
        "The first step was to take off the shield on the wireless chip. We hypothesized that this shield might be the reason Nikolai's original failed. I took it upstairs to AVAST and and hit it with the reflow solder and took it off. I also took two small capacitors with it, but since I have no plan to use the wireless features I think this is okay.\n",
        "```\n",
        "\n",
        "Then I soldered all the wires and boards together. Unfortunately forgot to take pictures here. But I just followed the images Nikolai provided for assembly. \n",
        "\n",
        "```{figure} ../images/jb/2025-04-25-potting.jpg\n",
        ":name: 2025-04-25-figure-potting\n",
        "The next step was potting the electronics. I used a standard 4N resin and then pulled the strongest vacuum on it that I could (about -0.7bar). I cycled the vacuum on and off, and tapped the box back and forth to get as many air bubbles to come out as possible. After about 5 minutes of this I released the vacuum and allowed it to finish curing overnight\n",
        "```\n",
        "\n",
        "```{figure} ../images/jb/2025-04-25-attached-unit.jpg\n",
        ":name: 2025-04-25-figure-attached-unit\n",
        "My orientation is different than Nikolai's original. I flipped both the sensor and the magnet around. The sensor has such a short cable that I had to do it this way. \n",
        "```"
      ]
    },
    {
      "cell_type": "markdown",
      "metadata": {},
      "source": [
        "## Code\n",
        "Here is the app code I am using to collect all the data for these trials. It opens up a GUI you can use. (Note, apparently this app is super glitchy and isn't recording correctly. So just be aware of that. I have now had to go back and re-record data number of times which is frustrating)\n"
      ]
    },
    {
      "cell_type": "code",
      "execution_count": 1,
      "metadata": {},
      "outputs": [],
      "source": [
        "#!/usr/bin/env python3\n",
        "\n",
        "import serial\n",
        "import csv\n",
        "import datetime\n",
        "import os\n",
        "import tkinter as tk\n",
        "from tkinter import ttk, messagebox\n",
        "from serial.tools import list_ports\n",
        "from matplotlib.backends.backend_tkagg import FigureCanvasTkAgg\n",
        "import matplotlib.pyplot as plt\n",
        "from matplotlib.animation import FuncAnimation\n",
        "from matplotlib.lines import Line2D\n",
        "from time import time\n",
        "\n",
        "# --- USER SETTINGS ---\n",
        "SAVE_DIR = \"../data/raw/cornell-sensor/\"\n",
        "os.makedirs(SAVE_DIR, exist_ok=True)\n",
        "\n",
        "\n",
        "class Plotter:\n",
        "    def __init__(self, ax):\n",
        "        self.ax = ax\n",
        "        self.maxt = 10000\n",
        "        self.tdata = [0]\n",
        "        self.ydata = {0: [2048], 1: [2048], 2: [2048]}\n",
        "        self.lines = {\n",
        "            0: Line2D(self.tdata, self.ydata[0], color='C0', label='ADC0'),\n",
        "            1: Line2D(self.tdata, self.ydata[1], color='C1', label='ADC1'),\n",
        "            2: Line2D(self.tdata, self.ydata[2], color='C2', label='ADC2'),\n",
        "        }\n",
        "\n",
        "        for line in self.lines.values():\n",
        "            self.ax.add_line(line)\n",
        "\n",
        "        self.ax.set_autoscaley_on(True)\n",
        "        self.ax.set_autoscalex_on(True)\n",
        "        self.ax.legend(loc='upper right')\n",
        "\n",
        "    def update(self, adc_vals):\n",
        "        if adc_vals is None:\n",
        "            return tuple(self.lines.values())\n",
        "\n",
        "        now = time()\n",
        "        timestamp = int((now - start_time) * 1000)\n",
        "        human_time = datetime.datetime.now().strftime(\"%Y-%m-%d %H:%M:%S\")\n",
        "\n",
        "        if app.raw_logging:\n",
        "            app.raw_writer.writerow([human_time, timestamp, adc_vals[0], adc_vals[1], adc_vals[2]])\n",
        "\n",
        "        if app.custom_logging:\n",
        "            app.custom_writer.writerow([\n",
        "                human_time, timestamp, adc_vals[0], adc_vals[1], adc_vals[2],\n",
        "                app.data_type.get(), app.data_value.get()\n",
        "            ])\n",
        "\n",
        "        lastt = self.tdata[-1]\n",
        "        t = lastt + 1\n",
        "        self.tdata.append(t)\n",
        "        for ch in adc_vals:\n",
        "            self.ydata[ch].append(adc_vals[ch])\n",
        "            self.lines[ch].set_data(self.tdata, self.ydata[ch])\n",
        "        self.ax.relim()\n",
        "        self.ax.autoscale_view()\n",
        "        if self.tdata:\n",
        "            xmin = min(self.tdata)\n",
        "            xmax = max(self.tdata)\n",
        "            self.ax.set_xlim(xmin, xmax + (xmax - xmin) * 0.05 if xmax > xmin else xmax + 10)\n",
        "\n",
        "\n",
        "        return tuple(self.lines.values())\n",
        "\n",
        "\n",
        "def serial_getter():\n",
        "    buffer = {0: [], 1: [], 2: []}\n",
        "    last_emit_time = time()\n",
        "    discard_count = 1\n",
        "\n",
        "    while True:\n",
        "        line = app.ser.readline().decode(errors='ignore').strip()\n",
        "        if line.startswith(\"ADC\"):\n",
        "            try:\n",
        "                parts = line.split(\":\")\n",
        "                chan = int(parts[0][3])\n",
        "                val = int(parts[1].strip())\n",
        "                buffer[chan].append(val)\n",
        "            except Exception:\n",
        "                continue\n",
        "\n",
        "        if time() - last_emit_time >= 1 and all(buffer[ch] for ch in [0, 1, 2]):\n",
        "            last_emit_time = time()\n",
        "            if discard_count > 0:\n",
        "                discard_count -= 1\n",
        "                buffer = {0: [], 1: [], 2: []}\n",
        "                continue\n",
        "\n",
        "            avg_vals = {\n",
        "                ch: int(sum(buffer[ch]) / len(buffer[ch])) if buffer[ch] else 2048\n",
        "                for ch in buffer\n",
        "            }\n",
        "            yield avg_vals\n",
        "            buffer = {0: [], 1: [], 2: []}\n",
        "\n",
        "\n",
        "class App(tk.Tk):\n",
        "    def __init__(self):\n",
        "        super().__init__()\n",
        "        self.title(\"3-Channel ADC Logger\")\n",
        "\n",
        "        self.raw_logging = False\n",
        "        self.custom_logging = Fal     \n",
        "        self.ser = None\n",
        "        self.custom_file = None\n",
        "        self.raw_file = None\n",
        "\n",
        "        # Variables\n",
        "        self.filename_var = tk.StringVar()\n",
        "        self.data_type = tk.StringVar()\n",
        "        self.data_value = tk.StringVar()\n",
        "        self.com_port = tk.StringVar()\n",
        "\n",
        "        # COM Port selector\n",
        "        ttk.Label(self, text=\"COM Port:\").grid(row=0, column=0)\n",
        "        self.com_ports = [p.device for p in list_ports.comports()]\n",
        "        self.com_port.set(self.com_ports[0] if self.com_ports else \"\")\n",
        "        self.com_dropdown = ttk.Combobox(self, values=self.com_ports, textvariable=self.com_port, state=\"readonly\")\n",
        "        self.com_dropdown.grid(row=0, column=1, columnspan=2)\n",
        "\n",
        "        # Logging controls\n",
        "        ttk.Label(self, text=\"CSV Filename Prefix:\").grid(row=1, column=0)\n",
        "        ttk.Entry(self, textvariable=self.filename_var).grid(row=1, column=1)\n",
        "        ttk.Button(self, text=\"Start Raw Logging\", command=self.start_raw).grid(row=1, column=2)\n",
        "        ttk.Button(self, text=\"Stop Raw Logging\", command=self.stop_raw).grid(row=1, column=3)\n",
        "\n",
        "        ttk.Label(self, text=\"Data Type:\").grid(row=2, column=0)\n",
        "        ttk.Entry(self, textvariable=self.data_type).grid(row=2, column=1)\n",
        "        ttk.Label(self, text=\"Data Value:\").grid(row=2, column=2)\n",
        "        ttk.Entry(self, textvariable=self.data_value).grid(row=2, column=3)\n",
        "        ttk.Button(self, text=\"Start Custom Logging\", command=self.start_custom).grid(row=2, column=4)\n",
        "        ttk.Button(self, text=\"Stop Custom Logging\", command=self.stop_custom).grid(row=2, column=5)\n",
        "\n",
        "        # Status box\n",
        "        ttk.Label(self, text=\"Status:\").grid(row=4, column=0, sticky='e')\n",
        "        self.status_text = tk.StringVar(value=\"Idle\")\n",
        "        ttk.Label(self, textvariable=self.status_text, foreground=\"blue\").grid(row=4, column=1, columnspan=4, sticky='w')\n",
        "\n",
        "        # Plot\n",
        "        fig, ax = plt.subplots()\n",
        "        self.plotter = Plotter(ax)\n",
        "        self.canvas = FigureCanvasTkAgg(fig, master=self)\n",
        "        self.canvas.get_tk_widget().grid(row=3, column=0, columnspan=6)\n",
        "\n",
        "        self.ani = None\n",
        "        self.protocol(\"WM_DELETE_WINDOW\", self.on_close)\n",
        "\n",
        "    def update_status(self, message):\n",
        "        self.status_text.set(message)\n",
        "\n",
        "    def init_serial(self):\n",
        "        try:\n",
        "            self.ser = serial.Serial(self.com_port.get(), 115200, timeout=1)\n",
        "            global start_time\n",
        "            start_time = time()\n",
        "            if not self.ani:\n",
        "                self.ani = FuncAnimation(self.plotter.ax.figure, self.plotter.update, serial_getter,\n",
        "                                         interval=1, blit=True, cache_frame_data=False)\n",
        "        except Exception as e:\n",
        "            messagebox.showerror(\"Serial Error\", f\"Failed to open serial port: {e}\")\n",
        "            return False\n",
        "        return True\n",
        "\n",
        "    def start_raw(self):\n",
        "        if not self.ser and not self.init_serial():\n",
        "            return\n",
        "        filename = self.filename_var.get().strip()\n",
        "        if not filename:\n",
        "            self.update_status(\"Filename required.\")\n",
        "            return\n",
        "\n",
        "        # Create a unique filename with timestamp to prevent overwrite\n",
        "        timestamp = datetime.datetime.now().strftime(\"%Y-%m-%d\")\n",
        "        raw_filename = f\"{timestamp}-{filename}[raw].csv\"\n",
        "        path = os.path.join(SAVE_DIR, raw_filename)\n",
        "\n",
        "        self.raw_file = open(path, \"w\", newline='')\n",
        "        self.raw_writer = csv.writer(self.raw_file)\n",
        "        self.raw_writer.writerow([\"datetime\", \"ms_elapsed\", \"ADC0\", \"ADC1\", \"ADC2\"])\n",
        "        self.raw_logging = True\n",
        "        self.update_status(f\"Started raw logging to {raw_filename}\")\n",
        "\n",
        "    def stop_raw(self):\n",
        "        if self.raw_logging and self.raw_file:\n",
        "            self.raw_file.close()\n",
        "            self.raw_file = None\n",
        "        self.raw_logging = False\n",
        "        self.update_status(\"Stopped raw logging.\")\n",
        "\n",
        "    def start_custom(self):\n",
        "        if not self.ser and not self.init_serial():\n",
        "            return\n",
        "        filename = self.filename_var.get().strip()\n",
        "        if not filename:\n",
        "            self.update_status(\"Filename required.\")\n",
        "            return\n",
        "        timestamp = datetime.datetime.now().strftime(\"%Y-%m-%d\")\n",
        "        path = os.path.join(SAVE_DIR, f\"{timestamp}-{filename}[customfield].csv\")\n",
        "        if self.custom_file is None:\n",
        "            file_exists = os.path.exists(path)\n",
        "            self.custom_file = open(path, \"a\", newline='')\n",
        "            self.custom_writer = csv.writer(self.custom_file)\n",
        "            if not file_exists:\n",
        "                self.custom_writer.writerow([\"datetime\", \"ms_elapsed\", \"ADC0\", \"ADC1\", \"ADC2\", \"DataType\", \"DataValue\"])\n",
        "        self.custom_logging = True\n",
        "        self.update_status(\"Started custom logging.\")\n",
        "\n",
        "    def stop_custom(self):\n",
        "        self.custom_logging = False\n",
        "        self.update_status(\"Stopped custom logging.\")\n",
        "\n",
        "    def on_close(self):\n",
        "        self.stop_raw()\n",
        "        self.stop_custom()\n",
        "        if self.custom_file:\n",
        "            self.custom_file.close()\n",
        "            self.custom_file = None\n",
        "        if self.ser and self.ser.is_open:\n",
        "            self.ser.close()\n",
        "        self.destroy()\n",
        "\n",
        "\n",
        "# Run the app\n",
        "#app = App()\n",
        "#app.mainloop()\n"
      ]
    },
    {
      "cell_type": "markdown",
      "metadata": {},
      "source": [
        "## Distance Test\n",
        "\n",
        "One of the first things I want to know is what hall effect measurements are which distance unit. I took a ruler and marked every 2mm along the opening of the housing for the magnet. I then used a screwdriver to position the magnet shuttle at each stop and recorded the resulting readings. I used the bottom o-ring as the location index of the shuttle since it is easier to see than the edge of the red part. \n",
        "```{figure} ../images/jb/2025-04-25-ruler.jpg\n",
        ":name: 2025-04-25-figure-ruler\n",
        "Here is the ruler that I marked onto the unit. I used a screwdriver and a zip tie to align the magnet back and forth. I made sure to pull of the screwdriver before measuring that it wouldn't alter the magnetic flux of the magnet.  \n",
        "```\n",
        "\n",
        "I went back and forth a couple of times recording the readings at each mark. \n",
        "\n",
        "### Distance Test Results"
      ]
    },
    {
      "cell_type": "code",
      "execution_count": 4,
      "metadata": {},
      "outputs": [
        {
          "data": {
            "application/vnd.plotly.v1+json": {
              "config": {
                "plotlyServerURL": "https://plot.ly"
              },
              "data": [
                {
                  "mode": "lines+markers",
                  "name": "ADC0",
                  "type": "scatter",
                  "x": {
                    "bdata": "AAIEBggKDA4QEhQWGBocHiAiJA==",
                    "dtype": "i1"
                  },
                  "y": {
                    "bdata": "7MRO7MSEoEA5juM4jpegQFVVVVXVrKBAAAAAAIDLoEC8u7u7u/mgQLy7u7u7O6FAq6qqqqqYoUA8PDw8PDCiQGG5pxGWD6NAdM4555xbpEAppZRSSu+lQLKQhSxk66dAbtu2bVsMqUC66KKLLmCoQOU1lNdQdqVA5TWU11BQoUCjiy666KCbQKJ2JWpX7pRA1g2myGf9j0A=",
                    "dtype": "f8"
                  }
                },
                {
                  "mode": "lines+markers",
                  "name": "ADC1",
                  "type": "scatter",
                  "x": {
                    "bdata": "AAIEBggKDA4QEhQWGBocHiAiJA==",
                    "dtype": "i1"
                  },
                  "y": {
                    "bdata": "ip3YiZ2QoUDHcRzHcS6iQKuqqqoq8aJAq6qqqqoHpECamZmZmaelQLy7u7u7g6dAMzMzMzPLqEA8PDw8PHqoQMs9jbDcE6ZAIYQQQghJokDnnHPOOVedQAAAAAAArJVAAAAAAACDkEDpoosuukyOQMprKK+hhJFANpTXUF6flUC66KKLLmqYQFeidiVqz5pAn3WDKfKZnEA=",
                    "dtype": "f8"
                  }
                },
                {
                  "mode": "lines+markers",
                  "name": "ADC2",
                  "type": "scatter",
                  "x": {
                    "bdata": "AAIEBggKDA4QEhQWGBocHiAiJA==",
                    "dtype": "i1"
                  },
                  "y": {
                    "bdata": "AAAAAACuqEDkOI7jOAKoQAAAAACAt6VAVVVVVVVeokAAAAAAAAidQFVVVVVV4ZVAERERERHhkEDT0tLS0oqOQOaeRljugZFASimllFJqlUDXWmuttVaYQN/0pje9+ZpAbtu2bdujnEAXXXTRRbmdQFFeQ3kNjZ5AUV5DeQ0dn0Avuuiii2qfQM7H4HwMpp9An3WDKfLVn0A=",
                    "dtype": "f8"
                  }
                }
              ],
              "layout": {
                "template": {
                  "data": {
                    "bar": [
                      {
                        "error_x": {
                          "color": "#2a3f5f"
                        },
                        "error_y": {
                          "color": "#2a3f5f"
                        },
                        "marker": {
                          "line": {
                            "color": "#E5ECF6",
                            "width": 0.5
                          },
                          "pattern": {
                            "fillmode": "overlay",
                            "size": 10,
                            "solidity": 0.2
                          }
                        },
                        "type": "bar"
                      }
                    ],
                    "barpolar": [
                      {
                        "marker": {
                          "line": {
                            "color": "#E5ECF6",
                            "width": 0.5
                          },
                          "pattern": {
                            "fillmode": "overlay",
                            "size": 10,
                            "solidity": 0.2
                          }
                        },
                        "type": "barpolar"
                      }
                    ],
                    "carpet": [
                      {
                        "aaxis": {
                          "endlinecolor": "#2a3f5f",
                          "gridcolor": "white",
                          "linecolor": "white",
                          "minorgridcolor": "white",
                          "startlinecolor": "#2a3f5f"
                        },
                        "baxis": {
                          "endlinecolor": "#2a3f5f",
                          "gridcolor": "white",
                          "linecolor": "white",
                          "minorgridcolor": "white",
                          "startlinecolor": "#2a3f5f"
                        },
                        "type": "carpet"
                      }
                    ],
                    "choropleth": [
                      {
                        "colorbar": {
                          "outlinewidth": 0,
                          "ticks": ""
                        },
                        "type": "choropleth"
                      }
                    ],
                    "contour": [
                      {
                        "colorbar": {
                          "outlinewidth": 0,
                          "ticks": ""
                        },
                        "colorscale": [
                          [
                            0,
                            "#0d0887"
                          ],
                          [
                            0.1111111111111111,
                            "#46039f"
                          ],
                          [
                            0.2222222222222222,
                            "#7201a8"
                          ],
                          [
                            0.3333333333333333,
                            "#9c179e"
                          ],
                          [
                            0.4444444444444444,
                            "#bd3786"
                          ],
                          [
                            0.5555555555555556,
                            "#d8576b"
                          ],
                          [
                            0.6666666666666666,
                            "#ed7953"
                          ],
                          [
                            0.7777777777777778,
                            "#fb9f3a"
                          ],
                          [
                            0.8888888888888888,
                            "#fdca26"
                          ],
                          [
                            1,
                            "#f0f921"
                          ]
                        ],
                        "type": "contour"
                      }
                    ],
                    "contourcarpet": [
                      {
                        "colorbar": {
                          "outlinewidth": 0,
                          "ticks": ""
                        },
                        "type": "contourcarpet"
                      }
                    ],
                    "heatmap": [
                      {
                        "colorbar": {
                          "outlinewidth": 0,
                          "ticks": ""
                        },
                        "colorscale": [
                          [
                            0,
                            "#0d0887"
                          ],
                          [
                            0.1111111111111111,
                            "#46039f"
                          ],
                          [
                            0.2222222222222222,
                            "#7201a8"
                          ],
                          [
                            0.3333333333333333,
                            "#9c179e"
                          ],
                          [
                            0.4444444444444444,
                            "#bd3786"
                          ],
                          [
                            0.5555555555555556,
                            "#d8576b"
                          ],
                          [
                            0.6666666666666666,
                            "#ed7953"
                          ],
                          [
                            0.7777777777777778,
                            "#fb9f3a"
                          ],
                          [
                            0.8888888888888888,
                            "#fdca26"
                          ],
                          [
                            1,
                            "#f0f921"
                          ]
                        ],
                        "type": "heatmap"
                      }
                    ],
                    "histogram": [
                      {
                        "marker": {
                          "pattern": {
                            "fillmode": "overlay",
                            "size": 10,
                            "solidity": 0.2
                          }
                        },
                        "type": "histogram"
                      }
                    ],
                    "histogram2d": [
                      {
                        "colorbar": {
                          "outlinewidth": 0,
                          "ticks": ""
                        },
                        "colorscale": [
                          [
                            0,
                            "#0d0887"
                          ],
                          [
                            0.1111111111111111,
                            "#46039f"
                          ],
                          [
                            0.2222222222222222,
                            "#7201a8"
                          ],
                          [
                            0.3333333333333333,
                            "#9c179e"
                          ],
                          [
                            0.4444444444444444,
                            "#bd3786"
                          ],
                          [
                            0.5555555555555556,
                            "#d8576b"
                          ],
                          [
                            0.6666666666666666,
                            "#ed7953"
                          ],
                          [
                            0.7777777777777778,
                            "#fb9f3a"
                          ],
                          [
                            0.8888888888888888,
                            "#fdca26"
                          ],
                          [
                            1,
                            "#f0f921"
                          ]
                        ],
                        "type": "histogram2d"
                      }
                    ],
                    "histogram2dcontour": [
                      {
                        "colorbar": {
                          "outlinewidth": 0,
                          "ticks": ""
                        },
                        "colorscale": [
                          [
                            0,
                            "#0d0887"
                          ],
                          [
                            0.1111111111111111,
                            "#46039f"
                          ],
                          [
                            0.2222222222222222,
                            "#7201a8"
                          ],
                          [
                            0.3333333333333333,
                            "#9c179e"
                          ],
                          [
                            0.4444444444444444,
                            "#bd3786"
                          ],
                          [
                            0.5555555555555556,
                            "#d8576b"
                          ],
                          [
                            0.6666666666666666,
                            "#ed7953"
                          ],
                          [
                            0.7777777777777778,
                            "#fb9f3a"
                          ],
                          [
                            0.8888888888888888,
                            "#fdca26"
                          ],
                          [
                            1,
                            "#f0f921"
                          ]
                        ],
                        "type": "histogram2dcontour"
                      }
                    ],
                    "mesh3d": [
                      {
                        "colorbar": {
                          "outlinewidth": 0,
                          "ticks": ""
                        },
                        "type": "mesh3d"
                      }
                    ],
                    "parcoords": [
                      {
                        "line": {
                          "colorbar": {
                            "outlinewidth": 0,
                            "ticks": ""
                          }
                        },
                        "type": "parcoords"
                      }
                    ],
                    "pie": [
                      {
                        "automargin": true,
                        "type": "pie"
                      }
                    ],
                    "scatter": [
                      {
                        "fillpattern": {
                          "fillmode": "overlay",
                          "size": 10,
                          "solidity": 0.2
                        },
                        "type": "scatter"
                      }
                    ],
                    "scatter3d": [
                      {
                        "line": {
                          "colorbar": {
                            "outlinewidth": 0,
                            "ticks": ""
                          }
                        },
                        "marker": {
                          "colorbar": {
                            "outlinewidth": 0,
                            "ticks": ""
                          }
                        },
                        "type": "scatter3d"
                      }
                    ],
                    "scattercarpet": [
                      {
                        "marker": {
                          "colorbar": {
                            "outlinewidth": 0,
                            "ticks": ""
                          }
                        },
                        "type": "scattercarpet"
                      }
                    ],
                    "scattergeo": [
                      {
                        "marker": {
                          "colorbar": {
                            "outlinewidth": 0,
                            "ticks": ""
                          }
                        },
                        "type": "scattergeo"
                      }
                    ],
                    "scattergl": [
                      {
                        "marker": {
                          "colorbar": {
                            "outlinewidth": 0,
                            "ticks": ""
                          }
                        },
                        "type": "scattergl"
                      }
                    ],
                    "scattermap": [
                      {
                        "marker": {
                          "colorbar": {
                            "outlinewidth": 0,
                            "ticks": ""
                          }
                        },
                        "type": "scattermap"
                      }
                    ],
                    "scattermapbox": [
                      {
                        "marker": {
                          "colorbar": {
                            "outlinewidth": 0,
                            "ticks": ""
                          }
                        },
                        "type": "scattermapbox"
                      }
                    ],
                    "scatterpolar": [
                      {
                        "marker": {
                          "colorbar": {
                            "outlinewidth": 0,
                            "ticks": ""
                          }
                        },
                        "type": "scatterpolar"
                      }
                    ],
                    "scatterpolargl": [
                      {
                        "marker": {
                          "colorbar": {
                            "outlinewidth": 0,
                            "ticks": ""
                          }
                        },
                        "type": "scatterpolargl"
                      }
                    ],
                    "scatterternary": [
                      {
                        "marker": {
                          "colorbar": {
                            "outlinewidth": 0,
                            "ticks": ""
                          }
                        },
                        "type": "scatterternary"
                      }
                    ],
                    "surface": [
                      {
                        "colorbar": {
                          "outlinewidth": 0,
                          "ticks": ""
                        },
                        "colorscale": [
                          [
                            0,
                            "#0d0887"
                          ],
                          [
                            0.1111111111111111,
                            "#46039f"
                          ],
                          [
                            0.2222222222222222,
                            "#7201a8"
                          ],
                          [
                            0.3333333333333333,
                            "#9c179e"
                          ],
                          [
                            0.4444444444444444,
                            "#bd3786"
                          ],
                          [
                            0.5555555555555556,
                            "#d8576b"
                          ],
                          [
                            0.6666666666666666,
                            "#ed7953"
                          ],
                          [
                            0.7777777777777778,
                            "#fb9f3a"
                          ],
                          [
                            0.8888888888888888,
                            "#fdca26"
                          ],
                          [
                            1,
                            "#f0f921"
                          ]
                        ],
                        "type": "surface"
                      }
                    ],
                    "table": [
                      {
                        "cells": {
                          "fill": {
                            "color": "#EBF0F8"
                          },
                          "line": {
                            "color": "white"
                          }
                        },
                        "header": {
                          "fill": {
                            "color": "#C8D4E3"
                          },
                          "line": {
                            "color": "white"
                          }
                        },
                        "type": "table"
                      }
                    ]
                  },
                  "layout": {
                    "annotationdefaults": {
                      "arrowcolor": "#2a3f5f",
                      "arrowhead": 0,
                      "arrowwidth": 1
                    },
                    "autotypenumbers": "strict",
                    "coloraxis": {
                      "colorbar": {
                        "outlinewidth": 0,
                        "ticks": ""
                      }
                    },
                    "colorscale": {
                      "diverging": [
                        [
                          0,
                          "#8e0152"
                        ],
                        [
                          0.1,
                          "#c51b7d"
                        ],
                        [
                          0.2,
                          "#de77ae"
                        ],
                        [
                          0.3,
                          "#f1b6da"
                        ],
                        [
                          0.4,
                          "#fde0ef"
                        ],
                        [
                          0.5,
                          "#f7f7f7"
                        ],
                        [
                          0.6,
                          "#e6f5d0"
                        ],
                        [
                          0.7,
                          "#b8e186"
                        ],
                        [
                          0.8,
                          "#7fbc41"
                        ],
                        [
                          0.9,
                          "#4d9221"
                        ],
                        [
                          1,
                          "#276419"
                        ]
                      ],
                      "sequential": [
                        [
                          0,
                          "#0d0887"
                        ],
                        [
                          0.1111111111111111,
                          "#46039f"
                        ],
                        [
                          0.2222222222222222,
                          "#7201a8"
                        ],
                        [
                          0.3333333333333333,
                          "#9c179e"
                        ],
                        [
                          0.4444444444444444,
                          "#bd3786"
                        ],
                        [
                          0.5555555555555556,
                          "#d8576b"
                        ],
                        [
                          0.6666666666666666,
                          "#ed7953"
                        ],
                        [
                          0.7777777777777778,
                          "#fb9f3a"
                        ],
                        [
                          0.8888888888888888,
                          "#fdca26"
                        ],
                        [
                          1,
                          "#f0f921"
                        ]
                      ],
                      "sequentialminus": [
                        [
                          0,
                          "#0d0887"
                        ],
                        [
                          0.1111111111111111,
                          "#46039f"
                        ],
                        [
                          0.2222222222222222,
                          "#7201a8"
                        ],
                        [
                          0.3333333333333333,
                          "#9c179e"
                        ],
                        [
                          0.4444444444444444,
                          "#bd3786"
                        ],
                        [
                          0.5555555555555556,
                          "#d8576b"
                        ],
                        [
                          0.6666666666666666,
                          "#ed7953"
                        ],
                        [
                          0.7777777777777778,
                          "#fb9f3a"
                        ],
                        [
                          0.8888888888888888,
                          "#fdca26"
                        ],
                        [
                          1,
                          "#f0f921"
                        ]
                      ]
                    },
                    "colorway": [
                      "#636efa",
                      "#EF553B",
                      "#00cc96",
                      "#ab63fa",
                      "#FFA15A",
                      "#19d3f3",
                      "#FF6692",
                      "#B6E880",
                      "#FF97FF",
                      "#FECB52"
                    ],
                    "font": {
                      "color": "#2a3f5f"
                    },
                    "geo": {
                      "bgcolor": "white",
                      "lakecolor": "white",
                      "landcolor": "#E5ECF6",
                      "showlakes": true,
                      "showland": true,
                      "subunitcolor": "white"
                    },
                    "hoverlabel": {
                      "align": "left"
                    },
                    "hovermode": "closest",
                    "mapbox": {
                      "style": "light"
                    },
                    "paper_bgcolor": "white",
                    "plot_bgcolor": "#E5ECF6",
                    "polar": {
                      "angularaxis": {
                        "gridcolor": "white",
                        "linecolor": "white",
                        "ticks": ""
                      },
                      "bgcolor": "#E5ECF6",
                      "radialaxis": {
                        "gridcolor": "white",
                        "linecolor": "white",
                        "ticks": ""
                      }
                    },
                    "scene": {
                      "xaxis": {
                        "backgroundcolor": "#E5ECF6",
                        "gridcolor": "white",
                        "gridwidth": 2,
                        "linecolor": "white",
                        "showbackground": true,
                        "ticks": "",
                        "zerolinecolor": "white"
                      },
                      "yaxis": {
                        "backgroundcolor": "#E5ECF6",
                        "gridcolor": "white",
                        "gridwidth": 2,
                        "linecolor": "white",
                        "showbackground": true,
                        "ticks": "",
                        "zerolinecolor": "white"
                      },
                      "zaxis": {
                        "backgroundcolor": "#E5ECF6",
                        "gridcolor": "white",
                        "gridwidth": 2,
                        "linecolor": "white",
                        "showbackground": true,
                        "ticks": "",
                        "zerolinecolor": "white"
                      }
                    },
                    "shapedefaults": {
                      "line": {
                        "color": "#2a3f5f"
                      }
                    },
                    "ternary": {
                      "aaxis": {
                        "gridcolor": "white",
                        "linecolor": "white",
                        "ticks": ""
                      },
                      "baxis": {
                        "gridcolor": "white",
                        "linecolor": "white",
                        "ticks": ""
                      },
                      "bgcolor": "#E5ECF6",
                      "caxis": {
                        "gridcolor": "white",
                        "linecolor": "white",
                        "ticks": ""
                      }
                    },
                    "title": {
                      "x": 0.05
                    },
                    "xaxis": {
                      "automargin": true,
                      "gridcolor": "white",
                      "linecolor": "white",
                      "ticks": "",
                      "title": {
                        "standoff": 15
                      },
                      "zerolinecolor": "white",
                      "zerolinewidth": 2
                    },
                    "yaxis": {
                      "automargin": true,
                      "gridcolor": "white",
                      "linecolor": "white",
                      "ticks": "",
                      "title": {
                        "standoff": 15
                      },
                      "zerolinecolor": "white",
                      "zerolinewidth": 2
                    }
                  }
                },
                "title": {
                  "text": "ADC Values vs Distance"
                },
                "xaxis": {
                  "title": {
                    "text": "Distance (mm)"
                  }
                },
                "yaxis": {
                  "title": {
                    "text": "ADC Value"
                  }
                }
              }
            }
          },
          "metadata": {},
          "output_type": "display_data"
        }
      ],
      "source": [
        "import pandas as pd\n",
        "import plotly.graph_objects as go\n",
        "\n",
        "# 1. Load the CSV\n",
        "df = pd.read_csv('2025-04-25-distance-test-[customfield].csv', parse_dates=['datetime'])\n",
        "\n",
        "# 2. Bin by DataValue and compute mean ADC values per bin\n",
        "binned = df.groupby('DataValue').agg({\n",
        "    'ADC0': 'mean',\n",
        "    'ADC1': 'mean',\n",
        "    'ADC2': 'mean'\n",
        "}).reset_index()\n",
        "\n",
        "# 3. Plot with Plotly\n",
        "fig = go.Figure()\n",
        "\n",
        "# Add a line for each ADC channel\n",
        "for adc_col in ['ADC0', 'ADC1', 'ADC2']:\n",
        "    fig.add_trace(go.Scatter(\n",
        "        x=binned['DataValue'],\n",
        "        y=binned[adc_col],\n",
        "        mode='lines+markers',\n",
        "        name=adc_col\n",
        "    ))\n",
        "\n",
        "# 4. Format the plot\n",
        "fig.update_layout(\n",
        "    title='ADC Values vs Distance',\n",
        "    xaxis_title='Distance (mm)',\n",
        "    yaxis_title='ADC Value',\n",
        "\n",
        ")\n",
        "\n",
        "fig.show()\n",
        "#binned.to_csv('../data/processed/cornell-sensor/2025-04-25-distance-test-binned.csv', index=False)"
      ]
    },
    {
      "cell_type": "markdown",
      "metadata": {},
      "source": [
        "So based on this, this full range is pretty sensitive. to get maximum sensitivity during pressure test I might want to have the shuttle start at 6mm on my scale. That way I can detect the smallest changes in pressure in the system. "
      ]
    },
    {
      "cell_type": "markdown",
      "metadata": {},
      "source": [
        "## Pressure test\n",
        "\n",
        "pressure test 1 file is just the venting process. Saw a dramatic change in values just from that. not sure why exactly. \n",
        "- Actually, this file is empty, I must have forgotten to hit start recording. But basically I just saw the signal of the shuttle moving and not coming back to the original position. The start of the next file shows the starting position anyways, so hopefully it isn't a tragic loss.\n",
        "\n",
        "pressure test 2 was a basic pressurizing test to failure. I heard a crunch/pop sound around 230 bar (I think, I was wearing my headphones but heard something strange) and then the system stopped sending data. \n",
        "\n",
        "```{figure} ../images/jb/2025-04-25-start-position.jpg\n",
        ":name: 2025-04-25-figure-start-position\n",
        "The starting position of the shuttle\n",
        "```\n",
        "```{figure} ../images/jb/2025-04-25-distance-set.jpg\n",
        ":name: 2025-04-25-figure-distance-set\n",
        "marked the back plug so i could get consistent volume on it in future tests\n",
        "```\n"
      ]
    },
    {
      "cell_type": "markdown",
      "metadata": {},
      "source": [
        "\n",
        "```{figure} ../images/jb/2025-04-25-pre-pressure-test.jpg\n",
        ":name: 2025-04-25-figure-pre-pressure-test\n",
        "pre pressure test, had it set at 6mm and there was a couple bubbles here and there\n",
        "```\n",
        "```{figure} ../images/jb/2025-04-25-post-test.jpg\n",
        ":name: 2025-04-25-figure-post-test\n",
        "post test the shuttle had moved a good amount to about 11mm and there weren't any bubbles to be seen\n",
        "```\n"
      ]
    },
    {
      "cell_type": "markdown",
      "metadata": {},
      "source": [
        "\n",
        "```{figure} ../images/jb/2025-04-25-top-post-test.jpg\n",
        ":name: 2025-04-25-figure-top-post-test\n",
        "after the test there wasn't anything obviously wrong. There were a couple more holes on the surface, but none of them looked super deep or anything, just as though the surface layer popped and the surface bubble below the surface revealed itself.\n",
        "```\n",
        "```{figure} ../images/jb/2025-04-25-post-test-position.jpg\n",
        ":name: 2025-04-25-figure-post-test-position\n",
        "Here is an image to keep track of the position for volume calculations later. The end of the shuttle is 28mm from the end of the tube (this for the 11mm position that can be seen above in the photo). Due to refraction at this viewing angle it looks like the bottom of shuttle isn't at 0, but it is if you look at it directly from above.\n",
        "```\n",
        "\n",
        "\n",
        "\n",
        "\n",
        "\n"
      ]
    },
    {
      "cell_type": "markdown",
      "metadata": {},
      "source": [
        "### Results"
      ]
    },
    {
      "cell_type": "markdown",
      "metadata": {},
      "source": [
        "### Venting air results"
      ]
    },
    {
      "cell_type": "code",
      "execution_count": 5,
      "metadata": {},
      "outputs": [
        {
          "data": {
            "application/vnd.plotly.v1+json": {
              "config": {
                "plotlyServerURL": "https://plot.ly"
              },
              "data": [
                {
                  "mode": "lines+markers",
                  "name": "ADC0",
                  "type": "scatter",
                  "x": [
                    "2025-04-25T14:49:13.000000000",
                    "2025-04-25T14:49:15.000000000",
                    "2025-04-25T14:49:16.000000000",
                    "2025-04-25T14:49:17.000000000",
                    "2025-04-25T14:49:18.000000000",
                    "2025-04-25T14:49:19.000000000",
                    "2025-04-25T14:49:20.000000000",
                    "2025-04-25T14:49:21.000000000",
                    "2025-04-25T14:49:22.000000000",
                    "2025-04-25T14:49:23.000000000",
                    "2025-04-25T14:49:24.000000000",
                    "2025-04-25T14:49:25.000000000",
                    "2025-04-25T14:49:26.000000000",
                    "2025-04-25T14:49:27.000000000",
                    "2025-04-25T14:49:28.000000000",
                    "2025-04-25T14:49:29.000000000",
                    "2025-04-25T14:49:30.000000000",
                    "2025-04-25T14:49:31.000000000",
                    "2025-04-25T14:49:32.000000000",
                    "2025-04-25T14:49:33.000000000",
                    "2025-04-25T14:49:34.000000000",
                    "2025-04-25T14:49:35.000000000",
                    "2025-04-25T14:49:36.000000000",
                    "2025-04-25T14:49:37.000000000",
                    "2025-04-25T14:49:38.000000000",
                    "2025-04-25T14:49:39.000000000",
                    "2025-04-25T14:49:40.000000000",
                    "2025-04-25T14:49:41.000000000",
                    "2025-04-25T14:49:42.000000000",
                    "2025-04-25T14:49:43.000000000",
                    "2025-04-25T14:49:44.000000000",
                    "2025-04-25T14:49:45.000000000",
                    "2025-04-25T14:49:46.000000000",
                    "2025-04-25T14:49:47.000000000",
                    "2025-04-25T14:49:48.000000000",
                    "2025-04-25T14:49:49.000000000",
                    "2025-04-25T14:49:50.000000000",
                    "2025-04-25T14:49:51.000000000",
                    "2025-04-25T14:49:52.000000000",
                    "2025-04-25T14:49:53.000000000",
                    "2025-04-25T14:49:54.000000000",
                    "2025-04-25T14:49:55.000000000",
                    "2025-04-25T14:49:56.000000000",
                    "2025-04-25T14:49:57.000000000",
                    "2025-04-25T14:49:58.000000000",
                    "2025-04-25T14:49:59.000000000",
                    "2025-04-25T14:50:00.000000000",
                    "2025-04-25T14:50:01.000000000",
                    "2025-04-25T14:50:02.000000000",
                    "2025-04-25T14:50:03.000000000",
                    "2025-04-25T14:50:04.000000000",
                    "2025-04-25T14:50:05.000000000",
                    "2025-04-25T14:50:06.000000000",
                    "2025-04-25T14:50:07.000000000",
                    "2025-04-25T14:50:08.000000000",
                    "2025-04-25T14:50:09.000000000",
                    "2025-04-25T14:50:10.000000000",
                    "2025-04-25T14:50:11.000000000",
                    "2025-04-25T14:50:12.000000000",
                    "2025-04-25T14:50:13.000000000",
                    "2025-04-25T14:50:14.000000000",
                    "2025-04-25T14:50:15.000000000",
                    "2025-04-25T14:50:16.000000000",
                    "2025-04-25T14:50:17.000000000",
                    "2025-04-25T14:50:19.000000000",
                    "2025-04-25T14:50:20.000000000",
                    "2025-04-25T14:50:21.000000000",
                    "2025-04-25T14:50:22.000000000",
                    "2025-04-25T14:50:23.000000000",
                    "2025-04-25T14:50:24.000000000",
                    "2025-04-25T14:50:25.000000000",
                    "2025-04-25T14:50:26.000000000",
                    "2025-04-25T14:50:27.000000000",
                    "2025-04-25T14:50:28.000000000",
                    "2025-04-25T14:50:29.000000000",
                    "2025-04-25T14:50:30.000000000",
                    "2025-04-25T14:50:31.000000000",
                    "2025-04-25T14:50:32.000000000",
                    "2025-04-25T14:50:33.000000000",
                    "2025-04-25T14:50:34.000000000",
                    "2025-04-25T14:50:35.000000000",
                    "2025-04-25T14:50:36.000000000",
                    "2025-04-25T14:50:37.000000000",
                    "2025-04-25T14:50:38.000000000",
                    "2025-04-25T14:50:39.000000000",
                    "2025-04-25T14:50:40.000000000",
                    "2025-04-25T14:50:41.000000000",
                    "2025-04-25T14:50:42.000000000",
                    "2025-04-25T14:50:43.000000000",
                    "2025-04-25T14:50:44.000000000",
                    "2025-04-25T14:50:45.000000000",
                    "2025-04-25T14:50:46.000000000",
                    "2025-04-25T14:50:47.000000000",
                    "2025-04-25T14:50:48.000000000",
                    "2025-04-25T14:50:49.000000000",
                    "2025-04-25T14:50:50.000000000",
                    "2025-04-25T14:50:51.000000000",
                    "2025-04-25T14:50:52.000000000",
                    "2025-04-25T14:50:53.000000000",
                    "2025-04-25T14:50:54.000000000",
                    "2025-04-25T14:50:55.000000000",
                    "2025-04-25T14:50:56.000000000",
                    "2025-04-25T14:50:57.000000000",
                    "2025-04-25T14:50:58.000000000",
                    "2025-04-25T14:50:59.000000000",
                    "2025-04-25T14:51:00.000000000",
                    "2025-04-25T14:51:01.000000000",
                    "2025-04-25T14:51:02.000000000",
                    "2025-04-25T14:51:03.000000000",
                    "2025-04-25T14:51:04.000000000",
                    "2025-04-25T14:51:05.000000000",
                    "2025-04-25T14:51:06.000000000",
                    "2025-04-25T14:51:07.000000000",
                    "2025-04-25T14:51:08.000000000",
                    "2025-04-25T14:51:09.000000000",
                    "2025-04-25T14:51:10.000000000",
                    "2025-04-25T14:51:11.000000000",
                    "2025-04-25T14:51:12.000000000",
                    "2025-04-25T14:51:13.000000000",
                    "2025-04-25T14:51:14.000000000",
                    "2025-04-25T14:51:15.000000000",
                    "2025-04-25T14:51:16.000000000",
                    "2025-04-25T14:51:17.000000000",
                    "2025-04-25T14:51:18.000000000",
                    "2025-04-25T14:51:19.000000000",
                    "2025-04-25T14:51:20.000000000",
                    "2025-04-25T14:51:21.000000000",
                    "2025-04-25T14:51:22.000000000",
                    "2025-04-25T14:51:23.000000000",
                    "2025-04-25T14:51:24.000000000",
                    "2025-04-25T14:51:25.000000000",
                    "2025-04-25T14:51:26.000000000",
                    "2025-04-25T14:51:27.000000000",
                    "2025-04-25T14:51:28.000000000",
                    "2025-04-25T14:51:29.000000000",
                    "2025-04-25T14:51:30.000000000",
                    "2025-04-25T14:51:31.000000000",
                    "2025-04-25T14:51:32.000000000",
                    "2025-04-25T14:51:33.000000000",
                    "2025-04-25T14:51:34.000000000",
                    "2025-04-25T14:51:35.000000000",
                    "2025-04-25T14:51:36.000000000",
                    "2025-04-25T14:51:37.000000000",
                    "2025-04-25T14:51:38.000000000",
                    "2025-04-25T14:51:39.000000000",
                    "2025-04-25T14:51:40.000000000",
                    "2025-04-25T14:51:41.000000000",
                    "2025-04-25T14:51:42.000000000",
                    "2025-04-25T14:51:43.000000000",
                    "2025-04-25T14:51:44.000000000",
                    "2025-04-25T14:51:45.000000000",
                    "2025-04-25T14:51:46.000000000",
                    "2025-04-25T14:51:47.000000000",
                    "2025-04-25T14:51:48.000000000",
                    "2025-04-25T14:51:49.000000000",
                    "2025-04-25T14:51:50.000000000",
                    "2025-04-25T14:51:51.000000000",
                    "2025-04-25T14:51:52.000000000",
                    "2025-04-25T14:51:53.000000000",
                    "2025-04-25T14:51:54.000000000",
                    "2025-04-25T14:51:55.000000000",
                    "2025-04-25T14:51:56.000000000",
                    "2025-04-25T14:51:57.000000000",
                    "2025-04-25T14:51:58.000000000",
                    "2025-04-25T14:51:59.000000000",
                    "2025-04-25T14:52:00.000000000",
                    "2025-04-25T14:52:01.000000000",
                    "2025-04-25T14:52:02.000000000",
                    "2025-04-25T14:52:03.000000000",
                    "2025-04-25T14:52:04.000000000",
                    "2025-04-25T14:52:05.000000000",
                    "2025-04-25T14:52:06.000000000",
                    "2025-04-25T14:52:07.000000000",
                    "2025-04-25T14:52:08.000000000",
                    "2025-04-25T14:52:09.000000000",
                    "2025-04-25T14:52:10.000000000",
                    "2025-04-25T14:52:11.000000000",
                    "2025-04-25T14:52:12.000000000",
                    "2025-04-25T14:52:13.000000000",
                    "2025-04-25T14:52:14.000000000",
                    "2025-04-25T14:52:15.000000000",
                    "2025-04-25T14:52:16.000000000",
                    "2025-04-25T14:52:17.000000000",
                    "2025-04-25T14:52:18.000000000",
                    "2025-04-25T14:52:19.000000000",
                    "2025-04-25T14:52:20.000000000",
                    "2025-04-25T14:52:21.000000000",
                    "2025-04-25T14:52:22.000000000",
                    "2025-04-25T14:52:23.000000000",
                    "2025-04-25T14:52:24.000000000",
                    "2025-04-25T14:52:25.000000000",
                    "2025-04-25T14:52:26.000000000",
                    "2025-04-25T14:52:27.000000000",
                    "2025-04-25T14:52:28.000000000",
                    "2025-04-25T14:52:29.000000000",
                    "2025-04-25T14:52:30.000000000",
                    "2025-04-25T14:52:31.000000000",
                    "2025-04-25T14:52:32.000000000",
                    "2025-04-25T14:52:33.000000000",
                    "2025-04-25T14:52:34.000000000",
                    "2025-04-25T14:52:35.000000000",
                    "2025-04-25T14:52:36.000000000",
                    "2025-04-25T14:52:37.000000000",
                    "2025-04-25T14:52:38.000000000",
                    "2025-04-25T14:52:39.000000000",
                    "2025-04-25T14:52:40.000000000",
                    "2025-04-25T14:52:41.000000000",
                    "2025-04-25T14:52:42.000000000",
                    "2025-04-25T14:52:43.000000000",
                    "2025-04-25T14:52:44.000000000",
                    "2025-04-25T14:52:45.000000000",
                    "2025-04-25T14:52:46.000000000",
                    "2025-04-25T14:52:47.000000000",
                    "2025-04-25T14:52:48.000000000",
                    "2025-04-25T14:52:49.000000000",
                    "2025-04-25T14:52:50.000000000",
                    "2025-04-25T14:52:51.000000000",
                    "2025-04-25T14:52:52.000000000",
                    "2025-04-25T14:52:53.000000000",
                    "2025-04-25T14:52:54.000000000",
                    "2025-04-25T14:52:55.000000000",
                    "2025-04-25T14:52:56.000000000",
                    "2025-04-25T14:52:57.000000000",
                    "2025-04-25T14:52:58.000000000",
                    "2025-04-25T14:52:59.000000000",
                    "2025-04-25T14:53:00.000000000",
                    "2025-04-25T14:53:01.000000000",
                    "2025-04-25T14:53:02.000000000",
                    "2025-04-25T14:53:03.000000000",
                    "2025-04-25T14:53:04.000000000",
                    "2025-04-25T14:53:05.000000000",
                    "2025-04-25T14:53:06.000000000",
                    "2025-04-25T14:53:07.000000000",
                    "2025-04-25T14:53:08.000000000",
                    "2025-04-25T14:53:09.000000000",
                    "2025-04-25T14:53:10.000000000",
                    "2025-04-25T14:53:11.000000000",
                    "2025-04-25T14:53:12.000000000",
                    "2025-04-25T14:53:13.000000000",
                    "2025-04-25T14:53:14.000000000",
                    "2025-04-25T14:53:15.000000000",
                    "2025-04-25T14:53:16.000000000",
                    "2025-04-25T14:53:17.000000000",
                    "2025-04-25T14:53:18.000000000",
                    "2025-04-25T14:53:19.000000000",
                    "2025-04-25T14:53:20.000000000",
                    "2025-04-25T14:53:21.000000000",
                    "2025-04-25T14:53:22.000000000",
                    "2025-04-25T14:53:23.000000000",
                    "2025-04-25T14:53:24.000000000",
                    "2025-04-25T14:53:25.000000000",
                    "2025-04-25T14:53:26.000000000",
                    "2025-04-25T14:53:27.000000000",
                    "2025-04-25T14:53:28.000000000",
                    "2025-04-25T14:53:29.000000000",
                    "2025-04-25T14:53:30.000000000",
                    "2025-04-25T14:53:31.000000000",
                    "2025-04-25T14:53:32.000000000",
                    "2025-04-25T14:53:33.000000000",
                    "2025-04-25T14:53:34.000000000",
                    "2025-04-25T14:53:35.000000000",
                    "2025-04-25T14:53:36.000000000",
                    "2025-04-25T14:53:37.000000000",
                    "2025-04-25T14:53:38.000000000",
                    "2025-04-25T14:53:39.000000000",
                    "2025-04-25T14:53:40.000000000",
                    "2025-04-25T14:53:41.000000000",
                    "2025-04-25T14:53:42.000000000",
                    "2025-04-25T14:53:43.000000000",
                    "2025-04-25T14:53:44.000000000",
                    "2025-04-25T14:53:45.000000000",
                    "2025-04-25T14:53:46.000000000",
                    "2025-04-25T14:53:47.000000000",
                    "2025-04-25T14:53:48.000000000",
                    "2025-04-25T14:53:49.000000000",
                    "2025-04-25T14:53:50.000000000",
                    "2025-04-25T14:53:51.000000000",
                    "2025-04-25T14:53:52.000000000",
                    "2025-04-25T14:53:53.000000000",
                    "2025-04-25T14:53:54.000000000",
                    "2025-04-25T14:53:55.000000000",
                    "2025-04-25T14:53:56.000000000",
                    "2025-04-25T14:53:57.000000000",
                    "2025-04-25T14:53:58.000000000",
                    "2025-04-25T14:53:59.000000000",
                    "2025-04-25T14:54:00.000000000",
                    "2025-04-25T14:54:01.000000000",
                    "2025-04-25T14:54:02.000000000",
                    "2025-04-25T14:54:03.000000000",
                    "2025-04-25T14:54:04.000000000",
                    "2025-04-25T14:54:05.000000000",
                    "2025-04-25T14:54:06.000000000",
                    "2025-04-25T14:54:07.000000000",
                    "2025-04-25T14:54:08.000000000",
                    "2025-04-25T14:54:09.000000000",
                    "2025-04-25T14:54:10.000000000",
                    "2025-04-25T14:54:11.000000000",
                    "2025-04-25T14:54:12.000000000",
                    "2025-04-25T14:54:13.000000000",
                    "2025-04-25T14:54:14.000000000",
                    "2025-04-25T14:54:15.000000000",
                    "2025-04-25T14:54:17.000000000",
                    "2025-04-25T14:54:18.000000000",
                    "2025-04-25T14:54:19.000000000",
                    "2025-04-25T14:54:20.000000000",
                    "2025-04-25T14:54:21.000000000",
                    "2025-04-25T14:54:22.000000000",
                    "2025-04-25T14:54:23.000000000",
                    "2025-04-25T14:54:24.000000000",
                    "2025-04-25T14:54:25.000000000",
                    "2025-04-25T14:54:26.000000000",
                    "2025-04-25T14:54:27.000000000",
                    "2025-04-25T14:54:28.000000000",
                    "2025-04-25T14:54:29.000000000",
                    "2025-04-25T14:54:30.000000000",
                    "2025-04-25T14:54:31.000000000",
                    "2025-04-25T14:54:32.000000000",
                    "2025-04-25T14:54:33.000000000",
                    "2025-04-25T14:54:34.000000000",
                    "2025-04-25T14:54:35.000000000",
                    "2025-04-25T14:54:36.000000000",
                    "2025-04-25T14:54:37.000000000",
                    "2025-04-25T14:54:38.000000000",
                    "2025-04-25T14:54:39.000000000",
                    "2025-04-25T14:54:40.000000000",
                    "2025-04-25T14:54:41.000000000",
                    "2025-04-25T14:54:42.000000000",
                    "2025-04-25T14:54:43.000000000",
                    "2025-04-25T14:54:44.000000000",
                    "2025-04-25T14:54:45.000000000",
                    "2025-04-25T14:54:46.000000000",
                    "2025-04-25T14:54:47.000000000",
                    "2025-04-25T14:54:48.000000000",
                    "2025-04-25T14:54:49.000000000",
                    "2025-04-25T14:54:50.000000000",
                    "2025-04-25T14:54:51.000000000",
                    "2025-04-25T14:54:52.000000000",
                    "2025-04-25T14:54:53.000000000",
                    "2025-04-25T14:54:54.000000000",
                    "2025-04-25T14:54:55.000000000",
                    "2025-04-25T14:54:56.000000000",
                    "2025-04-25T14:54:57.000000000",
                    "2025-04-25T14:54:58.000000000",
                    "2025-04-25T14:54:59.000000000",
                    "2025-04-25T14:55:00.000000000",
                    "2025-04-25T14:55:01.000000000",
                    "2025-04-25T14:55:02.000000000",
                    "2025-04-25T14:55:03.000000000",
                    "2025-04-25T14:55:04.000000000",
                    "2025-04-25T14:55:05.000000000",
                    "2025-04-25T14:55:06.000000000",
                    "2025-04-25T14:55:07.000000000",
                    "2025-04-25T14:55:08.000000000",
                    "2025-04-25T14:55:09.000000000",
                    "2025-04-25T14:55:10.000000000",
                    "2025-04-25T14:55:11.000000000",
                    "2025-04-25T14:55:12.000000000",
                    "2025-04-25T14:55:13.000000000",
                    "2025-04-25T14:55:14.000000000",
                    "2025-04-25T14:55:15.000000000",
                    "2025-04-25T14:55:16.000000000",
                    "2025-04-25T14:55:17.000000000",
                    "2025-04-25T14:55:18.000000000",
                    "2025-04-25T14:55:19.000000000",
                    "2025-04-25T14:55:20.000000000",
                    "2025-04-25T14:55:21.000000000",
                    "2025-04-25T14:55:22.000000000",
                    "2025-04-25T14:55:23.000000000",
                    "2025-04-25T14:55:24.000000000",
                    "2025-04-25T14:55:25.000000000",
                    "2025-04-25T14:55:26.000000000",
                    "2025-04-25T14:55:27.000000000",
                    "2025-04-25T14:55:28.000000000",
                    "2025-04-25T14:55:29.000000000",
                    "2025-04-25T14:55:30.000000000",
                    "2025-04-25T14:55:31.000000000",
                    "2025-04-25T14:55:32.000000000",
                    "2025-04-25T14:55:33.000000000",
                    "2025-04-25T14:55:34.000000000",
                    "2025-04-25T14:55:35.000000000",
                    "2025-04-25T14:55:36.000000000",
                    "2025-04-25T14:55:37.000000000",
                    "2025-04-25T14:55:38.000000000",
                    "2025-04-25T14:55:39.000000000",
                    "2025-04-25T14:55:40.000000000",
                    "2025-04-25T14:55:41.000000000",
                    "2025-04-25T14:55:42.000000000",
                    "2025-04-25T14:55:43.000000000",
                    "2025-04-25T14:55:44.000000000",
                    "2025-04-25T14:55:45.000000000",
                    "2025-04-25T14:55:46.000000000",
                    "2025-04-25T14:55:47.000000000",
                    "2025-04-25T14:55:48.000000000",
                    "2025-04-25T14:55:49.000000000",
                    "2025-04-25T14:55:50.000000000",
                    "2025-04-25T14:55:51.000000000",
                    "2025-04-25T14:55:52.000000000",
                    "2025-04-25T14:55:53.000000000",
                    "2025-04-25T14:55:54.000000000",
                    "2025-04-25T14:55:55.000000000",
                    "2025-04-25T14:55:56.000000000",
                    "2025-04-25T14:55:57.000000000",
                    "2025-04-25T14:55:58.000000000",
                    "2025-04-25T14:55:59.000000000",
                    "2025-04-25T14:56:00.000000000",
                    "2025-04-25T14:56:01.000000000",
                    "2025-04-25T14:56:02.000000000",
                    "2025-04-25T14:56:03.000000000",
                    "2025-04-25T14:56:04.000000000",
                    "2025-04-25T14:56:05.000000000",
                    "2025-04-25T14:56:06.000000000",
                    "2025-04-25T14:56:07.000000000",
                    "2025-04-25T14:56:08.000000000",
                    "2025-04-25T14:56:09.000000000",
                    "2025-04-25T14:56:10.000000000",
                    "2025-04-25T14:56:11.000000000",
                    "2025-04-25T14:56:12.000000000",
                    "2025-04-25T14:56:13.000000000",
                    "2025-04-25T14:56:14.000000000",
                    "2025-04-25T14:56:15.000000000",
                    "2025-04-25T14:56:16.000000000",
                    "2025-04-25T14:56:17.000000000",
                    "2025-04-25T14:56:18.000000000",
                    "2025-04-25T14:56:19.000000000",
                    "2025-04-25T14:56:20.000000000",
                    "2025-04-25T14:56:21.000000000",
                    "2025-04-25T14:56:22.000000000",
                    "2025-04-25T14:56:23.000000000",
                    "2025-04-25T14:56:24.000000000",
                    "2025-04-25T14:56:25.000000000",
                    "2025-04-25T14:56:26.000000000",
                    "2025-04-25T14:56:27.000000000",
                    "2025-04-25T14:56:28.000000000",
                    "2025-04-25T14:56:29.000000000",
                    "2025-04-25T14:56:30.000000000",
                    "2025-04-25T14:56:31.000000000",
                    "2025-04-25T14:56:32.000000000",
                    "2025-04-25T14:56:33.000000000",
                    "2025-04-25T14:56:34.000000000",
                    "2025-04-25T14:56:35.000000000",
                    "2025-04-25T14:56:36.000000000",
                    "2025-04-25T14:56:37.000000000",
                    "2025-04-25T14:56:38.000000000",
                    "2025-04-25T14:56:39.000000000",
                    "2025-04-25T14:56:40.000000000",
                    "2025-04-25T14:56:41.000000000",
                    "2025-04-25T14:56:42.000000000",
                    "2025-04-25T14:56:43.000000000",
                    "2025-04-25T14:56:44.000000000",
                    "2025-04-25T14:56:45.000000000",
                    "2025-04-25T14:56:46.000000000",
                    "2025-04-25T14:56:47.000000000",
                    "2025-04-25T14:56:48.000000000",
                    "2025-04-25T14:56:49.000000000",
                    "2025-04-25T14:56:50.000000000",
                    "2025-04-25T14:56:51.000000000",
                    "2025-04-25T14:56:52.000000000",
                    "2025-04-25T14:56:53.000000000",
                    "2025-04-25T14:56:54.000000000",
                    "2025-04-25T14:56:55.000000000",
                    "2025-04-25T14:56:56.000000000",
                    "2025-04-25T14:56:57.000000000",
                    "2025-04-25T14:56:58.000000000",
                    "2025-04-25T14:56:59.000000000",
                    "2025-04-25T14:57:00.000000000",
                    "2025-04-25T14:57:01.000000000",
                    "2025-04-25T14:57:02.000000000",
                    "2025-04-25T14:57:03.000000000",
                    "2025-04-25T14:57:04.000000000",
                    "2025-04-25T14:57:05.000000000",
                    "2025-04-25T14:57:06.000000000",
                    "2025-04-25T14:57:07.000000000",
                    "2025-04-25T14:57:08.000000000",
                    "2025-04-25T14:57:09.000000000",
                    "2025-04-25T14:57:10.000000000",
                    "2025-04-25T14:57:11.000000000",
                    "2025-04-25T14:57:12.000000000",
                    "2025-04-25T14:57:13.000000000",
                    "2025-04-25T14:57:14.000000000",
                    "2025-04-25T14:57:15.000000000",
                    "2025-04-25T14:57:16.000000000",
                    "2025-04-25T14:57:17.000000000",
                    "2025-04-25T14:57:18.000000000",
                    "2025-04-25T14:57:19.000000000",
                    "2025-04-25T14:57:20.000000000",
                    "2025-04-25T14:57:21.000000000",
                    "2025-04-25T14:57:22.000000000",
                    "2025-04-25T14:57:23.000000000",
                    "2025-04-25T14:57:24.000000000",
                    "2025-04-25T14:57:25.000000000",
                    "2025-04-25T14:57:26.000000000",
                    "2025-04-25T14:57:27.000000000",
                    "2025-04-25T14:57:28.000000000",
                    "2025-04-25T14:57:29.000000000",
                    "2025-04-25T14:57:30.000000000",
                    "2025-04-25T14:57:31.000000000",
                    "2025-04-25T14:57:32.000000000",
                    "2025-04-25T14:57:33.000000000",
                    "2025-04-25T14:57:34.000000000",
                    "2025-04-25T14:57:35.000000000",
                    "2025-04-25T14:57:36.000000000",
                    "2025-04-25T14:57:37.000000000",
                    "2025-04-25T14:57:38.000000000",
                    "2025-04-25T14:57:39.000000000",
                    "2025-04-25T14:57:40.000000000",
                    "2025-04-25T14:57:41.000000000",
                    "2025-04-25T14:57:42.000000000",
                    "2025-04-25T14:57:43.000000000",
                    "2025-04-25T14:57:44.000000000",
                    "2025-04-25T14:57:45.000000000",
                    "2025-04-25T14:57:46.000000000",
                    "2025-04-25T14:57:47.000000000",
                    "2025-04-25T14:57:48.000000000",
                    "2025-04-25T14:57:49.000000000",
                    "2025-04-25T14:57:50.000000000",
                    "2025-04-25T14:57:51.000000000",
                    "2025-04-25T14:57:52.000000000",
                    "2025-04-25T14:57:53.000000000",
                    "2025-04-25T14:57:54.000000000",
                    "2025-04-25T14:57:55.000000000",
                    "2025-04-25T14:57:56.000000000",
                    "2025-04-25T14:57:57.000000000",
                    "2025-04-25T14:57:58.000000000",
                    "2025-04-25T14:57:59.000000000",
                    "2025-04-25T14:58:00.000000000",
                    "2025-04-25T14:58:01.000000000",
                    "2025-04-25T14:58:02.000000000",
                    "2025-04-25T14:58:03.000000000",
                    "2025-04-25T14:58:04.000000000",
                    "2025-04-25T14:58:05.000000000",
                    "2025-04-25T14:58:06.000000000",
                    "2025-04-25T14:58:07.000000000",
                    "2025-04-25T14:58:09.000000000",
                    "2025-04-25T14:58:10.000000000",
                    "2025-04-25T14:58:11.000000000",
                    "2025-04-25T14:58:12.000000000",
                    "2025-04-25T14:58:13.000000000",
                    "2025-04-25T14:58:14.000000000",
                    "2025-04-25T14:58:15.000000000",
                    "2025-04-25T14:58:16.000000000",
                    "2025-04-25T14:58:17.000000000",
                    "2025-04-25T14:58:18.000000000",
                    "2025-04-25T14:58:19.000000000",
                    "2025-04-25T14:58:20.000000000",
                    "2025-04-25T14:58:21.000000000",
                    "2025-04-25T14:58:22.000000000",
                    "2025-04-25T14:58:23.000000000",
                    "2025-04-25T14:58:24.000000000",
                    "2025-04-25T14:58:25.000000000",
                    "2025-04-25T14:58:26.000000000",
                    "2025-04-25T14:58:27.000000000",
                    "2025-04-25T14:58:28.000000000",
                    "2025-04-25T14:58:29.000000000",
                    "2025-04-25T14:58:30.000000000",
                    "2025-04-25T14:58:31.000000000",
                    "2025-04-25T14:58:32.000000000",
                    "2025-04-25T14:58:33.000000000",
                    "2025-04-25T14:58:34.000000000",
                    "2025-04-25T14:58:35.000000000",
                    "2025-04-25T14:58:36.000000000",
                    "2025-04-25T14:58:37.000000000",
                    "2025-04-25T14:58:38.000000000",
                    "2025-04-25T14:58:39.000000000",
                    "2025-04-25T14:58:40.000000000",
                    "2025-04-25T14:58:41.000000000",
                    "2025-04-25T14:58:42.000000000",
                    "2025-04-25T14:58:43.000000000",
                    "2025-04-25T14:58:44.000000000",
                    "2025-04-25T14:58:45.000000000",
                    "2025-04-25T14:58:46.000000000",
                    "2025-04-25T14:58:47.000000000",
                    "2025-04-25T14:58:48.000000000",
                    "2025-04-25T14:58:49.000000000",
                    "2025-04-25T14:58:50.000000000",
                    "2025-04-25T14:58:51.000000000",
                    "2025-04-25T14:58:52.000000000",
                    "2025-04-25T14:58:53.000000000",
                    "2025-04-25T14:58:54.000000000",
                    "2025-04-25T14:58:55.000000000",
                    "2025-04-25T14:58:56.000000000",
                    "2025-04-25T14:58:57.000000000",
                    "2025-04-25T14:58:58.000000000",
                    "2025-04-25T14:58:59.000000000",
                    "2025-04-25T14:59:00.000000000",
                    "2025-04-25T14:59:01.000000000",
                    "2025-04-25T14:59:02.000000000",
                    "2025-04-25T14:59:03.000000000",
                    "2025-04-25T14:59:04.000000000",
                    "2025-04-25T14:59:05.000000000",
                    "2025-04-25T14:59:06.000000000",
                    "2025-04-25T14:59:07.000000000",
                    "2025-04-25T14:59:08.000000000",
                    "2025-04-25T14:59:09.000000000",
                    "2025-04-25T14:59:10.000000000",
                    "2025-04-25T14:59:11.000000000",
                    "2025-04-25T14:59:12.000000000",
                    "2025-04-25T14:59:13.000000000",
                    "2025-04-25T14:59:14.000000000",
                    "2025-04-25T14:59:15.000000000",
                    "2025-04-25T14:59:16.000000000",
                    "2025-04-25T14:59:17.000000000",
                    "2025-04-25T14:59:18.000000000",
                    "2025-04-25T14:59:19.000000000",
                    "2025-04-25T14:59:20.000000000",
                    "2025-04-25T14:59:21.000000000",
                    "2025-04-25T14:59:22.000000000",
                    "2025-04-25T14:59:23.000000000",
                    "2025-04-25T14:59:24.000000000",
                    "2025-04-25T14:59:25.000000000",
                    "2025-04-25T14:59:26.000000000",
                    "2025-04-25T14:59:27.000000000",
                    "2025-04-25T14:59:28.000000000",
                    "2025-04-25T14:59:29.000000000",
                    "2025-04-25T14:59:30.000000000",
                    "2025-04-25T14:59:31.000000000",
                    "2025-04-25T14:59:32.000000000",
                    "2025-04-25T14:59:33.000000000",
                    "2025-04-25T14:59:34.000000000",
                    "2025-04-25T14:59:35.000000000",
                    "2025-04-25T14:59:36.000000000",
                    "2025-04-25T14:59:37.000000000",
                    "2025-04-25T14:59:38.000000000",
                    "2025-04-25T14:59:39.000000000",
                    "2025-04-25T14:59:40.000000000",
                    "2025-04-25T14:59:41.000000000",
                    "2025-04-25T14:59:42.000000000",
                    "2025-04-25T14:59:43.000000000",
                    "2025-04-25T14:59:44.000000000",
                    "2025-04-25T14:59:45.000000000",
                    "2025-04-25T14:59:46.000000000",
                    "2025-04-25T14:59:47.000000000",
                    "2025-04-25T14:59:48.000000000",
                    "2025-04-25T14:59:49.000000000",
                    "2025-04-25T14:59:50.000000000",
                    "2025-04-25T14:59:51.000000000",
                    "2025-04-25T14:59:52.000000000",
                    "2025-04-25T14:59:53.000000000",
                    "2025-04-25T14:59:54.000000000",
                    "2025-04-25T14:59:55.000000000",
                    "2025-04-25T14:59:56.000000000",
                    "2025-04-25T14:59:57.000000000",
                    "2025-04-25T14:59:58.000000000",
                    "2025-04-25T14:59:59.000000000",
                    "2025-04-25T15:00:00.000000000",
                    "2025-04-25T15:00:01.000000000",
                    "2025-04-25T15:00:02.000000000",
                    "2025-04-25T15:00:03.000000000",
                    "2025-04-25T15:00:04.000000000",
                    "2025-04-25T15:00:05.000000000",
                    "2025-04-25T15:00:06.000000000",
                    "2025-04-25T15:00:07.000000000",
                    "2025-04-25T15:00:08.000000000",
                    "2025-04-25T15:00:09.000000000",
                    "2025-04-25T15:00:10.000000000",
                    "2025-04-25T15:00:11.000000000",
                    "2025-04-25T15:00:12.000000000",
                    "2025-04-25T15:00:13.000000000",
                    "2025-04-25T15:00:14.000000000",
                    "2025-04-25T15:00:15.000000000",
                    "2025-04-25T15:00:16.000000000",
                    "2025-04-25T15:00:17.000000000",
                    "2025-04-25T15:00:18.000000000",
                    "2025-04-25T15:00:19.000000000",
                    "2025-04-25T15:00:20.000000000",
                    "2025-04-25T15:00:21.000000000",
                    "2025-04-25T15:00:22.000000000",
                    "2025-04-25T15:00:23.000000000",
                    "2025-04-25T15:00:24.000000000",
                    "2025-04-25T15:00:25.000000000",
                    "2025-04-25T15:00:26.000000000",
                    "2025-04-25T15:00:27.000000000",
                    "2025-04-25T15:00:28.000000000",
                    "2025-04-25T15:00:29.000000000",
                    "2025-04-25T15:00:30.000000000",
                    "2025-04-25T15:00:31.000000000",
                    "2025-04-25T15:00:32.000000000",
                    "2025-04-25T15:00:33.000000000",
                    "2025-04-25T15:00:34.000000000",
                    "2025-04-25T15:00:35.000000000",
                    "2025-04-25T15:00:36.000000000",
                    "2025-04-25T15:00:37.000000000",
                    "2025-04-25T15:00:38.000000000",
                    "2025-04-25T15:00:39.000000000",
                    "2025-04-25T15:00:40.000000000",
                    "2025-04-25T15:00:41.000000000",
                    "2025-04-25T15:00:42.000000000",
                    "2025-04-25T15:00:43.000000000",
                    "2025-04-25T15:00:44.000000000",
                    "2025-04-25T15:00:45.000000000",
                    "2025-04-25T15:00:46.000000000",
                    "2025-04-25T15:00:47.000000000",
                    "2025-04-25T15:00:48.000000000",
                    "2025-04-25T15:00:49.000000000",
                    "2025-04-25T15:00:50.000000000",
                    "2025-04-25T15:00:51.000000000",
                    "2025-04-25T15:00:52.000000000",
                    "2025-04-25T15:00:53.000000000",
                    "2025-04-25T15:00:54.000000000",
                    "2025-04-25T15:00:55.000000000",
                    "2025-04-25T15:00:56.000000000",
                    "2025-04-25T15:00:57.000000000",
                    "2025-04-25T15:00:58.000000000",
                    "2025-04-25T15:00:59.000000000",
                    "2025-04-25T15:01:00.000000000",
                    "2025-04-25T15:01:01.000000000",
                    "2025-04-25T15:01:02.000000000",
                    "2025-04-25T15:01:03.000000000",
                    "2025-04-25T15:01:04.000000000",
                    "2025-04-25T15:01:05.000000000",
                    "2025-04-25T15:01:06.000000000",
                    "2025-04-25T15:01:07.000000000",
                    "2025-04-25T15:01:08.000000000",
                    "2025-04-25T15:01:09.000000000",
                    "2025-04-25T15:01:10.000000000",
                    "2025-04-25T15:01:11.000000000",
                    "2025-04-25T15:01:12.000000000",
                    "2025-04-25T15:01:13.000000000",
                    "2025-04-25T15:01:15.000000000",
                    "2025-04-25T15:01:16.000000000",
                    "2025-04-25T15:01:17.000000000",
                    "2025-04-25T15:01:18.000000000",
                    "2025-04-25T15:01:19.000000000",
                    "2025-04-25T15:01:20.000000000",
                    "2025-04-25T15:01:21.000000000",
                    "2025-04-25T15:01:22.000000000",
                    "2025-04-25T15:01:23.000000000",
                    "2025-04-25T15:01:24.000000000",
                    "2025-04-25T15:01:25.000000000",
                    "2025-04-25T15:01:26.000000000",
                    "2025-04-25T15:01:27.000000000",
                    "2025-04-25T15:01:28.000000000",
                    "2025-04-25T15:01:29.000000000",
                    "2025-04-25T15:01:30.000000000",
                    "2025-04-25T15:01:31.000000000",
                    "2025-04-25T15:01:32.000000000",
                    "2025-04-25T15:01:33.000000000",
                    "2025-04-25T15:01:34.000000000",
                    "2025-04-25T15:01:35.000000000",
                    "2025-04-25T15:01:36.000000000",
                    "2025-04-25T15:01:37.000000000",
                    "2025-04-25T15:01:38.000000000",
                    "2025-04-25T15:01:39.000000000",
                    "2025-04-25T15:01:40.000000000",
                    "2025-04-25T15:01:41.000000000",
                    "2025-04-25T15:01:42.000000000",
                    "2025-04-25T15:01:43.000000000",
                    "2025-04-25T15:01:44.000000000",
                    "2025-04-25T15:01:45.000000000",
                    "2025-04-25T15:01:46.000000000",
                    "2025-04-25T15:01:47.000000000",
                    "2025-04-25T15:01:48.000000000",
                    "2025-04-25T15:01:49.000000000",
                    "2025-04-25T15:01:50.000000000",
                    "2025-04-25T15:01:51.000000000",
                    "2025-04-25T15:01:52.000000000",
                    "2025-04-25T15:01:53.000000000",
                    "2025-04-25T15:01:54.000000000",
                    "2025-04-25T15:01:55.000000000",
                    "2025-04-25T15:01:56.000000000",
                    "2025-04-25T15:01:57.000000000",
                    "2025-04-25T15:01:58.000000000",
                    "2025-04-25T15:01:59.000000000",
                    "2025-04-25T15:02:00.000000000",
                    "2025-04-25T15:02:01.000000000"
                  ],
                  "y": {
                    "bdata": "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",
                    "dtype": "i2"
                  }
                },
                {
                  "mode": "lines+markers",
                  "name": "ADC1",
                  "type": "scatter",
                  "x": [
                    "2025-04-25T14:49:13.000000000",
                    "2025-04-25T14:49:15.000000000",
                    "2025-04-25T14:49:16.000000000",
                    "2025-04-25T14:49:17.000000000",
                    "2025-04-25T14:49:18.000000000",
                    "2025-04-25T14:49:19.000000000",
                    "2025-04-25T14:49:20.000000000",
                    "2025-04-25T14:49:21.000000000",
                    "2025-04-25T14:49:22.000000000",
                    "2025-04-25T14:49:23.000000000",
                    "2025-04-25T14:49:24.000000000",
                    "2025-04-25T14:49:25.000000000",
                    "2025-04-25T14:49:26.000000000",
                    "2025-04-25T14:49:27.000000000",
                    "2025-04-25T14:49:28.000000000",
                    "2025-04-25T14:49:29.000000000",
                    "2025-04-25T14:49:30.000000000",
                    "2025-04-25T14:49:31.000000000",
                    "2025-04-25T14:49:32.000000000",
                    "2025-04-25T14:49:33.000000000",
                    "2025-04-25T14:49:34.000000000",
                    "2025-04-25T14:49:35.000000000",
                    "2025-04-25T14:49:36.000000000",
                    "2025-04-25T14:49:37.000000000",
                    "2025-04-25T14:49:38.000000000",
                    "2025-04-25T14:49:39.000000000",
                    "2025-04-25T14:49:40.000000000",
                    "2025-04-25T14:49:41.000000000",
                    "2025-04-25T14:49:42.000000000",
                    "2025-04-25T14:49:43.000000000",
                    "2025-04-25T14:49:44.000000000",
                    "2025-04-25T14:49:45.000000000",
                    "2025-04-25T14:49:46.000000000",
                    "2025-04-25T14:49:47.000000000",
                    "2025-04-25T14:49:48.000000000",
                    "2025-04-25T14:49:49.000000000",
                    "2025-04-25T14:49:50.000000000",
                    "2025-04-25T14:49:51.000000000",
                    "2025-04-25T14:49:52.000000000",
                    "2025-04-25T14:49:53.000000000",
                    "2025-04-25T14:49:54.000000000",
                    "2025-04-25T14:49:55.000000000",
                    "2025-04-25T14:49:56.000000000",
                    "2025-04-25T14:49:57.000000000",
                    "2025-04-25T14:49:58.000000000",
                    "2025-04-25T14:49:59.000000000",
                    "2025-04-25T14:50:00.000000000",
                    "2025-04-25T14:50:01.000000000",
                    "2025-04-25T14:50:02.000000000",
                    "2025-04-25T14:50:03.000000000",
                    "2025-04-25T14:50:04.000000000",
                    "2025-04-25T14:50:05.000000000",
                    "2025-04-25T14:50:06.000000000",
                    "2025-04-25T14:50:07.000000000",
                    "2025-04-25T14:50:08.000000000",
                    "2025-04-25T14:50:09.000000000",
                    "2025-04-25T14:50:10.000000000",
                    "2025-04-25T14:50:11.000000000",
                    "2025-04-25T14:50:12.000000000",
                    "2025-04-25T14:50:13.000000000",
                    "2025-04-25T14:50:14.000000000",
                    "2025-04-25T14:50:15.000000000",
                    "2025-04-25T14:50:16.000000000",
                    "2025-04-25T14:50:17.000000000",
                    "2025-04-25T14:50:19.000000000",
                    "2025-04-25T14:50:20.000000000",
                    "2025-04-25T14:50:21.000000000",
                    "2025-04-25T14:50:22.000000000",
                    "2025-04-25T14:50:23.000000000",
                    "2025-04-25T14:50:24.000000000",
                    "2025-04-25T14:50:25.000000000",
                    "2025-04-25T14:50:26.000000000",
                    "2025-04-25T14:50:27.000000000",
                    "2025-04-25T14:50:28.000000000",
                    "2025-04-25T14:50:29.000000000",
                    "2025-04-25T14:50:30.000000000",
                    "2025-04-25T14:50:31.000000000",
                    "2025-04-25T14:50:32.000000000",
                    "2025-04-25T14:50:33.000000000",
                    "2025-04-25T14:50:34.000000000",
                    "2025-04-25T14:50:35.000000000",
                    "2025-04-25T14:50:36.000000000",
                    "2025-04-25T14:50:37.000000000",
                    "2025-04-25T14:50:38.000000000",
                    "2025-04-25T14:50:39.000000000",
                    "2025-04-25T14:50:40.000000000",
                    "2025-04-25T14:50:41.000000000",
                    "2025-04-25T14:50:42.000000000",
                    "2025-04-25T14:50:43.000000000",
                    "2025-04-25T14:50:44.000000000",
                    "2025-04-25T14:50:45.000000000",
                    "2025-04-25T14:50:46.000000000",
                    "2025-04-25T14:50:47.000000000",
                    "2025-04-25T14:50:48.000000000",
                    "2025-04-25T14:50:49.000000000",
                    "2025-04-25T14:50:50.000000000",
                    "2025-04-25T14:50:51.000000000",
                    "2025-04-25T14:50:52.000000000",
                    "2025-04-25T14:50:53.000000000",
                    "2025-04-25T14:50:54.000000000",
                    "2025-04-25T14:50:55.000000000",
                    "2025-04-25T14:50:56.000000000",
                    "2025-04-25T14:50:57.000000000",
                    "2025-04-25T14:50:58.000000000",
                    "2025-04-25T14:50:59.000000000",
                    "2025-04-25T14:51:00.000000000",
                    "2025-04-25T14:51:01.000000000",
                    "2025-04-25T14:51:02.000000000",
                    "2025-04-25T14:51:03.000000000",
                    "2025-04-25T14:51:04.000000000",
                    "2025-04-25T14:51:05.000000000",
                    "2025-04-25T14:51:06.000000000",
                    "2025-04-25T14:51:07.000000000",
                    "2025-04-25T14:51:08.000000000",
                    "2025-04-25T14:51:09.000000000",
                    "2025-04-25T14:51:10.000000000",
                    "2025-04-25T14:51:11.000000000",
                    "2025-04-25T14:51:12.000000000",
                    "2025-04-25T14:51:13.000000000",
                    "2025-04-25T14:51:14.000000000",
                    "2025-04-25T14:51:15.000000000",
                    "2025-04-25T14:51:16.000000000",
                    "2025-04-25T14:51:17.000000000",
                    "2025-04-25T14:51:18.000000000",
                    "2025-04-25T14:51:19.000000000",
                    "2025-04-25T14:51:20.000000000",
                    "2025-04-25T14:51:21.000000000",
                    "2025-04-25T14:51:22.000000000",
                    "2025-04-25T14:51:23.000000000",
                    "2025-04-25T14:51:24.000000000",
                    "2025-04-25T14:51:25.000000000",
                    "2025-04-25T14:51:26.000000000",
                    "2025-04-25T14:51:27.000000000",
                    "2025-04-25T14:51:28.000000000",
                    "2025-04-25T14:51:29.000000000",
                    "2025-04-25T14:51:30.000000000",
                    "2025-04-25T14:51:31.000000000",
                    "2025-04-25T14:51:32.000000000",
                    "2025-04-25T14:51:33.000000000",
                    "2025-04-25T14:51:34.000000000",
                    "2025-04-25T14:51:35.000000000",
                    "2025-04-25T14:51:36.000000000",
                    "2025-04-25T14:51:37.000000000",
                    "2025-04-25T14:51:38.000000000",
                    "2025-04-25T14:51:39.000000000",
                    "2025-04-25T14:51:40.000000000",
                    "2025-04-25T14:51:41.000000000",
                    "2025-04-25T14:51:42.000000000",
                    "2025-04-25T14:51:43.000000000",
                    "2025-04-25T14:51:44.000000000",
                    "2025-04-25T14:51:45.000000000",
                    "2025-04-25T14:51:46.000000000",
                    "2025-04-25T14:51:47.000000000",
                    "2025-04-25T14:51:48.000000000",
                    "2025-04-25T14:51:49.000000000",
                    "2025-04-25T14:51:50.000000000",
                    "2025-04-25T14:51:51.000000000",
                    "2025-04-25T14:51:52.000000000",
                    "2025-04-25T14:51:53.000000000",
                    "2025-04-25T14:51:54.000000000",
                    "2025-04-25T14:51:55.000000000",
                    "2025-04-25T14:51:56.000000000",
                    "2025-04-25T14:51:57.000000000",
                    "2025-04-25T14:51:58.000000000",
                    "2025-04-25T14:51:59.000000000",
                    "2025-04-25T14:52:00.000000000",
                    "2025-04-25T14:52:01.000000000",
                    "2025-04-25T14:52:02.000000000",
                    "2025-04-25T14:52:03.000000000",
                    "2025-04-25T14:52:04.000000000",
                    "2025-04-25T14:52:05.000000000",
                    "2025-04-25T14:52:06.000000000",
                    "2025-04-25T14:52:07.000000000",
                    "2025-04-25T14:52:08.000000000",
                    "2025-04-25T14:52:09.000000000",
                    "2025-04-25T14:52:10.000000000",
                    "2025-04-25T14:52:11.000000000",
                    "2025-04-25T14:52:12.000000000",
                    "2025-04-25T14:52:13.000000000",
                    "2025-04-25T14:52:14.000000000",
                    "2025-04-25T14:52:15.000000000",
                    "2025-04-25T14:52:16.000000000",
                    "2025-04-25T14:52:17.000000000",
                    "2025-04-25T14:52:18.000000000",
                    "2025-04-25T14:52:19.000000000",
                    "2025-04-25T14:52:20.000000000",
                    "2025-04-25T14:52:21.000000000",
                    "2025-04-25T14:52:22.000000000",
                    "2025-04-25T14:52:23.000000000",
                    "2025-04-25T14:52:24.000000000",
                    "2025-04-25T14:52:25.000000000",
                    "2025-04-25T14:52:26.000000000",
                    "2025-04-25T14:52:27.000000000",
                    "2025-04-25T14:52:28.000000000",
                    "2025-04-25T14:52:29.000000000",
                    "2025-04-25T14:52:30.000000000",
                    "2025-04-25T14:52:31.000000000",
                    "2025-04-25T14:52:32.000000000",
                    "2025-04-25T14:52:33.000000000",
                    "2025-04-25T14:52:34.000000000",
                    "2025-04-25T14:52:35.000000000",
                    "2025-04-25T14:52:36.000000000",
                    "2025-04-25T14:52:37.000000000",
                    "2025-04-25T14:52:38.000000000",
                    "2025-04-25T14:52:39.000000000",
                    "2025-04-25T14:52:40.000000000",
                    "2025-04-25T14:52:41.000000000",
                    "2025-04-25T14:52:42.000000000",
                    "2025-04-25T14:52:43.000000000",
                    "2025-04-25T14:52:44.000000000",
                    "2025-04-25T14:52:45.000000000",
                    "2025-04-25T14:52:46.000000000",
                    "2025-04-25T14:52:47.000000000",
                    "2025-04-25T14:52:48.000000000",
                    "2025-04-25T14:52:49.000000000",
                    "2025-04-25T14:52:50.000000000",
                    "2025-04-25T14:52:51.000000000",
                    "2025-04-25T14:52:52.000000000",
                    "2025-04-25T14:52:53.000000000",
                    "2025-04-25T14:52:54.000000000",
                    "2025-04-25T14:52:55.000000000",
                    "2025-04-25T14:52:56.000000000",
                    "2025-04-25T14:52:57.000000000",
                    "2025-04-25T14:52:58.000000000",
                    "2025-04-25T14:52:59.000000000",
                    "2025-04-25T14:53:00.000000000",
                    "2025-04-25T14:53:01.000000000",
                    "2025-04-25T14:53:02.000000000",
                    "2025-04-25T14:53:03.000000000",
                    "2025-04-25T14:53:04.000000000",
                    "2025-04-25T14:53:05.000000000",
                    "2025-04-25T14:53:06.000000000",
                    "2025-04-25T14:53:07.000000000",
                    "2025-04-25T14:53:08.000000000",
                    "2025-04-25T14:53:09.000000000",
                    "2025-04-25T14:53:10.000000000",
                    "2025-04-25T14:53:11.000000000",
                    "2025-04-25T14:53:12.000000000",
                    "2025-04-25T14:53:13.000000000",
                    "2025-04-25T14:53:14.000000000",
                    "2025-04-25T14:53:15.000000000",
                    "2025-04-25T14:53:16.000000000",
                    "2025-04-25T14:53:17.000000000",
                    "2025-04-25T14:53:18.000000000",
                    "2025-04-25T14:53:19.000000000",
                    "2025-04-25T14:53:20.000000000",
                    "2025-04-25T14:53:21.000000000",
                    "2025-04-25T14:53:22.000000000",
                    "2025-04-25T14:53:23.000000000",
                    "2025-04-25T14:53:24.000000000",
                    "2025-04-25T14:53:25.000000000",
                    "2025-04-25T14:53:26.000000000",
                    "2025-04-25T14:53:27.000000000",
                    "2025-04-25T14:53:28.000000000",
                    "2025-04-25T14:53:29.000000000",
                    "2025-04-25T14:53:30.000000000",
                    "2025-04-25T14:53:31.000000000",
                    "2025-04-25T14:53:32.000000000",
                    "2025-04-25T14:53:33.000000000",
                    "2025-04-25T14:53:34.000000000",
                    "2025-04-25T14:53:35.000000000",
                    "2025-04-25T14:53:36.000000000",
                    "2025-04-25T14:53:37.000000000",
                    "2025-04-25T14:53:38.000000000",
                    "2025-04-25T14:53:39.000000000",
                    "2025-04-25T14:53:40.000000000",
                    "2025-04-25T14:53:41.000000000",
                    "2025-04-25T14:53:42.000000000",
                    "2025-04-25T14:53:43.000000000",
                    "2025-04-25T14:53:44.000000000",
                    "2025-04-25T14:53:45.000000000",
                    "2025-04-25T14:53:46.000000000",
                    "2025-04-25T14:53:47.000000000",
                    "2025-04-25T14:53:48.000000000",
                    "2025-04-25T14:53:49.000000000",
                    "2025-04-25T14:53:50.000000000",
                    "2025-04-25T14:53:51.000000000",
                    "2025-04-25T14:53:52.000000000",
                    "2025-04-25T14:53:53.000000000",
                    "2025-04-25T14:53:54.000000000",
                    "2025-04-25T14:53:55.000000000",
                    "2025-04-25T14:53:56.000000000",
                    "2025-04-25T14:53:57.000000000",
                    "2025-04-25T14:53:58.000000000",
                    "2025-04-25T14:53:59.000000000",
                    "2025-04-25T14:54:00.000000000",
                    "2025-04-25T14:54:01.000000000",
                    "2025-04-25T14:54:02.000000000",
                    "2025-04-25T14:54:03.000000000",
                    "2025-04-25T14:54:04.000000000",
                    "2025-04-25T14:54:05.000000000",
                    "2025-04-25T14:54:06.000000000",
                    "2025-04-25T14:54:07.000000000",
                    "2025-04-25T14:54:08.000000000",
                    "2025-04-25T14:54:09.000000000",
                    "2025-04-25T14:54:10.000000000",
                    "2025-04-25T14:54:11.000000000",
                    "2025-04-25T14:54:12.000000000",
                    "2025-04-25T14:54:13.000000000",
                    "2025-04-25T14:54:14.000000000",
                    "2025-04-25T14:54:15.000000000",
                    "2025-04-25T14:54:17.000000000",
                    "2025-04-25T14:54:18.000000000",
                    "2025-04-25T14:54:19.000000000",
                    "2025-04-25T14:54:20.000000000",
                    "2025-04-25T14:54:21.000000000",
                    "2025-04-25T14:54:22.000000000",
                    "2025-04-25T14:54:23.000000000",
                    "2025-04-25T14:54:24.000000000",
                    "2025-04-25T14:54:25.000000000",
                    "2025-04-25T14:54:26.000000000",
                    "2025-04-25T14:54:27.000000000",
                    "2025-04-25T14:54:28.000000000",
                    "2025-04-25T14:54:29.000000000",
                    "2025-04-25T14:54:30.000000000",
                    "2025-04-25T14:54:31.000000000",
                    "2025-04-25T14:54:32.000000000",
                    "2025-04-25T14:54:33.000000000",
                    "2025-04-25T14:54:34.000000000",
                    "2025-04-25T14:54:35.000000000",
                    "2025-04-25T14:54:36.000000000",
                    "2025-04-25T14:54:37.000000000",
                    "2025-04-25T14:54:38.000000000",
                    "2025-04-25T14:54:39.000000000",
                    "2025-04-25T14:54:40.000000000",
                    "2025-04-25T14:54:41.000000000",
                    "2025-04-25T14:54:42.000000000",
                    "2025-04-25T14:54:43.000000000",
                    "2025-04-25T14:54:44.000000000",
                    "2025-04-25T14:54:45.000000000",
                    "2025-04-25T14:54:46.000000000",
                    "2025-04-25T14:54:47.000000000",
                    "2025-04-25T14:54:48.000000000",
                    "2025-04-25T14:54:49.000000000",
                    "2025-04-25T14:54:50.000000000",
                    "2025-04-25T14:54:51.000000000",
                    "2025-04-25T14:54:52.000000000",
                    "2025-04-25T14:54:53.000000000",
                    "2025-04-25T14:54:54.000000000",
                    "2025-04-25T14:54:55.000000000",
                    "2025-04-25T14:54:56.000000000",
                    "2025-04-25T14:54:57.000000000",
                    "2025-04-25T14:54:58.000000000",
                    "2025-04-25T14:54:59.000000000",
                    "2025-04-25T14:55:00.000000000",
                    "2025-04-25T14:55:01.000000000",
                    "2025-04-25T14:55:02.000000000",
                    "2025-04-25T14:55:03.000000000",
                    "2025-04-25T14:55:04.000000000",
                    "2025-04-25T14:55:05.000000000",
                    "2025-04-25T14:55:06.000000000",
                    "2025-04-25T14:55:07.000000000",
                    "2025-04-25T14:55:08.000000000",
                    "2025-04-25T14:55:09.000000000",
                    "2025-04-25T14:55:10.000000000",
                    "2025-04-25T14:55:11.000000000",
                    "2025-04-25T14:55:12.000000000",
                    "2025-04-25T14:55:13.000000000",
                    "2025-04-25T14:55:14.000000000",
                    "2025-04-25T14:55:15.000000000",
                    "2025-04-25T14:55:16.000000000",
                    "2025-04-25T14:55:17.000000000",
                    "2025-04-25T14:55:18.000000000",
                    "2025-04-25T14:55:19.000000000",
                    "2025-04-25T14:55:20.000000000",
                    "2025-04-25T14:55:21.000000000",
                    "2025-04-25T14:55:22.000000000",
                    "2025-04-25T14:55:23.000000000",
                    "2025-04-25T14:55:24.000000000",
                    "2025-04-25T14:55:25.000000000",
                    "2025-04-25T14:55:26.000000000",
                    "2025-04-25T14:55:27.000000000",
                    "2025-04-25T14:55:28.000000000",
                    "2025-04-25T14:55:29.000000000",
                    "2025-04-25T14:55:30.000000000",
                    "2025-04-25T14:55:31.000000000",
                    "2025-04-25T14:55:32.000000000",
                    "2025-04-25T14:55:33.000000000",
                    "2025-04-25T14:55:34.000000000",
                    "2025-04-25T14:55:35.000000000",
                    "2025-04-25T14:55:36.000000000",
                    "2025-04-25T14:55:37.000000000",
                    "2025-04-25T14:55:38.000000000",
                    "2025-04-25T14:55:39.000000000",
                    "2025-04-25T14:55:40.000000000",
                    "2025-04-25T14:55:41.000000000",
                    "2025-04-25T14:55:42.000000000",
                    "2025-04-25T14:55:43.000000000",
                    "2025-04-25T14:55:44.000000000",
                    "2025-04-25T14:55:45.000000000",
                    "2025-04-25T14:55:46.000000000",
                    "2025-04-25T14:55:47.000000000",
                    "2025-04-25T14:55:48.000000000",
                    "2025-04-25T14:55:49.000000000",
                    "2025-04-25T14:55:50.000000000",
                    "2025-04-25T14:55:51.000000000",
                    "2025-04-25T14:55:52.000000000",
                    "2025-04-25T14:55:53.000000000",
                    "2025-04-25T14:55:54.000000000",
                    "2025-04-25T14:55:55.000000000",
                    "2025-04-25T14:55:56.000000000",
                    "2025-04-25T14:55:57.000000000",
                    "2025-04-25T14:55:58.000000000",
                    "2025-04-25T14:55:59.000000000",
                    "2025-04-25T14:56:00.000000000",
                    "2025-04-25T14:56:01.000000000",
                    "2025-04-25T14:56:02.000000000",
                    "2025-04-25T14:56:03.000000000",
                    "2025-04-25T14:56:04.000000000",
                    "2025-04-25T14:56:05.000000000",
                    "2025-04-25T14:56:06.000000000",
                    "2025-04-25T14:56:07.000000000",
                    "2025-04-25T14:56:08.000000000",
                    "2025-04-25T14:56:09.000000000",
                    "2025-04-25T14:56:10.000000000",
                    "2025-04-25T14:56:11.000000000",
                    "2025-04-25T14:56:12.000000000",
                    "2025-04-25T14:56:13.000000000",
                    "2025-04-25T14:56:14.000000000",
                    "2025-04-25T14:56:15.000000000",
                    "2025-04-25T14:56:16.000000000",
                    "2025-04-25T14:56:17.000000000",
                    "2025-04-25T14:56:18.000000000",
                    "2025-04-25T14:56:19.000000000",
                    "2025-04-25T14:56:20.000000000",
                    "2025-04-25T14:56:21.000000000",
                    "2025-04-25T14:56:22.000000000",
                    "2025-04-25T14:56:23.000000000",
                    "2025-04-25T14:56:24.000000000",
                    "2025-04-25T14:56:25.000000000",
                    "2025-04-25T14:56:26.000000000",
                    "2025-04-25T14:56:27.000000000",
                    "2025-04-25T14:56:28.000000000",
                    "2025-04-25T14:56:29.000000000",
                    "2025-04-25T14:56:30.000000000",
                    "2025-04-25T14:56:31.000000000",
                    "2025-04-25T14:56:32.000000000",
                    "2025-04-25T14:56:33.000000000",
                    "2025-04-25T14:56:34.000000000",
                    "2025-04-25T14:56:35.000000000",
                    "2025-04-25T14:56:36.000000000",
                    "2025-04-25T14:56:37.000000000",
                    "2025-04-25T14:56:38.000000000",
                    "2025-04-25T14:56:39.000000000",
                    "2025-04-25T14:56:40.000000000",
                    "2025-04-25T14:56:41.000000000",
                    "2025-04-25T14:56:42.000000000",
                    "2025-04-25T14:56:43.000000000",
                    "2025-04-25T14:56:44.000000000",
                    "2025-04-25T14:56:45.000000000",
                    "2025-04-25T14:56:46.000000000",
                    "2025-04-25T14:56:47.000000000",
                    "2025-04-25T14:56:48.000000000",
                    "2025-04-25T14:56:49.000000000",
                    "2025-04-25T14:56:50.000000000",
                    "2025-04-25T14:56:51.000000000",
                    "2025-04-25T14:56:52.000000000",
                    "2025-04-25T14:56:53.000000000",
                    "2025-04-25T14:56:54.000000000",
                    "2025-04-25T14:56:55.000000000",
                    "2025-04-25T14:56:56.000000000",
                    "2025-04-25T14:56:57.000000000",
                    "2025-04-25T14:56:58.000000000",
                    "2025-04-25T14:56:59.000000000",
                    "2025-04-25T14:57:00.000000000",
                    "2025-04-25T14:57:01.000000000",
                    "2025-04-25T14:57:02.000000000",
                    "2025-04-25T14:57:03.000000000",
                    "2025-04-25T14:57:04.000000000",
                    "2025-04-25T14:57:05.000000000",
                    "2025-04-25T14:57:06.000000000",
                    "2025-04-25T14:57:07.000000000",
                    "2025-04-25T14:57:08.000000000",
                    "2025-04-25T14:57:09.000000000",
                    "2025-04-25T14:57:10.000000000",
                    "2025-04-25T14:57:11.000000000",
                    "2025-04-25T14:57:12.000000000",
                    "2025-04-25T14:57:13.000000000",
                    "2025-04-25T14:57:14.000000000",
                    "2025-04-25T14:57:15.000000000",
                    "2025-04-25T14:57:16.000000000",
                    "2025-04-25T14:57:17.000000000",
                    "2025-04-25T14:57:18.000000000",
                    "2025-04-25T14:57:19.000000000",
                    "2025-04-25T14:57:20.000000000",
                    "2025-04-25T14:57:21.000000000",
                    "2025-04-25T14:57:22.000000000",
                    "2025-04-25T14:57:23.000000000",
                    "2025-04-25T14:57:24.000000000",
                    "2025-04-25T14:57:25.000000000",
                    "2025-04-25T14:57:26.000000000",
                    "2025-04-25T14:57:27.000000000",
                    "2025-04-25T14:57:28.000000000",
                    "2025-04-25T14:57:29.000000000",
                    "2025-04-25T14:57:30.000000000",
                    "2025-04-25T14:57:31.000000000",
                    "2025-04-25T14:57:32.000000000",
                    "2025-04-25T14:57:33.000000000",
                    "2025-04-25T14:57:34.000000000",
                    "2025-04-25T14:57:35.000000000",
                    "2025-04-25T14:57:36.000000000",
                    "2025-04-25T14:57:37.000000000",
                    "2025-04-25T14:57:38.000000000",
                    "2025-04-25T14:57:39.000000000",
                    "2025-04-25T14:57:40.000000000",
                    "2025-04-25T14:57:41.000000000",
                    "2025-04-25T14:57:42.000000000",
                    "2025-04-25T14:57:43.000000000",
                    "2025-04-25T14:57:44.000000000",
                    "2025-04-25T14:57:45.000000000",
                    "2025-04-25T14:57:46.000000000",
                    "2025-04-25T14:57:47.000000000",
                    "2025-04-25T14:57:48.000000000",
                    "2025-04-25T14:57:49.000000000",
                    "2025-04-25T14:57:50.000000000",
                    "2025-04-25T14:57:51.000000000",
                    "2025-04-25T14:57:52.000000000",
                    "2025-04-25T14:57:53.000000000",
                    "2025-04-25T14:57:54.000000000",
                    "2025-04-25T14:57:55.000000000",
                    "2025-04-25T14:57:56.000000000",
                    "2025-04-25T14:57:57.000000000",
                    "2025-04-25T14:57:58.000000000",
                    "2025-04-25T14:57:59.000000000",
                    "2025-04-25T14:58:00.000000000",
                    "2025-04-25T14:58:01.000000000",
                    "2025-04-25T14:58:02.000000000",
                    "2025-04-25T14:58:03.000000000",
                    "2025-04-25T14:58:04.000000000",
                    "2025-04-25T14:58:05.000000000",
                    "2025-04-25T14:58:06.000000000",
                    "2025-04-25T14:58:07.000000000",
                    "2025-04-25T14:58:09.000000000",
                    "2025-04-25T14:58:10.000000000",
                    "2025-04-25T14:58:11.000000000",
                    "2025-04-25T14:58:12.000000000",
                    "2025-04-25T14:58:13.000000000",
                    "2025-04-25T14:58:14.000000000",
                    "2025-04-25T14:58:15.000000000",
                    "2025-04-25T14:58:16.000000000",
                    "2025-04-25T14:58:17.000000000",
                    "2025-04-25T14:58:18.000000000",
                    "2025-04-25T14:58:19.000000000",
                    "2025-04-25T14:58:20.000000000",
                    "2025-04-25T14:58:21.000000000",
                    "2025-04-25T14:58:22.000000000",
                    "2025-04-25T14:58:23.000000000",
                    "2025-04-25T14:58:24.000000000",
                    "2025-04-25T14:58:25.000000000",
                    "2025-04-25T14:58:26.000000000",
                    "2025-04-25T14:58:27.000000000",
                    "2025-04-25T14:58:28.000000000",
                    "2025-04-25T14:58:29.000000000",
                    "2025-04-25T14:58:30.000000000",
                    "2025-04-25T14:58:31.000000000",
                    "2025-04-25T14:58:32.000000000",
                    "2025-04-25T14:58:33.000000000",
                    "2025-04-25T14:58:34.000000000",
                    "2025-04-25T14:58:35.000000000",
                    "2025-04-25T14:58:36.000000000",
                    "2025-04-25T14:58:37.000000000",
                    "2025-04-25T14:58:38.000000000",
                    "2025-04-25T14:58:39.000000000",
                    "2025-04-25T14:58:40.000000000",
                    "2025-04-25T14:58:41.000000000",
                    "2025-04-25T14:58:42.000000000",
                    "2025-04-25T14:58:43.000000000",
                    "2025-04-25T14:58:44.000000000",
                    "2025-04-25T14:58:45.000000000",
                    "2025-04-25T14:58:46.000000000",
                    "2025-04-25T14:58:47.000000000",
                    "2025-04-25T14:58:48.000000000",
                    "2025-04-25T14:58:49.000000000",
                    "2025-04-25T14:58:50.000000000",
                    "2025-04-25T14:58:51.000000000",
                    "2025-04-25T14:58:52.000000000",
                    "2025-04-25T14:58:53.000000000",
                    "2025-04-25T14:58:54.000000000",
                    "2025-04-25T14:58:55.000000000",
                    "2025-04-25T14:58:56.000000000",
                    "2025-04-25T14:58:57.000000000",
                    "2025-04-25T14:58:58.000000000",
                    "2025-04-25T14:58:59.000000000",
                    "2025-04-25T14:59:00.000000000",
                    "2025-04-25T14:59:01.000000000",
                    "2025-04-25T14:59:02.000000000",
                    "2025-04-25T14:59:03.000000000",
                    "2025-04-25T14:59:04.000000000",
                    "2025-04-25T14:59:05.000000000",
                    "2025-04-25T14:59:06.000000000",
                    "2025-04-25T14:59:07.000000000",
                    "2025-04-25T14:59:08.000000000",
                    "2025-04-25T14:59:09.000000000",
                    "2025-04-25T14:59:10.000000000",
                    "2025-04-25T14:59:11.000000000",
                    "2025-04-25T14:59:12.000000000",
                    "2025-04-25T14:59:13.000000000",
                    "2025-04-25T14:59:14.000000000",
                    "2025-04-25T14:59:15.000000000",
                    "2025-04-25T14:59:16.000000000",
                    "2025-04-25T14:59:17.000000000",
                    "2025-04-25T14:59:18.000000000",
                    "2025-04-25T14:59:19.000000000",
                    "2025-04-25T14:59:20.000000000",
                    "2025-04-25T14:59:21.000000000",
                    "2025-04-25T14:59:22.000000000",
                    "2025-04-25T14:59:23.000000000",
                    "2025-04-25T14:59:24.000000000",
                    "2025-04-25T14:59:25.000000000",
                    "2025-04-25T14:59:26.000000000",
                    "2025-04-25T14:59:27.000000000",
                    "2025-04-25T14:59:28.000000000",
                    "2025-04-25T14:59:29.000000000",
                    "2025-04-25T14:59:30.000000000",
                    "2025-04-25T14:59:31.000000000",
                    "2025-04-25T14:59:32.000000000",
                    "2025-04-25T14:59:33.000000000",
                    "2025-04-25T14:59:34.000000000",
                    "2025-04-25T14:59:35.000000000",
                    "2025-04-25T14:59:36.000000000",
                    "2025-04-25T14:59:37.000000000",
                    "2025-04-25T14:59:38.000000000",
                    "2025-04-25T14:59:39.000000000",
                    "2025-04-25T14:59:40.000000000",
                    "2025-04-25T14:59:41.000000000",
                    "2025-04-25T14:59:42.000000000",
                    "2025-04-25T14:59:43.000000000",
                    "2025-04-25T14:59:44.000000000",
                    "2025-04-25T14:59:45.000000000",
                    "2025-04-25T14:59:46.000000000",
                    "2025-04-25T14:59:47.000000000",
                    "2025-04-25T14:59:48.000000000",
                    "2025-04-25T14:59:49.000000000",
                    "2025-04-25T14:59:50.000000000",
                    "2025-04-25T14:59:51.000000000",
                    "2025-04-25T14:59:52.000000000",
                    "2025-04-25T14:59:53.000000000",
                    "2025-04-25T14:59:54.000000000",
                    "2025-04-25T14:59:55.000000000",
                    "2025-04-25T14:59:56.000000000",
                    "2025-04-25T14:59:57.000000000",
                    "2025-04-25T14:59:58.000000000",
                    "2025-04-25T14:59:59.000000000",
                    "2025-04-25T15:00:00.000000000",
                    "2025-04-25T15:00:01.000000000",
                    "2025-04-25T15:00:02.000000000",
                    "2025-04-25T15:00:03.000000000",
                    "2025-04-25T15:00:04.000000000",
                    "2025-04-25T15:00:05.000000000",
                    "2025-04-25T15:00:06.000000000",
                    "2025-04-25T15:00:07.000000000",
                    "2025-04-25T15:00:08.000000000",
                    "2025-04-25T15:00:09.000000000",
                    "2025-04-25T15:00:10.000000000",
                    "2025-04-25T15:00:11.000000000",
                    "2025-04-25T15:00:12.000000000",
                    "2025-04-25T15:00:13.000000000",
                    "2025-04-25T15:00:14.000000000",
                    "2025-04-25T15:00:15.000000000",
                    "2025-04-25T15:00:16.000000000",
                    "2025-04-25T15:00:17.000000000",
                    "2025-04-25T15:00:18.000000000",
                    "2025-04-25T15:00:19.000000000",
                    "2025-04-25T15:00:20.000000000",
                    "2025-04-25T15:00:21.000000000",
                    "2025-04-25T15:00:22.000000000",
                    "2025-04-25T15:00:23.000000000",
                    "2025-04-25T15:00:24.000000000",
                    "2025-04-25T15:00:25.000000000",
                    "2025-04-25T15:00:26.000000000",
                    "2025-04-25T15:00:27.000000000",
                    "2025-04-25T15:00:28.000000000",
                    "2025-04-25T15:00:29.000000000",
                    "2025-04-25T15:00:30.000000000",
                    "2025-04-25T15:00:31.000000000",
                    "2025-04-25T15:00:32.000000000",
                    "2025-04-25T15:00:33.000000000",
                    "2025-04-25T15:00:34.000000000",
                    "2025-04-25T15:00:35.000000000",
                    "2025-04-25T15:00:36.000000000",
                    "2025-04-25T15:00:37.000000000",
                    "2025-04-25T15:00:38.000000000",
                    "2025-04-25T15:00:39.000000000",
                    "2025-04-25T15:00:40.000000000",
                    "2025-04-25T15:00:41.000000000",
                    "2025-04-25T15:00:42.000000000",
                    "2025-04-25T15:00:43.000000000",
                    "2025-04-25T15:00:44.000000000",
                    "2025-04-25T15:00:45.000000000",
                    "2025-04-25T15:00:46.000000000",
                    "2025-04-25T15:00:47.000000000",
                    "2025-04-25T15:00:48.000000000",
                    "2025-04-25T15:00:49.000000000",
                    "2025-04-25T15:00:50.000000000",
                    "2025-04-25T15:00:51.000000000",
                    "2025-04-25T15:00:52.000000000",
                    "2025-04-25T15:00:53.000000000",
                    "2025-04-25T15:00:54.000000000",
                    "2025-04-25T15:00:55.000000000",
                    "2025-04-25T15:00:56.000000000",
                    "2025-04-25T15:00:57.000000000",
                    "2025-04-25T15:00:58.000000000",
                    "2025-04-25T15:00:59.000000000",
                    "2025-04-25T15:01:00.000000000",
                    "2025-04-25T15:01:01.000000000",
                    "2025-04-25T15:01:02.000000000",
                    "2025-04-25T15:01:03.000000000",
                    "2025-04-25T15:01:04.000000000",
                    "2025-04-25T15:01:05.000000000",
                    "2025-04-25T15:01:06.000000000",
                    "2025-04-25T15:01:07.000000000",
                    "2025-04-25T15:01:08.000000000",
                    "2025-04-25T15:01:09.000000000",
                    "2025-04-25T15:01:10.000000000",
                    "2025-04-25T15:01:11.000000000",
                    "2025-04-25T15:01:12.000000000",
                    "2025-04-25T15:01:13.000000000",
                    "2025-04-25T15:01:15.000000000",
                    "2025-04-25T15:01:16.000000000",
                    "2025-04-25T15:01:17.000000000",
                    "2025-04-25T15:01:18.000000000",
                    "2025-04-25T15:01:19.000000000",
                    "2025-04-25T15:01:20.000000000",
                    "2025-04-25T15:01:21.000000000",
                    "2025-04-25T15:01:22.000000000",
                    "2025-04-25T15:01:23.000000000",
                    "2025-04-25T15:01:24.000000000",
                    "2025-04-25T15:01:25.000000000",
                    "2025-04-25T15:01:26.000000000",
                    "2025-04-25T15:01:27.000000000",
                    "2025-04-25T15:01:28.000000000",
                    "2025-04-25T15:01:29.000000000",
                    "2025-04-25T15:01:30.000000000",
                    "2025-04-25T15:01:31.000000000",
                    "2025-04-25T15:01:32.000000000",
                    "2025-04-25T15:01:33.000000000",
                    "2025-04-25T15:01:34.000000000",
                    "2025-04-25T15:01:35.000000000",
                    "2025-04-25T15:01:36.000000000",
                    "2025-04-25T15:01:37.000000000",
                    "2025-04-25T15:01:38.000000000",
                    "2025-04-25T15:01:39.000000000",
                    "2025-04-25T15:01:40.000000000",
                    "2025-04-25T15:01:41.000000000",
                    "2025-04-25T15:01:42.000000000",
                    "2025-04-25T15:01:43.000000000",
                    "2025-04-25T15:01:44.000000000",
                    "2025-04-25T15:01:45.000000000",
                    "2025-04-25T15:01:46.000000000",
                    "2025-04-25T15:01:47.000000000",
                    "2025-04-25T15:01:48.000000000",
                    "2025-04-25T15:01:49.000000000",
                    "2025-04-25T15:01:50.000000000",
                    "2025-04-25T15:01:51.000000000",
                    "2025-04-25T15:01:52.000000000",
                    "2025-04-25T15:01:53.000000000",
                    "2025-04-25T15:01:54.000000000",
                    "2025-04-25T15:01:55.000000000",
                    "2025-04-25T15:01:56.000000000",
                    "2025-04-25T15:01:57.000000000",
                    "2025-04-25T15:01:58.000000000",
                    "2025-04-25T15:01:59.000000000",
                    "2025-04-25T15:02:00.000000000",
                    "2025-04-25T15:02:01.000000000"
                  ],
                  "y": {
                    "bdata": "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",
                    "dtype": "i2"
                  }
                },
                {
                  "mode": "lines+markers",
                  "name": "ADC2",
                  "type": "scatter",
                  "x": [
                    "2025-04-25T14:49:13.000000000",
                    "2025-04-25T14:49:15.000000000",
                    "2025-04-25T14:49:16.000000000",
                    "2025-04-25T14:49:17.000000000",
                    "2025-04-25T14:49:18.000000000",
                    "2025-04-25T14:49:19.000000000",
                    "2025-04-25T14:49:20.000000000",
                    "2025-04-25T14:49:21.000000000",
                    "2025-04-25T14:49:22.000000000",
                    "2025-04-25T14:49:23.000000000",
                    "2025-04-25T14:49:24.000000000",
                    "2025-04-25T14:49:25.000000000",
                    "2025-04-25T14:49:26.000000000",
                    "2025-04-25T14:49:27.000000000",
                    "2025-04-25T14:49:28.000000000",
                    "2025-04-25T14:49:29.000000000",
                    "2025-04-25T14:49:30.000000000",
                    "2025-04-25T14:49:31.000000000",
                    "2025-04-25T14:49:32.000000000",
                    "2025-04-25T14:49:33.000000000",
                    "2025-04-25T14:49:34.000000000",
                    "2025-04-25T14:49:35.000000000",
                    "2025-04-25T14:49:36.000000000",
                    "2025-04-25T14:49:37.000000000",
                    "2025-04-25T14:49:38.000000000",
                    "2025-04-25T14:49:39.000000000",
                    "2025-04-25T14:49:40.000000000",
                    "2025-04-25T14:49:41.000000000",
                    "2025-04-25T14:49:42.000000000",
                    "2025-04-25T14:49:43.000000000",
                    "2025-04-25T14:49:44.000000000",
                    "2025-04-25T14:49:45.000000000",
                    "2025-04-25T14:49:46.000000000",
                    "2025-04-25T14:49:47.000000000",
                    "2025-04-25T14:49:48.000000000",
                    "2025-04-25T14:49:49.000000000",
                    "2025-04-25T14:49:50.000000000",
                    "2025-04-25T14:49:51.000000000",
                    "2025-04-25T14:49:52.000000000",
                    "2025-04-25T14:49:53.000000000",
                    "2025-04-25T14:49:54.000000000",
                    "2025-04-25T14:49:55.000000000",
                    "2025-04-25T14:49:56.000000000",
                    "2025-04-25T14:49:57.000000000",
                    "2025-04-25T14:49:58.000000000",
                    "2025-04-25T14:49:59.000000000",
                    "2025-04-25T14:50:00.000000000",
                    "2025-04-25T14:50:01.000000000",
                    "2025-04-25T14:50:02.000000000",
                    "2025-04-25T14:50:03.000000000",
                    "2025-04-25T14:50:04.000000000",
                    "2025-04-25T14:50:05.000000000",
                    "2025-04-25T14:50:06.000000000",
                    "2025-04-25T14:50:07.000000000",
                    "2025-04-25T14:50:08.000000000",
                    "2025-04-25T14:50:09.000000000",
                    "2025-04-25T14:50:10.000000000",
                    "2025-04-25T14:50:11.000000000",
                    "2025-04-25T14:50:12.000000000",
                    "2025-04-25T14:50:13.000000000",
                    "2025-04-25T14:50:14.000000000",
                    "2025-04-25T14:50:15.000000000",
                    "2025-04-25T14:50:16.000000000",
                    "2025-04-25T14:50:17.000000000",
                    "2025-04-25T14:50:19.000000000",
                    "2025-04-25T14:50:20.000000000",
                    "2025-04-25T14:50:21.000000000",
                    "2025-04-25T14:50:22.000000000",
                    "2025-04-25T14:50:23.000000000",
                    "2025-04-25T14:50:24.000000000",
                    "2025-04-25T14:50:25.000000000",
                    "2025-04-25T14:50:26.000000000",
                    "2025-04-25T14:50:27.000000000",
                    "2025-04-25T14:50:28.000000000",
                    "2025-04-25T14:50:29.000000000",
                    "2025-04-25T14:50:30.000000000",
                    "2025-04-25T14:50:31.000000000",
                    "2025-04-25T14:50:32.000000000",
                    "2025-04-25T14:50:33.000000000",
                    "2025-04-25T14:50:34.000000000",
                    "2025-04-25T14:50:35.000000000",
                    "2025-04-25T14:50:36.000000000",
                    "2025-04-25T14:50:37.000000000",
                    "2025-04-25T14:50:38.000000000",
                    "2025-04-25T14:50:39.000000000",
                    "2025-04-25T14:50:40.000000000",
                    "2025-04-25T14:50:41.000000000",
                    "2025-04-25T14:50:42.000000000",
                    "2025-04-25T14:50:43.000000000",
                    "2025-04-25T14:50:44.000000000",
                    "2025-04-25T14:50:45.000000000",
                    "2025-04-25T14:50:46.000000000",
                    "2025-04-25T14:50:47.000000000",
                    "2025-04-25T14:50:48.000000000",
                    "2025-04-25T14:50:49.000000000",
                    "2025-04-25T14:50:50.000000000",
                    "2025-04-25T14:50:51.000000000",
                    "2025-04-25T14:50:52.000000000",
                    "2025-04-25T14:50:53.000000000",
                    "2025-04-25T14:50:54.000000000",
                    "2025-04-25T14:50:55.000000000",
                    "2025-04-25T14:50:56.000000000",
                    "2025-04-25T14:50:57.000000000",
                    "2025-04-25T14:50:58.000000000",
                    "2025-04-25T14:50:59.000000000",
                    "2025-04-25T14:51:00.000000000",
                    "2025-04-25T14:51:01.000000000",
                    "2025-04-25T14:51:02.000000000",
                    "2025-04-25T14:51:03.000000000",
                    "2025-04-25T14:51:04.000000000",
                    "2025-04-25T14:51:05.000000000",
                    "2025-04-25T14:51:06.000000000",
                    "2025-04-25T14:51:07.000000000",
                    "2025-04-25T14:51:08.000000000",
                    "2025-04-25T14:51:09.000000000",
                    "2025-04-25T14:51:10.000000000",
                    "2025-04-25T14:51:11.000000000",
                    "2025-04-25T14:51:12.000000000",
                    "2025-04-25T14:51:13.000000000",
                    "2025-04-25T14:51:14.000000000",
                    "2025-04-25T14:51:15.000000000",
                    "2025-04-25T14:51:16.000000000",
                    "2025-04-25T14:51:17.000000000",
                    "2025-04-25T14:51:18.000000000",
                    "2025-04-25T14:51:19.000000000",
                    "2025-04-25T14:51:20.000000000",
                    "2025-04-25T14:51:21.000000000",
                    "2025-04-25T14:51:22.000000000",
                    "2025-04-25T14:51:23.000000000",
                    "2025-04-25T14:51:24.000000000",
                    "2025-04-25T14:51:25.000000000",
                    "2025-04-25T14:51:26.000000000",
                    "2025-04-25T14:51:27.000000000",
                    "2025-04-25T14:51:28.000000000",
                    "2025-04-25T14:51:29.000000000",
                    "2025-04-25T14:51:30.000000000",
                    "2025-04-25T14:51:31.000000000",
                    "2025-04-25T14:51:32.000000000",
                    "2025-04-25T14:51:33.000000000",
                    "2025-04-25T14:51:34.000000000",
                    "2025-04-25T14:51:35.000000000",
                    "2025-04-25T14:51:36.000000000",
                    "2025-04-25T14:51:37.000000000",
                    "2025-04-25T14:51:38.000000000",
                    "2025-04-25T14:51:39.000000000",
                    "2025-04-25T14:51:40.000000000",
                    "2025-04-25T14:51:41.000000000",
                    "2025-04-25T14:51:42.000000000",
                    "2025-04-25T14:51:43.000000000",
                    "2025-04-25T14:51:44.000000000",
                    "2025-04-25T14:51:45.000000000",
                    "2025-04-25T14:51:46.000000000",
                    "2025-04-25T14:51:47.000000000",
                    "2025-04-25T14:51:48.000000000",
                    "2025-04-25T14:51:49.000000000",
                    "2025-04-25T14:51:50.000000000",
                    "2025-04-25T14:51:51.000000000",
                    "2025-04-25T14:51:52.000000000",
                    "2025-04-25T14:51:53.000000000",
                    "2025-04-25T14:51:54.000000000",
                    "2025-04-25T14:51:55.000000000",
                    "2025-04-25T14:51:56.000000000",
                    "2025-04-25T14:51:57.000000000",
                    "2025-04-25T14:51:58.000000000",
                    "2025-04-25T14:51:59.000000000",
                    "2025-04-25T14:52:00.000000000",
                    "2025-04-25T14:52:01.000000000",
                    "2025-04-25T14:52:02.000000000",
                    "2025-04-25T14:52:03.000000000",
                    "2025-04-25T14:52:04.000000000",
                    "2025-04-25T14:52:05.000000000",
                    "2025-04-25T14:52:06.000000000",
                    "2025-04-25T14:52:07.000000000",
                    "2025-04-25T14:52:08.000000000",
                    "2025-04-25T14:52:09.000000000",
                    "2025-04-25T14:52:10.000000000",
                    "2025-04-25T14:52:11.000000000",
                    "2025-04-25T14:52:12.000000000",
                    "2025-04-25T14:52:13.000000000",
                    "2025-04-25T14:52:14.000000000",
                    "2025-04-25T14:52:15.000000000",
                    "2025-04-25T14:52:16.000000000",
                    "2025-04-25T14:52:17.000000000",
                    "2025-04-25T14:52:18.000000000",
                    "2025-04-25T14:52:19.000000000",
                    "2025-04-25T14:52:20.000000000",
                    "2025-04-25T14:52:21.000000000",
                    "2025-04-25T14:52:22.000000000",
                    "2025-04-25T14:52:23.000000000",
                    "2025-04-25T14:52:24.000000000",
                    "2025-04-25T14:52:25.000000000",
                    "2025-04-25T14:52:26.000000000",
                    "2025-04-25T14:52:27.000000000",
                    "2025-04-25T14:52:28.000000000",
                    "2025-04-25T14:52:29.000000000",
                    "2025-04-25T14:52:30.000000000",
                    "2025-04-25T14:52:31.000000000",
                    "2025-04-25T14:52:32.000000000",
                    "2025-04-25T14:52:33.000000000",
                    "2025-04-25T14:52:34.000000000",
                    "2025-04-25T14:52:35.000000000",
                    "2025-04-25T14:52:36.000000000",
                    "2025-04-25T14:52:37.000000000",
                    "2025-04-25T14:52:38.000000000",
                    "2025-04-25T14:52:39.000000000",
                    "2025-04-25T14:52:40.000000000",
                    "2025-04-25T14:52:41.000000000",
                    "2025-04-25T14:52:42.000000000",
                    "2025-04-25T14:52:43.000000000",
                    "2025-04-25T14:52:44.000000000",
                    "2025-04-25T14:52:45.000000000",
                    "2025-04-25T14:52:46.000000000",
                    "2025-04-25T14:52:47.000000000",
                    "2025-04-25T14:52:48.000000000",
                    "2025-04-25T14:52:49.000000000",
                    "2025-04-25T14:52:50.000000000",
                    "2025-04-25T14:52:51.000000000",
                    "2025-04-25T14:52:52.000000000",
                    "2025-04-25T14:52:53.000000000",
                    "2025-04-25T14:52:54.000000000",
                    "2025-04-25T14:52:55.000000000",
                    "2025-04-25T14:52:56.000000000",
                    "2025-04-25T14:52:57.000000000",
                    "2025-04-25T14:52:58.000000000",
                    "2025-04-25T14:52:59.000000000",
                    "2025-04-25T14:53:00.000000000",
                    "2025-04-25T14:53:01.000000000",
                    "2025-04-25T14:53:02.000000000",
                    "2025-04-25T14:53:03.000000000",
                    "2025-04-25T14:53:04.000000000",
                    "2025-04-25T14:53:05.000000000",
                    "2025-04-25T14:53:06.000000000",
                    "2025-04-25T14:53:07.000000000",
                    "2025-04-25T14:53:08.000000000",
                    "2025-04-25T14:53:09.000000000",
                    "2025-04-25T14:53:10.000000000",
                    "2025-04-25T14:53:11.000000000",
                    "2025-04-25T14:53:12.000000000",
                    "2025-04-25T14:53:13.000000000",
                    "2025-04-25T14:53:14.000000000",
                    "2025-04-25T14:53:15.000000000",
                    "2025-04-25T14:53:16.000000000",
                    "2025-04-25T14:53:17.000000000",
                    "2025-04-25T14:53:18.000000000",
                    "2025-04-25T14:53:19.000000000",
                    "2025-04-25T14:53:20.000000000",
                    "2025-04-25T14:53:21.000000000",
                    "2025-04-25T14:53:22.000000000",
                    "2025-04-25T14:53:23.000000000",
                    "2025-04-25T14:53:24.000000000",
                    "2025-04-25T14:53:25.000000000",
                    "2025-04-25T14:53:26.000000000",
                    "2025-04-25T14:53:27.000000000",
                    "2025-04-25T14:53:28.000000000",
                    "2025-04-25T14:53:29.000000000",
                    "2025-04-25T14:53:30.000000000",
                    "2025-04-25T14:53:31.000000000",
                    "2025-04-25T14:53:32.000000000",
                    "2025-04-25T14:53:33.000000000",
                    "2025-04-25T14:53:34.000000000",
                    "2025-04-25T14:53:35.000000000",
                    "2025-04-25T14:53:36.000000000",
                    "2025-04-25T14:53:37.000000000",
                    "2025-04-25T14:53:38.000000000",
                    "2025-04-25T14:53:39.000000000",
                    "2025-04-25T14:53:40.000000000",
                    "2025-04-25T14:53:41.000000000",
                    "2025-04-25T14:53:42.000000000",
                    "2025-04-25T14:53:43.000000000",
                    "2025-04-25T14:53:44.000000000",
                    "2025-04-25T14:53:45.000000000",
                    "2025-04-25T14:53:46.000000000",
                    "2025-04-25T14:53:47.000000000",
                    "2025-04-25T14:53:48.000000000",
                    "2025-04-25T14:53:49.000000000",
                    "2025-04-25T14:53:50.000000000",
                    "2025-04-25T14:53:51.000000000",
                    "2025-04-25T14:53:52.000000000",
                    "2025-04-25T14:53:53.000000000",
                    "2025-04-25T14:53:54.000000000",
                    "2025-04-25T14:53:55.000000000",
                    "2025-04-25T14:53:56.000000000",
                    "2025-04-25T14:53:57.000000000",
                    "2025-04-25T14:53:58.000000000",
                    "2025-04-25T14:53:59.000000000",
                    "2025-04-25T14:54:00.000000000",
                    "2025-04-25T14:54:01.000000000",
                    "2025-04-25T14:54:02.000000000",
                    "2025-04-25T14:54:03.000000000",
                    "2025-04-25T14:54:04.000000000",
                    "2025-04-25T14:54:05.000000000",
                    "2025-04-25T14:54:06.000000000",
                    "2025-04-25T14:54:07.000000000",
                    "2025-04-25T14:54:08.000000000",
                    "2025-04-25T14:54:09.000000000",
                    "2025-04-25T14:54:10.000000000",
                    "2025-04-25T14:54:11.000000000",
                    "2025-04-25T14:54:12.000000000",
                    "2025-04-25T14:54:13.000000000",
                    "2025-04-25T14:54:14.000000000",
                    "2025-04-25T14:54:15.000000000",
                    "2025-04-25T14:54:17.000000000",
                    "2025-04-25T14:54:18.000000000",
                    "2025-04-25T14:54:19.000000000",
                    "2025-04-25T14:54:20.000000000",
                    "2025-04-25T14:54:21.000000000",
                    "2025-04-25T14:54:22.000000000",
                    "2025-04-25T14:54:23.000000000",
                    "2025-04-25T14:54:24.000000000",
                    "2025-04-25T14:54:25.000000000",
                    "2025-04-25T14:54:26.000000000",
                    "2025-04-25T14:54:27.000000000",
                    "2025-04-25T14:54:28.000000000",
                    "2025-04-25T14:54:29.000000000",
                    "2025-04-25T14:54:30.000000000",
                    "2025-04-25T14:54:31.000000000",
                    "2025-04-25T14:54:32.000000000",
                    "2025-04-25T14:54:33.000000000",
                    "2025-04-25T14:54:34.000000000",
                    "2025-04-25T14:54:35.000000000",
                    "2025-04-25T14:54:36.000000000",
                    "2025-04-25T14:54:37.000000000",
                    "2025-04-25T14:54:38.000000000",
                    "2025-04-25T14:54:39.000000000",
                    "2025-04-25T14:54:40.000000000",
                    "2025-04-25T14:54:41.000000000",
                    "2025-04-25T14:54:42.000000000",
                    "2025-04-25T14:54:43.000000000",
                    "2025-04-25T14:54:44.000000000",
                    "2025-04-25T14:54:45.000000000",
                    "2025-04-25T14:54:46.000000000",
                    "2025-04-25T14:54:47.000000000",
                    "2025-04-25T14:54:48.000000000",
                    "2025-04-25T14:54:49.000000000",
                    "2025-04-25T14:54:50.000000000",
                    "2025-04-25T14:54:51.000000000",
                    "2025-04-25T14:54:52.000000000",
                    "2025-04-25T14:54:53.000000000",
                    "2025-04-25T14:54:54.000000000",
                    "2025-04-25T14:54:55.000000000",
                    "2025-04-25T14:54:56.000000000",
                    "2025-04-25T14:54:57.000000000",
                    "2025-04-25T14:54:58.000000000",
                    "2025-04-25T14:54:59.000000000",
                    "2025-04-25T14:55:00.000000000",
                    "2025-04-25T14:55:01.000000000",
                    "2025-04-25T14:55:02.000000000",
                    "2025-04-25T14:55:03.000000000",
                    "2025-04-25T14:55:04.000000000",
                    "2025-04-25T14:55:05.000000000",
                    "2025-04-25T14:55:06.000000000",
                    "2025-04-25T14:55:07.000000000",
                    "2025-04-25T14:55:08.000000000",
                    "2025-04-25T14:55:09.000000000",
                    "2025-04-25T14:55:10.000000000",
                    "2025-04-25T14:55:11.000000000",
                    "2025-04-25T14:55:12.000000000",
                    "2025-04-25T14:55:13.000000000",
                    "2025-04-25T14:55:14.000000000",
                    "2025-04-25T14:55:15.000000000",
                    "2025-04-25T14:55:16.000000000",
                    "2025-04-25T14:55:17.000000000",
                    "2025-04-25T14:55:18.000000000",
                    "2025-04-25T14:55:19.000000000",
                    "2025-04-25T14:55:20.000000000",
                    "2025-04-25T14:55:21.000000000",
                    "2025-04-25T14:55:22.000000000",
                    "2025-04-25T14:55:23.000000000",
                    "2025-04-25T14:55:24.000000000",
                    "2025-04-25T14:55:25.000000000",
                    "2025-04-25T14:55:26.000000000",
                    "2025-04-25T14:55:27.000000000",
                    "2025-04-25T14:55:28.000000000",
                    "2025-04-25T14:55:29.000000000",
                    "2025-04-25T14:55:30.000000000",
                    "2025-04-25T14:55:31.000000000",
                    "2025-04-25T14:55:32.000000000",
                    "2025-04-25T14:55:33.000000000",
                    "2025-04-25T14:55:34.000000000",
                    "2025-04-25T14:55:35.000000000",
                    "2025-04-25T14:55:36.000000000",
                    "2025-04-25T14:55:37.000000000",
                    "2025-04-25T14:55:38.000000000",
                    "2025-04-25T14:55:39.000000000",
                    "2025-04-25T14:55:40.000000000",
                    "2025-04-25T14:55:41.000000000",
                    "2025-04-25T14:55:42.000000000",
                    "2025-04-25T14:55:43.000000000",
                    "2025-04-25T14:55:44.000000000",
                    "2025-04-25T14:55:45.000000000",
                    "2025-04-25T14:55:46.000000000",
                    "2025-04-25T14:55:47.000000000",
                    "2025-04-25T14:55:48.000000000",
                    "2025-04-25T14:55:49.000000000",
                    "2025-04-25T14:55:50.000000000",
                    "2025-04-25T14:55:51.000000000",
                    "2025-04-25T14:55:52.000000000",
                    "2025-04-25T14:55:53.000000000",
                    "2025-04-25T14:55:54.000000000",
                    "2025-04-25T14:55:55.000000000",
                    "2025-04-25T14:55:56.000000000",
                    "2025-04-25T14:55:57.000000000",
                    "2025-04-25T14:55:58.000000000",
                    "2025-04-25T14:55:59.000000000",
                    "2025-04-25T14:56:00.000000000",
                    "2025-04-25T14:56:01.000000000",
                    "2025-04-25T14:56:02.000000000",
                    "2025-04-25T14:56:03.000000000",
                    "2025-04-25T14:56:04.000000000",
                    "2025-04-25T14:56:05.000000000",
                    "2025-04-25T14:56:06.000000000",
                    "2025-04-25T14:56:07.000000000",
                    "2025-04-25T14:56:08.000000000",
                    "2025-04-25T14:56:09.000000000",
                    "2025-04-25T14:56:10.000000000",
                    "2025-04-25T14:56:11.000000000",
                    "2025-04-25T14:56:12.000000000",
                    "2025-04-25T14:56:13.000000000",
                    "2025-04-25T14:56:14.000000000",
                    "2025-04-25T14:56:15.000000000",
                    "2025-04-25T14:56:16.000000000",
                    "2025-04-25T14:56:17.000000000",
                    "2025-04-25T14:56:18.000000000",
                    "2025-04-25T14:56:19.000000000",
                    "2025-04-25T14:56:20.000000000",
                    "2025-04-25T14:56:21.000000000",
                    "2025-04-25T14:56:22.000000000",
                    "2025-04-25T14:56:23.000000000",
                    "2025-04-25T14:56:24.000000000",
                    "2025-04-25T14:56:25.000000000",
                    "2025-04-25T14:56:26.000000000",
                    "2025-04-25T14:56:27.000000000",
                    "2025-04-25T14:56:28.000000000",
                    "2025-04-25T14:56:29.000000000",
                    "2025-04-25T14:56:30.000000000",
                    "2025-04-25T14:56:31.000000000",
                    "2025-04-25T14:56:32.000000000",
                    "2025-04-25T14:56:33.000000000",
                    "2025-04-25T14:56:34.000000000",
                    "2025-04-25T14:56:35.000000000",
                    "2025-04-25T14:56:36.000000000",
                    "2025-04-25T14:56:37.000000000",
                    "2025-04-25T14:56:38.000000000",
                    "2025-04-25T14:56:39.000000000",
                    "2025-04-25T14:56:40.000000000",
                    "2025-04-25T14:56:41.000000000",
                    "2025-04-25T14:56:42.000000000",
                    "2025-04-25T14:56:43.000000000",
                    "2025-04-25T14:56:44.000000000",
                    "2025-04-25T14:56:45.000000000",
                    "2025-04-25T14:56:46.000000000",
                    "2025-04-25T14:56:47.000000000",
                    "2025-04-25T14:56:48.000000000",
                    "2025-04-25T14:56:49.000000000",
                    "2025-04-25T14:56:50.000000000",
                    "2025-04-25T14:56:51.000000000",
                    "2025-04-25T14:56:52.000000000",
                    "2025-04-25T14:56:53.000000000",
                    "2025-04-25T14:56:54.000000000",
                    "2025-04-25T14:56:55.000000000",
                    "2025-04-25T14:56:56.000000000",
                    "2025-04-25T14:56:57.000000000",
                    "2025-04-25T14:56:58.000000000",
                    "2025-04-25T14:56:59.000000000",
                    "2025-04-25T14:57:00.000000000",
                    "2025-04-25T14:57:01.000000000",
                    "2025-04-25T14:57:02.000000000",
                    "2025-04-25T14:57:03.000000000",
                    "2025-04-25T14:57:04.000000000",
                    "2025-04-25T14:57:05.000000000",
                    "2025-04-25T14:57:06.000000000",
                    "2025-04-25T14:57:07.000000000",
                    "2025-04-25T14:57:08.000000000",
                    "2025-04-25T14:57:09.000000000",
                    "2025-04-25T14:57:10.000000000",
                    "2025-04-25T14:57:11.000000000",
                    "2025-04-25T14:57:12.000000000",
                    "2025-04-25T14:57:13.000000000",
                    "2025-04-25T14:57:14.000000000",
                    "2025-04-25T14:57:15.000000000",
                    "2025-04-25T14:57:16.000000000",
                    "2025-04-25T14:57:17.000000000",
                    "2025-04-25T14:57:18.000000000",
                    "2025-04-25T14:57:19.000000000",
                    "2025-04-25T14:57:20.000000000",
                    "2025-04-25T14:57:21.000000000",
                    "2025-04-25T14:57:22.000000000",
                    "2025-04-25T14:57:23.000000000",
                    "2025-04-25T14:57:24.000000000",
                    "2025-04-25T14:57:25.000000000",
                    "2025-04-25T14:57:26.000000000",
                    "2025-04-25T14:57:27.000000000",
                    "2025-04-25T14:57:28.000000000",
                    "2025-04-25T14:57:29.000000000",
                    "2025-04-25T14:57:30.000000000",
                    "2025-04-25T14:57:31.000000000",
                    "2025-04-25T14:57:32.000000000",
                    "2025-04-25T14:57:33.000000000",
                    "2025-04-25T14:57:34.000000000",
                    "2025-04-25T14:57:35.000000000",
                    "2025-04-25T14:57:36.000000000",
                    "2025-04-25T14:57:37.000000000",
                    "2025-04-25T14:57:38.000000000",
                    "2025-04-25T14:57:39.000000000",
                    "2025-04-25T14:57:40.000000000",
                    "2025-04-25T14:57:41.000000000",
                    "2025-04-25T14:57:42.000000000",
                    "2025-04-25T14:57:43.000000000",
                    "2025-04-25T14:57:44.000000000",
                    "2025-04-25T14:57:45.000000000",
                    "2025-04-25T14:57:46.000000000",
                    "2025-04-25T14:57:47.000000000",
                    "2025-04-25T14:57:48.000000000",
                    "2025-04-25T14:57:49.000000000",
                    "2025-04-25T14:57:50.000000000",
                    "2025-04-25T14:57:51.000000000",
                    "2025-04-25T14:57:52.000000000",
                    "2025-04-25T14:57:53.000000000",
                    "2025-04-25T14:57:54.000000000",
                    "2025-04-25T14:57:55.000000000",
                    "2025-04-25T14:57:56.000000000",
                    "2025-04-25T14:57:57.000000000",
                    "2025-04-25T14:57:58.000000000",
                    "2025-04-25T14:57:59.000000000",
                    "2025-04-25T14:58:00.000000000",
                    "2025-04-25T14:58:01.000000000",
                    "2025-04-25T14:58:02.000000000",
                    "2025-04-25T14:58:03.000000000",
                    "2025-04-25T14:58:04.000000000",
                    "2025-04-25T14:58:05.000000000",
                    "2025-04-25T14:58:06.000000000",
                    "2025-04-25T14:58:07.000000000",
                    "2025-04-25T14:58:09.000000000",
                    "2025-04-25T14:58:10.000000000",
                    "2025-04-25T14:58:11.000000000",
                    "2025-04-25T14:58:12.000000000",
                    "2025-04-25T14:58:13.000000000",
                    "2025-04-25T14:58:14.000000000",
                    "2025-04-25T14:58:15.000000000",
                    "2025-04-25T14:58:16.000000000",
                    "2025-04-25T14:58:17.000000000",
                    "2025-04-25T14:58:18.000000000",
                    "2025-04-25T14:58:19.000000000",
                    "2025-04-25T14:58:20.000000000",
                    "2025-04-25T14:58:21.000000000",
                    "2025-04-25T14:58:22.000000000",
                    "2025-04-25T14:58:23.000000000",
                    "2025-04-25T14:58:24.000000000",
                    "2025-04-25T14:58:25.000000000",
                    "2025-04-25T14:58:26.000000000",
                    "2025-04-25T14:58:27.000000000",
                    "2025-04-25T14:58:28.000000000",
                    "2025-04-25T14:58:29.000000000",
                    "2025-04-25T14:58:30.000000000",
                    "2025-04-25T14:58:31.000000000",
                    "2025-04-25T14:58:32.000000000",
                    "2025-04-25T14:58:33.000000000",
                    "2025-04-25T14:58:34.000000000",
                    "2025-04-25T14:58:35.000000000",
                    "2025-04-25T14:58:36.000000000",
                    "2025-04-25T14:58:37.000000000",
                    "2025-04-25T14:58:38.000000000",
                    "2025-04-25T14:58:39.000000000",
                    "2025-04-25T14:58:40.000000000",
                    "2025-04-25T14:58:41.000000000",
                    "2025-04-25T14:58:42.000000000",
                    "2025-04-25T14:58:43.000000000",
                    "2025-04-25T14:58:44.000000000",
                    "2025-04-25T14:58:45.000000000",
                    "2025-04-25T14:58:46.000000000",
                    "2025-04-25T14:58:47.000000000",
                    "2025-04-25T14:58:48.000000000",
                    "2025-04-25T14:58:49.000000000",
                    "2025-04-25T14:58:50.000000000",
                    "2025-04-25T14:58:51.000000000",
                    "2025-04-25T14:58:52.000000000",
                    "2025-04-25T14:58:53.000000000",
                    "2025-04-25T14:58:54.000000000",
                    "2025-04-25T14:58:55.000000000",
                    "2025-04-25T14:58:56.000000000",
                    "2025-04-25T14:58:57.000000000",
                    "2025-04-25T14:58:58.000000000",
                    "2025-04-25T14:58:59.000000000",
                    "2025-04-25T14:59:00.000000000",
                    "2025-04-25T14:59:01.000000000",
                    "2025-04-25T14:59:02.000000000",
                    "2025-04-25T14:59:03.000000000",
                    "2025-04-25T14:59:04.000000000",
                    "2025-04-25T14:59:05.000000000",
                    "2025-04-25T14:59:06.000000000",
                    "2025-04-25T14:59:07.000000000",
                    "2025-04-25T14:59:08.000000000",
                    "2025-04-25T14:59:09.000000000",
                    "2025-04-25T14:59:10.000000000",
                    "2025-04-25T14:59:11.000000000",
                    "2025-04-25T14:59:12.000000000",
                    "2025-04-25T14:59:13.000000000",
                    "2025-04-25T14:59:14.000000000",
                    "2025-04-25T14:59:15.000000000",
                    "2025-04-25T14:59:16.000000000",
                    "2025-04-25T14:59:17.000000000",
                    "2025-04-25T14:59:18.000000000",
                    "2025-04-25T14:59:19.000000000",
                    "2025-04-25T14:59:20.000000000",
                    "2025-04-25T14:59:21.000000000",
                    "2025-04-25T14:59:22.000000000",
                    "2025-04-25T14:59:23.000000000",
                    "2025-04-25T14:59:24.000000000",
                    "2025-04-25T14:59:25.000000000",
                    "2025-04-25T14:59:26.000000000",
                    "2025-04-25T14:59:27.000000000",
                    "2025-04-25T14:59:28.000000000",
                    "2025-04-25T14:59:29.000000000",
                    "2025-04-25T14:59:30.000000000",
                    "2025-04-25T14:59:31.000000000",
                    "2025-04-25T14:59:32.000000000",
                    "2025-04-25T14:59:33.000000000",
                    "2025-04-25T14:59:34.000000000",
                    "2025-04-25T14:59:35.000000000",
                    "2025-04-25T14:59:36.000000000",
                    "2025-04-25T14:59:37.000000000",
                    "2025-04-25T14:59:38.000000000",
                    "2025-04-25T14:59:39.000000000",
                    "2025-04-25T14:59:40.000000000",
                    "2025-04-25T14:59:41.000000000",
                    "2025-04-25T14:59:42.000000000",
                    "2025-04-25T14:59:43.000000000",
                    "2025-04-25T14:59:44.000000000",
                    "2025-04-25T14:59:45.000000000",
                    "2025-04-25T14:59:46.000000000",
                    "2025-04-25T14:59:47.000000000",
                    "2025-04-25T14:59:48.000000000",
                    "2025-04-25T14:59:49.000000000",
                    "2025-04-25T14:59:50.000000000",
                    "2025-04-25T14:59:51.000000000",
                    "2025-04-25T14:59:52.000000000",
                    "2025-04-25T14:59:53.000000000",
                    "2025-04-25T14:59:54.000000000",
                    "2025-04-25T14:59:55.000000000",
                    "2025-04-25T14:59:56.000000000",
                    "2025-04-25T14:59:57.000000000",
                    "2025-04-25T14:59:58.000000000",
                    "2025-04-25T14:59:59.000000000",
                    "2025-04-25T15:00:00.000000000",
                    "2025-04-25T15:00:01.000000000",
                    "2025-04-25T15:00:02.000000000",
                    "2025-04-25T15:00:03.000000000",
                    "2025-04-25T15:00:04.000000000",
                    "2025-04-25T15:00:05.000000000",
                    "2025-04-25T15:00:06.000000000",
                    "2025-04-25T15:00:07.000000000",
                    "2025-04-25T15:00:08.000000000",
                    "2025-04-25T15:00:09.000000000",
                    "2025-04-25T15:00:10.000000000",
                    "2025-04-25T15:00:11.000000000",
                    "2025-04-25T15:00:12.000000000",
                    "2025-04-25T15:00:13.000000000",
                    "2025-04-25T15:00:14.000000000",
                    "2025-04-25T15:00:15.000000000",
                    "2025-04-25T15:00:16.000000000",
                    "2025-04-25T15:00:17.000000000",
                    "2025-04-25T15:00:18.000000000",
                    "2025-04-25T15:00:19.000000000",
                    "2025-04-25T15:00:20.000000000",
                    "2025-04-25T15:00:21.000000000",
                    "2025-04-25T15:00:22.000000000",
                    "2025-04-25T15:00:23.000000000",
                    "2025-04-25T15:00:24.000000000",
                    "2025-04-25T15:00:25.000000000",
                    "2025-04-25T15:00:26.000000000",
                    "2025-04-25T15:00:27.000000000",
                    "2025-04-25T15:00:28.000000000",
                    "2025-04-25T15:00:29.000000000",
                    "2025-04-25T15:00:30.000000000",
                    "2025-04-25T15:00:31.000000000",
                    "2025-04-25T15:00:32.000000000",
                    "2025-04-25T15:00:33.000000000",
                    "2025-04-25T15:00:34.000000000",
                    "2025-04-25T15:00:35.000000000",
                    "2025-04-25T15:00:36.000000000",
                    "2025-04-25T15:00:37.000000000",
                    "2025-04-25T15:00:38.000000000",
                    "2025-04-25T15:00:39.000000000",
                    "2025-04-25T15:00:40.000000000",
                    "2025-04-25T15:00:41.000000000",
                    "2025-04-25T15:00:42.000000000",
                    "2025-04-25T15:00:43.000000000",
                    "2025-04-25T15:00:44.000000000",
                    "2025-04-25T15:00:45.000000000",
                    "2025-04-25T15:00:46.000000000",
                    "2025-04-25T15:00:47.000000000",
                    "2025-04-25T15:00:48.000000000",
                    "2025-04-25T15:00:49.000000000",
                    "2025-04-25T15:00:50.000000000",
                    "2025-04-25T15:00:51.000000000",
                    "2025-04-25T15:00:52.000000000",
                    "2025-04-25T15:00:53.000000000",
                    "2025-04-25T15:00:54.000000000",
                    "2025-04-25T15:00:55.000000000",
                    "2025-04-25T15:00:56.000000000",
                    "2025-04-25T15:00:57.000000000",
                    "2025-04-25T15:00:58.000000000",
                    "2025-04-25T15:00:59.000000000",
                    "2025-04-25T15:01:00.000000000",
                    "2025-04-25T15:01:01.000000000",
                    "2025-04-25T15:01:02.000000000",
                    "2025-04-25T15:01:03.000000000",
                    "2025-04-25T15:01:04.000000000",
                    "2025-04-25T15:01:05.000000000",
                    "2025-04-25T15:01:06.000000000",
                    "2025-04-25T15:01:07.000000000",
                    "2025-04-25T15:01:08.000000000",
                    "2025-04-25T15:01:09.000000000",
                    "2025-04-25T15:01:10.000000000",
                    "2025-04-25T15:01:11.000000000",
                    "2025-04-25T15:01:12.000000000",
                    "2025-04-25T15:01:13.000000000",
                    "2025-04-25T15:01:15.000000000",
                    "2025-04-25T15:01:16.000000000",
                    "2025-04-25T15:01:17.000000000",
                    "2025-04-25T15:01:18.000000000",
                    "2025-04-25T15:01:19.000000000",
                    "2025-04-25T15:01:20.000000000",
                    "2025-04-25T15:01:21.000000000",
                    "2025-04-25T15:01:22.000000000",
                    "2025-04-25T15:01:23.000000000",
                    "2025-04-25T15:01:24.000000000",
                    "2025-04-25T15:01:25.000000000",
                    "2025-04-25T15:01:26.000000000",
                    "2025-04-25T15:01:27.000000000",
                    "2025-04-25T15:01:28.000000000",
                    "2025-04-25T15:01:29.000000000",
                    "2025-04-25T15:01:30.000000000",
                    "2025-04-25T15:01:31.000000000",
                    "2025-04-25T15:01:32.000000000",
                    "2025-04-25T15:01:33.000000000",
                    "2025-04-25T15:01:34.000000000",
                    "2025-04-25T15:01:35.000000000",
                    "2025-04-25T15:01:36.000000000",
                    "2025-04-25T15:01:37.000000000",
                    "2025-04-25T15:01:38.000000000",
                    "2025-04-25T15:01:39.000000000",
                    "2025-04-25T15:01:40.000000000",
                    "2025-04-25T15:01:41.000000000",
                    "2025-04-25T15:01:42.000000000",
                    "2025-04-25T15:01:43.000000000",
                    "2025-04-25T15:01:44.000000000",
                    "2025-04-25T15:01:45.000000000",
                    "2025-04-25T15:01:46.000000000",
                    "2025-04-25T15:01:47.000000000",
                    "2025-04-25T15:01:48.000000000",
                    "2025-04-25T15:01:49.000000000",
                    "2025-04-25T15:01:50.000000000",
                    "2025-04-25T15:01:51.000000000",
                    "2025-04-25T15:01:52.000000000",
                    "2025-04-25T15:01:53.000000000",
                    "2025-04-25T15:01:54.000000000",
                    "2025-04-25T15:01:55.000000000",
                    "2025-04-25T15:01:56.000000000",
                    "2025-04-25T15:01:57.000000000",
                    "2025-04-25T15:01:58.000000000",
                    "2025-04-25T15:01:59.000000000",
                    "2025-04-25T15:02:00.000000000",
                    "2025-04-25T15:02:01.000000000"
                  ],
                  "y": {
                    "bdata": "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",
                    "dtype": "i2"
                  }
                }
              ],
              "layout": {
                "template": {
                  "data": {
                    "bar": [
                      {
                        "error_x": {
                          "color": "#2a3f5f"
                        },
                        "error_y": {
                          "color": "#2a3f5f"
                        },
                        "marker": {
                          "line": {
                            "color": "#E5ECF6",
                            "width": 0.5
                          },
                          "pattern": {
                            "fillmode": "overlay",
                            "size": 10,
                            "solidity": 0.2
                          }
                        },
                        "type": "bar"
                      }
                    ],
                    "barpolar": [
                      {
                        "marker": {
                          "line": {
                            "color": "#E5ECF6",
                            "width": 0.5
                          },
                          "pattern": {
                            "fillmode": "overlay",
                            "size": 10,
                            "solidity": 0.2
                          }
                        },
                        "type": "barpolar"
                      }
                    ],
                    "carpet": [
                      {
                        "aaxis": {
                          "endlinecolor": "#2a3f5f",
                          "gridcolor": "white",
                          "linecolor": "white",
                          "minorgridcolor": "white",
                          "startlinecolor": "#2a3f5f"
                        },
                        "baxis": {
                          "endlinecolor": "#2a3f5f",
                          "gridcolor": "white",
                          "linecolor": "white",
                          "minorgridcolor": "white",
                          "startlinecolor": "#2a3f5f"
                        },
                        "type": "carpet"
                      }
                    ],
                    "choropleth": [
                      {
                        "colorbar": {
                          "outlinewidth": 0,
                          "ticks": ""
                        },
                        "type": "choropleth"
                      }
                    ],
                    "contour": [
                      {
                        "colorbar": {
                          "outlinewidth": 0,
                          "ticks": ""
                        },
                        "colorscale": [
                          [
                            0,
                            "#0d0887"
                          ],
                          [
                            0.1111111111111111,
                            "#46039f"
                          ],
                          [
                            0.2222222222222222,
                            "#7201a8"
                          ],
                          [
                            0.3333333333333333,
                            "#9c179e"
                          ],
                          [
                            0.4444444444444444,
                            "#bd3786"
                          ],
                          [
                            0.5555555555555556,
                            "#d8576b"
                          ],
                          [
                            0.6666666666666666,
                            "#ed7953"
                          ],
                          [
                            0.7777777777777778,
                            "#fb9f3a"
                          ],
                          [
                            0.8888888888888888,
                            "#fdca26"
                          ],
                          [
                            1,
                            "#f0f921"
                          ]
                        ],
                        "type": "contour"
                      }
                    ],
                    "contourcarpet": [
                      {
                        "colorbar": {
                          "outlinewidth": 0,
                          "ticks": ""
                        },
                        "type": "contourcarpet"
                      }
                    ],
                    "heatmap": [
                      {
                        "colorbar": {
                          "outlinewidth": 0,
                          "ticks": ""
                        },
                        "colorscale": [
                          [
                            0,
                            "#0d0887"
                          ],
                          [
                            0.1111111111111111,
                            "#46039f"
                          ],
                          [
                            0.2222222222222222,
                            "#7201a8"
                          ],
                          [
                            0.3333333333333333,
                            "#9c179e"
                          ],
                          [
                            0.4444444444444444,
                            "#bd3786"
                          ],
                          [
                            0.5555555555555556,
                            "#d8576b"
                          ],
                          [
                            0.6666666666666666,
                            "#ed7953"
                          ],
                          [
                            0.7777777777777778,
                            "#fb9f3a"
                          ],
                          [
                            0.8888888888888888,
                            "#fdca26"
                          ],
                          [
                            1,
                            "#f0f921"
                          ]
                        ],
                        "type": "heatmap"
                      }
                    ],
                    "histogram": [
                      {
                        "marker": {
                          "pattern": {
                            "fillmode": "overlay",
                            "size": 10,
                            "solidity": 0.2
                          }
                        },
                        "type": "histogram"
                      }
                    ],
                    "histogram2d": [
                      {
                        "colorbar": {
                          "outlinewidth": 0,
                          "ticks": ""
                        },
                        "colorscale": [
                          [
                            0,
                            "#0d0887"
                          ],
                          [
                            0.1111111111111111,
                            "#46039f"
                          ],
                          [
                            0.2222222222222222,
                            "#7201a8"
                          ],
                          [
                            0.3333333333333333,
                            "#9c179e"
                          ],
                          [
                            0.4444444444444444,
                            "#bd3786"
                          ],
                          [
                            0.5555555555555556,
                            "#d8576b"
                          ],
                          [
                            0.6666666666666666,
                            "#ed7953"
                          ],
                          [
                            0.7777777777777778,
                            "#fb9f3a"
                          ],
                          [
                            0.8888888888888888,
                            "#fdca26"
                          ],
                          [
                            1,
                            "#f0f921"
                          ]
                        ],
                        "type": "histogram2d"
                      }
                    ],
                    "histogram2dcontour": [
                      {
                        "colorbar": {
                          "outlinewidth": 0,
                          "ticks": ""
                        },
                        "colorscale": [
                          [
                            0,
                            "#0d0887"
                          ],
                          [
                            0.1111111111111111,
                            "#46039f"
                          ],
                          [
                            0.2222222222222222,
                            "#7201a8"
                          ],
                          [
                            0.3333333333333333,
                            "#9c179e"
                          ],
                          [
                            0.4444444444444444,
                            "#bd3786"
                          ],
                          [
                            0.5555555555555556,
                            "#d8576b"
                          ],
                          [
                            0.6666666666666666,
                            "#ed7953"
                          ],
                          [
                            0.7777777777777778,
                            "#fb9f3a"
                          ],
                          [
                            0.8888888888888888,
                            "#fdca26"
                          ],
                          [
                            1,
                            "#f0f921"
                          ]
                        ],
                        "type": "histogram2dcontour"
                      }
                    ],
                    "mesh3d": [
                      {
                        "colorbar": {
                          "outlinewidth": 0,
                          "ticks": ""
                        },
                        "type": "mesh3d"
                      }
                    ],
                    "parcoords": [
                      {
                        "line": {
                          "colorbar": {
                            "outlinewidth": 0,
                            "ticks": ""
                          }
                        },
                        "type": "parcoords"
                      }
                    ],
                    "pie": [
                      {
                        "automargin": true,
                        "type": "pie"
                      }
                    ],
                    "scatter": [
                      {
                        "fillpattern": {
                          "fillmode": "overlay",
                          "size": 10,
                          "solidity": 0.2
                        },
                        "type": "scatter"
                      }
                    ],
                    "scatter3d": [
                      {
                        "line": {
                          "colorbar": {
                            "outlinewidth": 0,
                            "ticks": ""
                          }
                        },
                        "marker": {
                          "colorbar": {
                            "outlinewidth": 0,
                            "ticks": ""
                          }
                        },
                        "type": "scatter3d"
                      }
                    ],
                    "scattercarpet": [
                      {
                        "marker": {
                          "colorbar": {
                            "outlinewidth": 0,
                            "ticks": ""
                          }
                        },
                        "type": "scattercarpet"
                      }
                    ],
                    "scattergeo": [
                      {
                        "marker": {
                          "colorbar": {
                            "outlinewidth": 0,
                            "ticks": ""
                          }
                        },
                        "type": "scattergeo"
                      }
                    ],
                    "scattergl": [
                      {
                        "marker": {
                          "colorbar": {
                            "outlinewidth": 0,
                            "ticks": ""
                          }
                        },
                        "type": "scattergl"
                      }
                    ],
                    "scattermap": [
                      {
                        "marker": {
                          "colorbar": {
                            "outlinewidth": 0,
                            "ticks": ""
                          }
                        },
                        "type": "scattermap"
                      }
                    ],
                    "scattermapbox": [
                      {
                        "marker": {
                          "colorbar": {
                            "outlinewidth": 0,
                            "ticks": ""
                          }
                        },
                        "type": "scattermapbox"
                      }
                    ],
                    "scatterpolar": [
                      {
                        "marker": {
                          "colorbar": {
                            "outlinewidth": 0,
                            "ticks": ""
                          }
                        },
                        "type": "scatterpolar"
                      }
                    ],
                    "scatterpolargl": [
                      {
                        "marker": {
                          "colorbar": {
                            "outlinewidth": 0,
                            "ticks": ""
                          }
                        },
                        "type": "scatterpolargl"
                      }
                    ],
                    "scatterternary": [
                      {
                        "marker": {
                          "colorbar": {
                            "outlinewidth": 0,
                            "ticks": ""
                          }
                        },
                        "type": "scatterternary"
                      }
                    ],
                    "surface": [
                      {
                        "colorbar": {
                          "outlinewidth": 0,
                          "ticks": ""
                        },
                        "colorscale": [
                          [
                            0,
                            "#0d0887"
                          ],
                          [
                            0.1111111111111111,
                            "#46039f"
                          ],
                          [
                            0.2222222222222222,
                            "#7201a8"
                          ],
                          [
                            0.3333333333333333,
                            "#9c179e"
                          ],
                          [
                            0.4444444444444444,
                            "#bd3786"
                          ],
                          [
                            0.5555555555555556,
                            "#d8576b"
                          ],
                          [
                            0.6666666666666666,
                            "#ed7953"
                          ],
                          [
                            0.7777777777777778,
                            "#fb9f3a"
                          ],
                          [
                            0.8888888888888888,
                            "#fdca26"
                          ],
                          [
                            1,
                            "#f0f921"
                          ]
                        ],
                        "type": "surface"
                      }
                    ],
                    "table": [
                      {
                        "cells": {
                          "fill": {
                            "color": "#EBF0F8"
                          },
                          "line": {
                            "color": "white"
                          }
                        },
                        "header": {
                          "fill": {
                            "color": "#C8D4E3"
                          },
                          "line": {
                            "color": "white"
                          }
                        },
                        "type": "table"
                      }
                    ]
                  },
                  "layout": {
                    "annotationdefaults": {
                      "arrowcolor": "#2a3f5f",
                      "arrowhead": 0,
                      "arrowwidth": 1
                    },
                    "autotypenumbers": "strict",
                    "coloraxis": {
                      "colorbar": {
                        "outlinewidth": 0,
                        "ticks": ""
                      }
                    },
                    "colorscale": {
                      "diverging": [
                        [
                          0,
                          "#8e0152"
                        ],
                        [
                          0.1,
                          "#c51b7d"
                        ],
                        [
                          0.2,
                          "#de77ae"
                        ],
                        [
                          0.3,
                          "#f1b6da"
                        ],
                        [
                          0.4,
                          "#fde0ef"
                        ],
                        [
                          0.5,
                          "#f7f7f7"
                        ],
                        [
                          0.6,
                          "#e6f5d0"
                        ],
                        [
                          0.7,
                          "#b8e186"
                        ],
                        [
                          0.8,
                          "#7fbc41"
                        ],
                        [
                          0.9,
                          "#4d9221"
                        ],
                        [
                          1,
                          "#276419"
                        ]
                      ],
                      "sequential": [
                        [
                          0,
                          "#0d0887"
                        ],
                        [
                          0.1111111111111111,
                          "#46039f"
                        ],
                        [
                          0.2222222222222222,
                          "#7201a8"
                        ],
                        [
                          0.3333333333333333,
                          "#9c179e"
                        ],
                        [
                          0.4444444444444444,
                          "#bd3786"
                        ],
                        [
                          0.5555555555555556,
                          "#d8576b"
                        ],
                        [
                          0.6666666666666666,
                          "#ed7953"
                        ],
                        [
                          0.7777777777777778,
                          "#fb9f3a"
                        ],
                        [
                          0.8888888888888888,
                          "#fdca26"
                        ],
                        [
                          1,
                          "#f0f921"
                        ]
                      ],
                      "sequentialminus": [
                        [
                          0,
                          "#0d0887"
                        ],
                        [
                          0.1111111111111111,
                          "#46039f"
                        ],
                        [
                          0.2222222222222222,
                          "#7201a8"
                        ],
                        [
                          0.3333333333333333,
                          "#9c179e"
                        ],
                        [
                          0.4444444444444444,
                          "#bd3786"
                        ],
                        [
                          0.5555555555555556,
                          "#d8576b"
                        ],
                        [
                          0.6666666666666666,
                          "#ed7953"
                        ],
                        [
                          0.7777777777777778,
                          "#fb9f3a"
                        ],
                        [
                          0.8888888888888888,
                          "#fdca26"
                        ],
                        [
                          1,
                          "#f0f921"
                        ]
                      ]
                    },
                    "colorway": [
                      "#636efa",
                      "#EF553B",
                      "#00cc96",
                      "#ab63fa",
                      "#FFA15A",
                      "#19d3f3",
                      "#FF6692",
                      "#B6E880",
                      "#FF97FF",
                      "#FECB52"
                    ],
                    "font": {
                      "color": "#2a3f5f"
                    },
                    "geo": {
                      "bgcolor": "white",
                      "lakecolor": "white",
                      "landcolor": "#E5ECF6",
                      "showlakes": true,
                      "showland": true,
                      "subunitcolor": "white"
                    },
                    "hoverlabel": {
                      "align": "left"
                    },
                    "hovermode": "closest",
                    "mapbox": {
                      "style": "light"
                    },
                    "paper_bgcolor": "white",
                    "plot_bgcolor": "#E5ECF6",
                    "polar": {
                      "angularaxis": {
                        "gridcolor": "white",
                        "linecolor": "white",
                        "ticks": ""
                      },
                      "bgcolor": "#E5ECF6",
                      "radialaxis": {
                        "gridcolor": "white",
                        "linecolor": "white",
                        "ticks": ""
                      }
                    },
                    "scene": {
                      "xaxis": {
                        "backgroundcolor": "#E5ECF6",
                        "gridcolor": "white",
                        "gridwidth": 2,
                        "linecolor": "white",
                        "showbackground": true,
                        "ticks": "",
                        "zerolinecolor": "white"
                      },
                      "yaxis": {
                        "backgroundcolor": "#E5ECF6",
                        "gridcolor": "white",
                        "gridwidth": 2,
                        "linecolor": "white",
                        "showbackground": true,
                        "ticks": "",
                        "zerolinecolor": "white"
                      },
                      "zaxis": {
                        "backgroundcolor": "#E5ECF6",
                        "gridcolor": "white",
                        "gridwidth": 2,
                        "linecolor": "white",
                        "showbackground": true,
                        "ticks": "",
                        "zerolinecolor": "white"
                      }
                    },
                    "shapedefaults": {
                      "line": {
                        "color": "#2a3f5f"
                      }
                    },
                    "ternary": {
                      "aaxis": {
                        "gridcolor": "white",
                        "linecolor": "white",
                        "ticks": ""
                      },
                      "baxis": {
                        "gridcolor": "white",
                        "linecolor": "white",
                        "ticks": ""
                      },
                      "bgcolor": "#E5ECF6",
                      "caxis": {
                        "gridcolor": "white",
                        "linecolor": "white",
                        "ticks": ""
                      }
                    },
                    "title": {
                      "x": 0.05
                    },
                    "xaxis": {
                      "automargin": true,
                      "gridcolor": "white",
                      "linecolor": "white",
                      "ticks": "",
                      "title": {
                        "standoff": 15
                      },
                      "zerolinecolor": "white",
                      "zerolinewidth": 2
                    },
                    "yaxis": {
                      "automargin": true,
                      "gridcolor": "white",
                      "linecolor": "white",
                      "ticks": "",
                      "title": {
                        "standoff": 15
                      },
                      "zerolinecolor": "white",
                      "zerolinewidth": 2
                    }
                  }
                },
                "title": {
                  "text": "ADC Values vs Pressure"
                },
                "xaxis": {
                  "title": {
                    "text": "Pressure (bar)"
                  }
                },
                "yaxis": {
                  "title": {
                    "text": "ADC Value"
                  }
                }
              }
            }
          },
          "metadata": {},
          "output_type": "display_data"
        }
      ],
      "source": [
        "import pandas as pd\n",
        "import plotly.graph_objects as go\n",
        "\n",
        "# 1. Load the CSV\n",
        "pt2 = pd.read_csv('2025-04-25-pressure-test-2[raw].csv', parse_dates=['datetime'])\n",
        "\n",
        "# 2. Bin by DataValue and compute mean ADC values per bin\n",
        "\n",
        "\n",
        "# 3. Plot with Plotly\n",
        "fig = go.Figure()\n",
        "\n",
        "# Add a line for each ADC channel\n",
        "for adc_col in ['ADC0', 'ADC1', 'ADC2']:\n",
        "    fig.add_trace(go.Scatter(\n",
        "        x=pt2['datetime'],\n",
        "        y=pt2[adc_col],\n",
        "        mode='lines+markers',\n",
        "        name=adc_col\n",
        "    ))\n",
        "\n",
        "# 4. Format the plot\n",
        "fig.update_layout(\n",
        "    title='ADC Values vs Pressure',\n",
        "    xaxis_title='Pressure (bar)',\n",
        "    yaxis_title='ADC Value',\n",
        "\n",
        ")\n",
        "\n",
        "fig.show()\n"
      ]
    },
    {
      "cell_type": "code",
      "execution_count": 6,
      "metadata": {},
      "outputs": [
        {
          "data": {
            "application/vnd.plotly.v1+json": {
              "config": {
                "plotlyServerURL": "https://plot.ly"
              },
              "data": [
                {
                  "mode": "lines+markers",
                  "name": "ADC0",
                  "type": "scatter",
                  "x": {
                    "bdata": "AAAUACgAPABQAGQAeACMAKAA",
                    "dtype": "i2"
                  },
                  "y": {
                    "bdata": "xIgRI0bqoEA7qIM6qNWhQDMzMzMzkaJAjvrORn29o0DlNZTX0HOlQAdpkAZprqdAbtu2bdvyqEAZnI/B+fqnQJeWlpaWfqRA",
                    "dtype": "f8"
                  }
                },
                {
                  "mode": "lines+markers",
                  "name": "ADC1",
                  "type": "scatter",
                  "x": {
                    "bdata": "AAAUACgAPABQAGQAeACMAKAA",
                    "dtype": "i2"
                  },
                  "y": {
                    "bdata": "7ty5c+cApUAP6qAO6tyoQN7d3d3dcadAUt/ZqO/+o0DKayivoTqfQN/yLd/ydZZAep7neZ5/kEBL1K5E7dKOQEtLS0tLg5JA",
                    "dtype": "f8"
                  }
                },
                {
                  "mode": "lines+markers",
                  "name": "ADC2",
                  "type": "scatter",
                  "x": {
                    "bdata": "AAAUACgAPABQAGQAeACMAKAA",
                    "dtype": "i2"
                  },
                  "y": {
                    "bdata": "8uPHjx+Pn0BJkiRJkuSPQIMt2IItWJBAVxCTK4jRk0C9hvIays2XQJAGaZAGzZpAkiRJkiS9nECD8zE4H9+dQNPS0tLStp5A",
                    "dtype": "f8"
                  }
                }
              ],
              "layout": {
                "template": {
                  "data": {
                    "bar": [
                      {
                        "error_x": {
                          "color": "#2a3f5f"
                        },
                        "error_y": {
                          "color": "#2a3f5f"
                        },
                        "marker": {
                          "line": {
                            "color": "#E5ECF6",
                            "width": 0.5
                          },
                          "pattern": {
                            "fillmode": "overlay",
                            "size": 10,
                            "solidity": 0.2
                          }
                        },
                        "type": "bar"
                      }
                    ],
                    "barpolar": [
                      {
                        "marker": {
                          "line": {
                            "color": "#E5ECF6",
                            "width": 0.5
                          },
                          "pattern": {
                            "fillmode": "overlay",
                            "size": 10,
                            "solidity": 0.2
                          }
                        },
                        "type": "barpolar"
                      }
                    ],
                    "carpet": [
                      {
                        "aaxis": {
                          "endlinecolor": "#2a3f5f",
                          "gridcolor": "white",
                          "linecolor": "white",
                          "minorgridcolor": "white",
                          "startlinecolor": "#2a3f5f"
                        },
                        "baxis": {
                          "endlinecolor": "#2a3f5f",
                          "gridcolor": "white",
                          "linecolor": "white",
                          "minorgridcolor": "white",
                          "startlinecolor": "#2a3f5f"
                        },
                        "type": "carpet"
                      }
                    ],
                    "choropleth": [
                      {
                        "colorbar": {
                          "outlinewidth": 0,
                          "ticks": ""
                        },
                        "type": "choropleth"
                      }
                    ],
                    "contour": [
                      {
                        "colorbar": {
                          "outlinewidth": 0,
                          "ticks": ""
                        },
                        "colorscale": [
                          [
                            0,
                            "#0d0887"
                          ],
                          [
                            0.1111111111111111,
                            "#46039f"
                          ],
                          [
                            0.2222222222222222,
                            "#7201a8"
                          ],
                          [
                            0.3333333333333333,
                            "#9c179e"
                          ],
                          [
                            0.4444444444444444,
                            "#bd3786"
                          ],
                          [
                            0.5555555555555556,
                            "#d8576b"
                          ],
                          [
                            0.6666666666666666,
                            "#ed7953"
                          ],
                          [
                            0.7777777777777778,
                            "#fb9f3a"
                          ],
                          [
                            0.8888888888888888,
                            "#fdca26"
                          ],
                          [
                            1,
                            "#f0f921"
                          ]
                        ],
                        "type": "contour"
                      }
                    ],
                    "contourcarpet": [
                      {
                        "colorbar": {
                          "outlinewidth": 0,
                          "ticks": ""
                        },
                        "type": "contourcarpet"
                      }
                    ],
                    "heatmap": [
                      {
                        "colorbar": {
                          "outlinewidth": 0,
                          "ticks": ""
                        },
                        "colorscale": [
                          [
                            0,
                            "#0d0887"
                          ],
                          [
                            0.1111111111111111,
                            "#46039f"
                          ],
                          [
                            0.2222222222222222,
                            "#7201a8"
                          ],
                          [
                            0.3333333333333333,
                            "#9c179e"
                          ],
                          [
                            0.4444444444444444,
                            "#bd3786"
                          ],
                          [
                            0.5555555555555556,
                            "#d8576b"
                          ],
                          [
                            0.6666666666666666,
                            "#ed7953"
                          ],
                          [
                            0.7777777777777778,
                            "#fb9f3a"
                          ],
                          [
                            0.8888888888888888,
                            "#fdca26"
                          ],
                          [
                            1,
                            "#f0f921"
                          ]
                        ],
                        "type": "heatmap"
                      }
                    ],
                    "histogram": [
                      {
                        "marker": {
                          "pattern": {
                            "fillmode": "overlay",
                            "size": 10,
                            "solidity": 0.2
                          }
                        },
                        "type": "histogram"
                      }
                    ],
                    "histogram2d": [
                      {
                        "colorbar": {
                          "outlinewidth": 0,
                          "ticks": ""
                        },
                        "colorscale": [
                          [
                            0,
                            "#0d0887"
                          ],
                          [
                            0.1111111111111111,
                            "#46039f"
                          ],
                          [
                            0.2222222222222222,
                            "#7201a8"
                          ],
                          [
                            0.3333333333333333,
                            "#9c179e"
                          ],
                          [
                            0.4444444444444444,
                            "#bd3786"
                          ],
                          [
                            0.5555555555555556,
                            "#d8576b"
                          ],
                          [
                            0.6666666666666666,
                            "#ed7953"
                          ],
                          [
                            0.7777777777777778,
                            "#fb9f3a"
                          ],
                          [
                            0.8888888888888888,
                            "#fdca26"
                          ],
                          [
                            1,
                            "#f0f921"
                          ]
                        ],
                        "type": "histogram2d"
                      }
                    ],
                    "histogram2dcontour": [
                      {
                        "colorbar": {
                          "outlinewidth": 0,
                          "ticks": ""
                        },
                        "colorscale": [
                          [
                            0,
                            "#0d0887"
                          ],
                          [
                            0.1111111111111111,
                            "#46039f"
                          ],
                          [
                            0.2222222222222222,
                            "#7201a8"
                          ],
                          [
                            0.3333333333333333,
                            "#9c179e"
                          ],
                          [
                            0.4444444444444444,
                            "#bd3786"
                          ],
                          [
                            0.5555555555555556,
                            "#d8576b"
                          ],
                          [
                            0.6666666666666666,
                            "#ed7953"
                          ],
                          [
                            0.7777777777777778,
                            "#fb9f3a"
                          ],
                          [
                            0.8888888888888888,
                            "#fdca26"
                          ],
                          [
                            1,
                            "#f0f921"
                          ]
                        ],
                        "type": "histogram2dcontour"
                      }
                    ],
                    "mesh3d": [
                      {
                        "colorbar": {
                          "outlinewidth": 0,
                          "ticks": ""
                        },
                        "type": "mesh3d"
                      }
                    ],
                    "parcoords": [
                      {
                        "line": {
                          "colorbar": {
                            "outlinewidth": 0,
                            "ticks": ""
                          }
                        },
                        "type": "parcoords"
                      }
                    ],
                    "pie": [
                      {
                        "automargin": true,
                        "type": "pie"
                      }
                    ],
                    "scatter": [
                      {
                        "fillpattern": {
                          "fillmode": "overlay",
                          "size": 10,
                          "solidity": 0.2
                        },
                        "type": "scatter"
                      }
                    ],
                    "scatter3d": [
                      {
                        "line": {
                          "colorbar": {
                            "outlinewidth": 0,
                            "ticks": ""
                          }
                        },
                        "marker": {
                          "colorbar": {
                            "outlinewidth": 0,
                            "ticks": ""
                          }
                        },
                        "type": "scatter3d"
                      }
                    ],
                    "scattercarpet": [
                      {
                        "marker": {
                          "colorbar": {
                            "outlinewidth": 0,
                            "ticks": ""
                          }
                        },
                        "type": "scattercarpet"
                      }
                    ],
                    "scattergeo": [
                      {
                        "marker": {
                          "colorbar": {
                            "outlinewidth": 0,
                            "ticks": ""
                          }
                        },
                        "type": "scattergeo"
                      }
                    ],
                    "scattergl": [
                      {
                        "marker": {
                          "colorbar": {
                            "outlinewidth": 0,
                            "ticks": ""
                          }
                        },
                        "type": "scattergl"
                      }
                    ],
                    "scattermap": [
                      {
                        "marker": {
                          "colorbar": {
                            "outlinewidth": 0,
                            "ticks": ""
                          }
                        },
                        "type": "scattermap"
                      }
                    ],
                    "scattermapbox": [
                      {
                        "marker": {
                          "colorbar": {
                            "outlinewidth": 0,
                            "ticks": ""
                          }
                        },
                        "type": "scattermapbox"
                      }
                    ],
                    "scatterpolar": [
                      {
                        "marker": {
                          "colorbar": {
                            "outlinewidth": 0,
                            "ticks": ""
                          }
                        },
                        "type": "scatterpolar"
                      }
                    ],
                    "scatterpolargl": [
                      {
                        "marker": {
                          "colorbar": {
                            "outlinewidth": 0,
                            "ticks": ""
                          }
                        },
                        "type": "scatterpolargl"
                      }
                    ],
                    "scatterternary": [
                      {
                        "marker": {
                          "colorbar": {
                            "outlinewidth": 0,
                            "ticks": ""
                          }
                        },
                        "type": "scatterternary"
                      }
                    ],
                    "surface": [
                      {
                        "colorbar": {
                          "outlinewidth": 0,
                          "ticks": ""
                        },
                        "colorscale": [
                          [
                            0,
                            "#0d0887"
                          ],
                          [
                            0.1111111111111111,
                            "#46039f"
                          ],
                          [
                            0.2222222222222222,
                            "#7201a8"
                          ],
                          [
                            0.3333333333333333,
                            "#9c179e"
                          ],
                          [
                            0.4444444444444444,
                            "#bd3786"
                          ],
                          [
                            0.5555555555555556,
                            "#d8576b"
                          ],
                          [
                            0.6666666666666666,
                            "#ed7953"
                          ],
                          [
                            0.7777777777777778,
                            "#fb9f3a"
                          ],
                          [
                            0.8888888888888888,
                            "#fdca26"
                          ],
                          [
                            1,
                            "#f0f921"
                          ]
                        ],
                        "type": "surface"
                      }
                    ],
                    "table": [
                      {
                        "cells": {
                          "fill": {
                            "color": "#EBF0F8"
                          },
                          "line": {
                            "color": "white"
                          }
                        },
                        "header": {
                          "fill": {
                            "color": "#C8D4E3"
                          },
                          "line": {
                            "color": "white"
                          }
                        },
                        "type": "table"
                      }
                    ]
                  },
                  "layout": {
                    "annotationdefaults": {
                      "arrowcolor": "#2a3f5f",
                      "arrowhead": 0,
                      "arrowwidth": 1
                    },
                    "autotypenumbers": "strict",
                    "coloraxis": {
                      "colorbar": {
                        "outlinewidth": 0,
                        "ticks": ""
                      }
                    },
                    "colorscale": {
                      "diverging": [
                        [
                          0,
                          "#8e0152"
                        ],
                        [
                          0.1,
                          "#c51b7d"
                        ],
                        [
                          0.2,
                          "#de77ae"
                        ],
                        [
                          0.3,
                          "#f1b6da"
                        ],
                        [
                          0.4,
                          "#fde0ef"
                        ],
                        [
                          0.5,
                          "#f7f7f7"
                        ],
                        [
                          0.6,
                          "#e6f5d0"
                        ],
                        [
                          0.7,
                          "#b8e186"
                        ],
                        [
                          0.8,
                          "#7fbc41"
                        ],
                        [
                          0.9,
                          "#4d9221"
                        ],
                        [
                          1,
                          "#276419"
                        ]
                      ],
                      "sequential": [
                        [
                          0,
                          "#0d0887"
                        ],
                        [
                          0.1111111111111111,
                          "#46039f"
                        ],
                        [
                          0.2222222222222222,
                          "#7201a8"
                        ],
                        [
                          0.3333333333333333,
                          "#9c179e"
                        ],
                        [
                          0.4444444444444444,
                          "#bd3786"
                        ],
                        [
                          0.5555555555555556,
                          "#d8576b"
                        ],
                        [
                          0.6666666666666666,
                          "#ed7953"
                        ],
                        [
                          0.7777777777777778,
                          "#fb9f3a"
                        ],
                        [
                          0.8888888888888888,
                          "#fdca26"
                        ],
                        [
                          1,
                          "#f0f921"
                        ]
                      ],
                      "sequentialminus": [
                        [
                          0,
                          "#0d0887"
                        ],
                        [
                          0.1111111111111111,
                          "#46039f"
                        ],
                        [
                          0.2222222222222222,
                          "#7201a8"
                        ],
                        [
                          0.3333333333333333,
                          "#9c179e"
                        ],
                        [
                          0.4444444444444444,
                          "#bd3786"
                        ],
                        [
                          0.5555555555555556,
                          "#d8576b"
                        ],
                        [
                          0.6666666666666666,
                          "#ed7953"
                        ],
                        [
                          0.7777777777777778,
                          "#fb9f3a"
                        ],
                        [
                          0.8888888888888888,
                          "#fdca26"
                        ],
                        [
                          1,
                          "#f0f921"
                        ]
                      ]
                    },
                    "colorway": [
                      "#636efa",
                      "#EF553B",
                      "#00cc96",
                      "#ab63fa",
                      "#FFA15A",
                      "#19d3f3",
                      "#FF6692",
                      "#B6E880",
                      "#FF97FF",
                      "#FECB52"
                    ],
                    "font": {
                      "color": "#2a3f5f"
                    },
                    "geo": {
                      "bgcolor": "white",
                      "lakecolor": "white",
                      "landcolor": "#E5ECF6",
                      "showlakes": true,
                      "showland": true,
                      "subunitcolor": "white"
                    },
                    "hoverlabel": {
                      "align": "left"
                    },
                    "hovermode": "closest",
                    "mapbox": {
                      "style": "light"
                    },
                    "paper_bgcolor": "white",
                    "plot_bgcolor": "#E5ECF6",
                    "polar": {
                      "angularaxis": {
                        "gridcolor": "white",
                        "linecolor": "white",
                        "ticks": ""
                      },
                      "bgcolor": "#E5ECF6",
                      "radialaxis": {
                        "gridcolor": "white",
                        "linecolor": "white",
                        "ticks": ""
                      }
                    },
                    "scene": {
                      "xaxis": {
                        "backgroundcolor": "#E5ECF6",
                        "gridcolor": "white",
                        "gridwidth": 2,
                        "linecolor": "white",
                        "showbackground": true,
                        "ticks": "",
                        "zerolinecolor": "white"
                      },
                      "yaxis": {
                        "backgroundcolor": "#E5ECF6",
                        "gridcolor": "white",
                        "gridwidth": 2,
                        "linecolor": "white",
                        "showbackground": true,
                        "ticks": "",
                        "zerolinecolor": "white"
                      },
                      "zaxis": {
                        "backgroundcolor": "#E5ECF6",
                        "gridcolor": "white",
                        "gridwidth": 2,
                        "linecolor": "white",
                        "showbackground": true,
                        "ticks": "",
                        "zerolinecolor": "white"
                      }
                    },
                    "shapedefaults": {
                      "line": {
                        "color": "#2a3f5f"
                      }
                    },
                    "ternary": {
                      "aaxis": {
                        "gridcolor": "white",
                        "linecolor": "white",
                        "ticks": ""
                      },
                      "baxis": {
                        "gridcolor": "white",
                        "linecolor": "white",
                        "ticks": ""
                      },
                      "bgcolor": "#E5ECF6",
                      "caxis": {
                        "gridcolor": "white",
                        "linecolor": "white",
                        "ticks": ""
                      }
                    },
                    "title": {
                      "x": 0.05
                    },
                    "xaxis": {
                      "automargin": true,
                      "gridcolor": "white",
                      "linecolor": "white",
                      "ticks": "",
                      "title": {
                        "standoff": 15
                      },
                      "zerolinecolor": "white",
                      "zerolinewidth": 2
                    },
                    "yaxis": {
                      "automargin": true,
                      "gridcolor": "white",
                      "linecolor": "white",
                      "ticks": "",
                      "title": {
                        "standoff": 15
                      },
                      "zerolinecolor": "white",
                      "zerolinewidth": 2
                    }
                  }
                },
                "title": {
                  "text": "ADC Values vs Distance"
                },
                "xaxis": {
                  "title": {
                    "text": "Pressure (bar)"
                  }
                },
                "yaxis": {
                  "title": {
                    "text": "ADC Value"
                  }
                }
              }
            }
          },
          "metadata": {},
          "output_type": "display_data"
        }
      ],
      "source": [
        "pressure_slice_ranges = [0,\"14:49:30\",\"14:50:43\"],[20,\"14:51:50\",\"14:52:59\"],[40,\"14:53:27\",\"14:54:11\"],[60,\"14:54:44\",\"14:55:30\"],[80,\"14:55:59\",\"14:57:14\"],[100,\"14:57:43\",\"14:58:22\"],[120,\"14:58:48\",\"14:59:29\"],[140,\"14:59:57\",\"15:00:37\"],[160,\"15:01:08\",\"15:01:42\"]\n",
        "\n",
        "pt2_slices = []\n",
        "\n",
        "for pressure, start, end in pressure_slice_ranges:\n",
        "    # Turn time into datetime with date being 2025-04-25\n",
        "    start_dt = pd.to_datetime(f\"2025-04-25 {start}\")\n",
        "    end_dt = pd.to_datetime(f\"2025-04-25 {end}\")\n",
        "    mask = (pt2['datetime'] >= start_dt) & (pt2['datetime'] <= end_dt)\n",
        "    pt2_slice = pt2.loc[mask].copy()\n",
        "    pt2_slice[\"Pressure\"] = pressure\n",
        "    pt2_slices.append(pt2_slice)\n",
        "\n",
        "# Concatenate all slices into a single DataFrame\n",
        "pt2_slices = pd.concat(pt2_slices, ignore_index=True)\n",
        "\n",
        "binned = pt2_slices.groupby('Pressure').agg({\n",
        "    'ADC0': 'mean',\n",
        "    'ADC1': 'mean',\n",
        "    'ADC2': 'mean'\n",
        "}).reset_index()\n",
        "\n",
        "# 5. Plot with Plotly\n",
        "fig = go.Figure()\n",
        "# Add a line for each ADC channel\n",
        "for adc_col in ['ADC0', 'ADC1', 'ADC2']:\n",
        "    fig.add_trace(go.Scatter(\n",
        "        x=binned['Pressure'],\n",
        "        y=binned[adc_col],\n",
        "        mode='lines+markers',\n",
        "        name=adc_col\n",
        "    ))\n",
        "\n",
        "# 4. Format the plot\n",
        "fig.update_layout(\n",
        "    title='ADC Values vs Distance',\n",
        "    xaxis_title='Pressure (bar)',\n",
        "    yaxis_title='ADC Value',\n",
        "\n",
        ")\n",
        "fig.show()\n",
        "#binned.to_csv(\"../data/processed/cornell-sensor/2025-04-25-pressure-test-2-binned.csv\", index=False)"
      ]
    },
    {
      "cell_type": "markdown",
      "metadata": {},
      "source": [
        "## Failure Analysis\n",
        "There isn't any serious destruction externally so I took some cross sections with a band saw. \n",
        "\n",
        "```{figure} ../images/jb/2025-04-25-cross-section-1.jpg\n",
        ":name: 2025-04-25-figure-cross-section-1\n",
        "on first cross section, no obvious failures anywhere\n",
        "```\n",
        "```{figure} ../images/jb/2025-04-25-cross-section-2.jpg\n",
        ":name: 2025-04-25-figure-cross-section-2\n",
        "Even on multiple cross sections there wasn't an obvious failure mode. \n",
        "```\n",
        "```{figure} ../images/jb/2025-04-25-cross-section-3.jpg\n",
        ":name: 2025-04-25-figure-cross-section-3\n",
        "ones that can be flipped are flipped in this one to see the other side.\n",
        "```"
      ]
    },
    {
      "cell_type": "markdown",
      "metadata": {},
      "source": [
        "## Volume Measurements\n",
        "I filled the vessel up to the top with tap water, and then emptied it in to a beaker and measured the mass of the water to get a volume measurement. \n",
        "- Pressure vessel: 247.35g\n",
        "- 5.15g to fill the end tube 101mm of distance (for volume to distance conversions)\n"
      ]
    },
    {
      "cell_type": "markdown",
      "metadata": {},
      "source": []
    }
  ],
  "metadata": {
    "kernelspec": {
      "display_name": "base",
      "language": "python",
      "name": "python3"
    },
    "language_info": {
      "codemirror_mode": {
        "name": "ipython",
        "version": 3
      },
      "file_extension": ".py",
      "mimetype": "text/x-python",
      "name": "python",
      "nbconvert_exporter": "python",
      "pygments_lexer": "ipython3",
      "version": "3.12.4"
    }
  },
  "nbformat": 4,
  "nbformat_minor": 2
}
