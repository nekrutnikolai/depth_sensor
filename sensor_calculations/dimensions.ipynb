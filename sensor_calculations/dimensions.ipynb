{
 "cells": [
  {
   "cell_type": "markdown",
   "metadata": {},
   "source": [
    "## Calculating the dimensions of the depth sensor\n",
    "\n",
    "The volume of the cylinder through which the magnet travels is given by the following expression:\n",
    "\n",
    "$$\\gamma = \\pi r_p^2 n \\lambda$$\n",
    "\n",
    "Since the cylinder has 1% of the volume, the volume of the reservoir is:\n",
    "\n",
    "$$V = 99 \\lambda$$\n",
    "\n",
    "To get a sense of how big the reservoir would be, we determine it's radius (assuming the height is 2x the radius):\n",
    "\n",
    "$$V = \\pi * r_r^2 * h = 2 \\pi * r_r^3$$\n",
    "\n",
    "$$V = 99 \\lambda = 99 \\pi r_p^2 n \\lambda$$\n",
    "\n",
    "$$r_r = (\\frac{99}{2} r_p^2 n \\lambda) ^ \\frac{1}{3}$$"
   ]
  },
  {
   "cell_type": "code",
   "execution_count": 5,
   "metadata": {},
   "outputs": [],
   "source": [
    "import numpy as np"
   ]
  },
  {
   "cell_type": "code",
   "execution_count": 81,
   "metadata": {},
   "outputs": [],
   "source": [
    "r_magnet = 2e-3 # 5mm\n",
    "r_piston = r_magnet + 2e-3 # 7mm\n",
    "\n",
    "l_magnet = 5e-3 # 10mm\n",
    "\n",
    "n_sensors = 8\n",
    "\n",
    "def calc_reservoir(r_piston, l_magnet, n_sensors, dec_places = 1):\n",
    "    r_resevoir = ((99 / 2) * (r_piston ** 2) * (n_sensors - 2) * l_magnet) ** (1 / 3)\n",
    "    print(\"radius of reservoir =\", round(r_resevoir * 1e3, dec_places), \"mm\")\n",
    "    print(\"diameter of reservoir =\", round(r_resevoir * 2 * 1e3, dec_places), \"mm\")\n",
    "    print(\"height of reservoir =\", round(r_resevoir * 2 * 1e3, dec_places), \"mm\")"
   ]
  },
  {
   "cell_type": "code",
   "execution_count": 82,
   "metadata": {},
   "outputs": [
    {
     "name": "stdout",
     "output_type": "stream",
     "text": [
      "radius of reservoir = 28.7 mm\n",
      "diameter of reservoir = 57.5 mm\n",
      "height of reservoir = 57.5 mm\n"
     ]
    }
   ],
   "source": [
    "calc_reservoir(r_piston, l_magnet, n_sensors)"
   ]
  },
  {
   "cell_type": "markdown",
   "metadata": {},
   "source": [
    "So with current magnetic setup, this is a large reservoir relative to the target nalgene-sized bottle"
   ]
  },
  {
   "cell_type": "code",
   "execution_count": null,
   "metadata": {},
   "outputs": [],
   "source": [
    "Why not measuer displacement with the piston but have the membran deform still?"
   ]
  }
 ],
 "metadata": {
  "kernelspec": {
   "display_name": "base",
   "language": "python",
   "name": "python3"
  },
  "language_info": {
   "codemirror_mode": {
    "name": "ipython",
    "version": 3
   },
   "file_extension": ".py",
   "mimetype": "text/x-python",
   "name": "python",
   "nbconvert_exporter": "python",
   "pygments_lexer": "ipython3",
   "version": "3.12.4"
  }
 },
 "nbformat": 4,
 "nbformat_minor": 2
}
