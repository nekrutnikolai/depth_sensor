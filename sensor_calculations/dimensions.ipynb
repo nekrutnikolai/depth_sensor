{
 "cells": [
  {
   "cell_type": "markdown",
   "metadata": {},
   "source": [
    "## Calculating the dimensions of the depth sensor\n",
    "\n",
    "The volume of the cylinder through which the magnet travels is given by the following expression:\n",
    "\n",
    "$$\\gamma = \\pi r_p^2 n \\lambda$$\n",
    "\n",
    "Since the cylinder has 1% of the volume, the volume of the reservoir is:\n",
    "\n",
    "$$V = 99 \\lambda$$\n",
    "\n",
    "To get a sense of how big the reservoir would be, we determine it's radius (assuming the height is 2x the radius):\n",
    "\n",
    "$$V = \\pi * r_r^2 * h = 2 \\pi * r_r^3$$\n",
    "\n",
    "$$V = 99 \\lambda = 99 \\pi r_p^2 n \\lambda$$\n",
    "\n",
    "$$r_r = (\\frac{99}{2} r_p^2 n \\lambda) ^ \\frac{1}{3}$$"
   ]
  },
  {
   "cell_type": "code",
   "execution_count": 13,
   "metadata": {},
   "outputs": [],
   "source": [
    "import numpy as np"
   ]
  },
  {
   "cell_type": "code",
   "execution_count": null,
   "metadata": {},
   "outputs": [],
   "source": [
    "def calc_reservoir(r_piston, l_magnet, n_sensors, dec_places = 1):\n",
    "    r_resevoir = ((99 / 2) * (r_piston ** 2) * (n_sensors) * l_magnet) ** (1 / 3)\n",
    "    print(\"radius of reservoir =\", round(r_resevoir * 1e3, dec_places), \"mm\")\n",
    "    print(\"diameter of reservoir =\", round(r_resevoir * 2 * 1e3, dec_places), \"mm\")\n",
    "    print(\"height of reservoir =\", round(r_resevoir * 2 * 1e3, dec_places), \"mm\")\n",
    "    print(\"are you sure you're using the right amount of sensors and spacing between them?\")"
   ]
  },
  {
   "cell_type": "markdown",
   "metadata": {},
   "source": [
    "How much cross-sectional area do ewe want the sensor to have so there is enough pressure to push the o-rings?\n",
    "\n",
    "Print final prototype on Formlabs 3D printer out of Rigid 10K? That would be a good look imo"
   ]
  },
  {
   "cell_type": "code",
   "execution_count": 33,
   "metadata": {},
   "outputs": [
    {
     "name": "stdout",
     "output_type": "stream",
     "text": [
      "radius of reservoir = 12.4 mm\n",
      "diameter of reservoir = 24.8 mm\n",
      "height of reservoir = 24.8 mm\n"
     ]
    }
   ],
   "source": [
    "# using two grooved magnets\n",
    "\n",
    "r_magnet = 1.6e-3 # 5mm\n",
    "r_piston = r_magnet\n",
    "\n",
    "l_magnet = 5e-3 # 10mm\n",
    "\n",
    "n_sensors = 3\n",
    "\n",
    "# with magnetic 3d printed piston & 4 x 12mm magnet\n",
    "calc_reservoir(r_piston, l_magnet, n_sensors)"
   ]
  },
  {
   "cell_type": "code",
   "execution_count": 34,
   "metadata": {},
   "outputs": [
    {
     "name": "stdout",
     "output_type": "stream",
     "text": [
      "radius of reservoir = 30.5 mm\n",
      "diameter of reservoir = 61.1 mm\n",
      "height of reservoir = 61.1 mm\n"
     ]
    }
   ],
   "source": [
    "r_magnet = 2e-3 # 5mm\n",
    "r_piston = r_magnet + 2e-3\n",
    "\n",
    "l_magnet = 12e-3 # 10mm\n",
    "\n",
    "n_sensors = 3\n",
    "\n",
    "# with magnetic 3d printed piston & 4 x 12mm magnet\n",
    "calc_reservoir(r_piston, l_magnet, n_sensors)"
   ]
  },
  {
   "cell_type": "markdown",
   "metadata": {},
   "source": [
    "So with current magnetic setup, this is a large reservoir relative to the target nalgene-sized bottle"
   ]
  },
  {
   "cell_type": "code",
   "execution_count": 16,
   "metadata": {},
   "outputs": [
    {
     "name": "stdout",
     "output_type": "stream",
     "text": [
      "radius of reservoir = 12.5 mm\n",
      "diameter of reservoir = 24.9 mm\n",
      "height of reservoir = 24.9 mm\n"
     ]
    }
   ],
   "source": [
    "# with grooved magnet, 1/8'' ~ 3.175mm\n",
    "# with grooved magnet, 1/10'' ~ 2.54mm\n",
    "\n",
    "calc_reservoir(1.6e-3, 2.54e-3, n_sensors)"
   ]
  },
  {
   "cell_type": "markdown",
   "metadata": {},
   "source": [
    "Think about distance from the reservoir and the boundary of the sensor, cuz this seems a bit small low-key"
   ]
  }
 ],
 "metadata": {
  "kernelspec": {
   "display_name": "base",
   "language": "python",
   "name": "python3"
  },
  "language_info": {
   "codemirror_mode": {
    "name": "ipython",
    "version": 3
   },
   "file_extension": ".py",
   "mimetype": "text/x-python",
   "name": "python",
   "nbconvert_exporter": "python",
   "pygments_lexer": "ipython3",
   "version": "3.12.4"
  }
 },
 "nbformat": 4,
 "nbformat_minor": 2
}
