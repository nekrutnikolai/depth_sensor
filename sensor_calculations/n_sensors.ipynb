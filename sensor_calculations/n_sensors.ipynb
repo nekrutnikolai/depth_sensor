{
 "cells": [
  {
   "cell_type": "markdown",
   "metadata": {},
   "source": [
    "## Calculating how many hall effect sensors we need\n",
    "\n",
    "The specification is to be able to work across the 2000m range with a resolution of +/- 10m. \n",
    "\n",
    "Thus, the minimum resultion we need to have is 2000m / 10m = 200 points.\n",
    "\n",
    "From [this article](https://pico-adc.markomo.me/ENOB/), the effective bits of the Pi Pico ADC is **8.84 bits**.\n",
    "\n",
    "With a conservative estimate, this is around 2 ^ 8.8 ~ 400 discrete values not affected by noise internal to the ADC\n",
    "\n",
    "As we can see, even having one hall effect sensor would be enough and would get us to within 5m resolution. \n",
    "\n",
    "Since there are three ADCs available on the Pi Pico and the Hall Effect sensors are quite inexpensive, we should proceed by utilizing three hall effect sensors, for approximately a 3 * 400 ~ 1200 point resolution for a range of 2000m, leading to a precision of about 1.67m.\n",
    "\n",
    "Going beyond that has little benefit"
   ]
  }
 ],
 "metadata": {
  "kernelspec": {
   "display_name": "base",
   "language": "python",
   "name": "python3"
  },
  "language_info": {
   "name": "python",
   "version": "3.12.4"
  }
 },
 "nbformat": 4,
 "nbformat_minor": 2
}
